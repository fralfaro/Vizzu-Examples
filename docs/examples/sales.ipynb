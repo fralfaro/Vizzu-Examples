{
 "cells": [
  {
   "cell_type": "markdown",
   "id": "c077b8e8",
   "metadata": {},
   "source": [
    " <a href=\"https://colab.research.google.com/github/fralfaro/Vizzu-Examples/blob/main/docs/examples/basic.ipynb\" target=\"_parent\"><img src=\"https://colab.research.google.com/assets/colab-badge.svg\" alt=\"Open In Colab\"/></a> \n",
    "\n",
    "# Sales\n",
    "\n",
    "\n",
    "> **Nota**: Si deseas ejecutar este ejemplo en [Google Colab](https://colab.research.google.com/), primero debes ejecutar la siguiente celda para instalar las librerías necesarias:\n",
    "> ```python\n",
    "> !pip install ipyvizzu pandas\n",
    "> ```"
   ]
  },
  {
   "cell_type": "code",
   "execution_count": 1,
   "id": "d82b4b64",
   "metadata": {},
   "outputs": [],
   "source": [
    "#!pip install ipyvizzu pandas"
   ]
  },
  {
   "cell_type": "code",
   "execution_count": 2,
   "id": "9dc1cb3e",
   "metadata": {},
   "outputs": [
    {
     "data": {
      "application/javascript": [
       "class IpyVizzu {\n",
       "  static version = \"0.16.1\";\n",
       "  static analytics = undefined;\n",
       "  static inhibitScroll = false;\n",
       "\n",
       "  constructor() {\n",
       "    document.addEventListener(\n",
       "      \"wheel\",\n",
       "      (evt) => {\n",
       "        IpyVizzu.inhibitScroll = true;\n",
       "      },\n",
       "      true,\n",
       "    );\n",
       "    document.addEventListener(\n",
       "      \"keydown\",\n",
       "      (evt) => {\n",
       "        IpyVizzu.inhibitScroll = true;\n",
       "      },\n",
       "      true,\n",
       "    );\n",
       "    document.addEventListener(\n",
       "      \"touchstart\",\n",
       "      (evt) => {\n",
       "        IpyVizzu.inhibitScroll = true;\n",
       "      },\n",
       "      true,\n",
       "    );\n",
       "\n",
       "    this.elements = {};\n",
       "    this.charts = {};\n",
       "    this.controls = {};\n",
       "\n",
       "    this.storage = {};\n",
       "    this.displays = {};\n",
       "\n",
       "    this.events = {};\n",
       "    this.loaded = {};\n",
       "    this.libs = {};\n",
       "  }\n",
       "\n",
       "  static clearInhibitScroll(element) {\n",
       "    IpyVizzu.inhibitScroll = false;\n",
       "  }\n",
       "\n",
       "  createChart(element, chartId, vizzulib, divWidth, divHeight) {\n",
       "    this.elements[chartId] = document.createElement(\"div\");\n",
       "    this.elements[\n",
       "      chartId\n",
       "    ].style.cssText = `width: ${divWidth}; height: ${divHeight};`;\n",
       "    this.loaded[chartId] = import(vizzulib);\n",
       "    this.charts[chartId] = this.loaded[chartId].then((Vizzu) => {\n",
       "      this.libs[chartId] = Vizzu.default;\n",
       "      const VizzuConstructor = Vizzu.default;\n",
       "      return new VizzuConstructor(this.elements[chartId]).initializing;\n",
       "    });\n",
       "    this._moveHere(chartId, element);\n",
       "  }\n",
       "\n",
       "  animate(\n",
       "    element,\n",
       "    chartId,\n",
       "    animId,\n",
       "    displayTarget,\n",
       "    scrollEnabled,\n",
       "    getChartTarget,\n",
       "    chartAnimOpts,\n",
       "  ) {\n",
       "    if (displayTarget === \"end\") this._moveHere(chartId, element);\n",
       "    this.controls[chartId] = this.charts[chartId];\n",
       "    this.charts[chartId] = this.charts[chartId].then((chart) => {\n",
       "      if (displayTarget === \"actual\") this._moveHere(chartId, element);\n",
       "      this._scroll(chartId, scrollEnabled);\n",
       "      let chartTarget = getChartTarget(this.libs[chartId]);\n",
       "      if (typeof chartTarget === \"string\") {\n",
       "        chartTarget = this.storage[chartTarget];\n",
       "      } else if (Array.isArray(chartTarget)) {\n",
       "        for (let i = 0; i < chartTarget.length; i++) {\n",
       "          const target = chartTarget[i].target;\n",
       "          if (typeof target === \"string\") {\n",
       "            chartTarget[i].target = this.storage[target];\n",
       "          }\n",
       "        }\n",
       "      }\n",
       "      chart = chart.animate(chartTarget, chartAnimOpts);\n",
       "      this.controls[animId] = chart;\n",
       "      return chart;\n",
       "    });\n",
       "  }\n",
       "\n",
       "  store(element, chartId, id) {\n",
       "    this.charts[chartId] = this.charts[chartId].then((chart) => {\n",
       "      this.storage[id] = chart.store();\n",
       "      return chart;\n",
       "    });\n",
       "  }\n",
       "\n",
       "  feature(element, chartId, name, enabled) {\n",
       "    this.charts[chartId] = this.charts[chartId].then((chart) => {\n",
       "      chart.feature(name, enabled);\n",
       "      return chart;\n",
       "    });\n",
       "  }\n",
       "\n",
       "  setEvent(element, chartId, id, event, handler) {\n",
       "    this.charts[chartId] = this.charts[chartId].then((chart) => {\n",
       "      this.events[id] = handler;\n",
       "      chart.on(event, this.events[id]);\n",
       "      return chart;\n",
       "    });\n",
       "  }\n",
       "\n",
       "  clearEvent(element, chartId, id, event) {\n",
       "    this.charts[chartId] = this.charts[chartId].then((chart) => {\n",
       "      chart.off(event, this.events[id]);\n",
       "      return chart;\n",
       "    });\n",
       "  }\n",
       "\n",
       "  log(element, chartId, chartProperty) {\n",
       "    this.charts[chartId] = this.charts[chartId].then((chart) => {\n",
       "      console.log(chart[chartProperty]);\n",
       "      return chart;\n",
       "    });\n",
       "  }\n",
       "\n",
       "  control(element, method, prevId, lastId, ...params) {\n",
       "    this.controls[prevId].then(() => {\n",
       "      this.controls[lastId].activated.then((control) => {\n",
       "        if (method === \"seek\") {\n",
       "          const value = params[0];\n",
       "          control[method](value);\n",
       "          return;\n",
       "        }\n",
       "        if (method === \"store\") {\n",
       "          const id = params[0];\n",
       "          this.storage[id] = control[method]();\n",
       "          return;\n",
       "        }\n",
       "        control[method]();\n",
       "      });\n",
       "    });\n",
       "  }\n",
       "\n",
       "  _moveHere(chartId, element) {\n",
       "    element.append(this.elements[chartId]);\n",
       "  }\n",
       "\n",
       "  _scroll(chartId, enabled) {\n",
       "    if (!IpyVizzu.inhibitScroll && enabled) {\n",
       "      this.elements[chartId].scrollIntoView({\n",
       "        behavior: \"auto\",\n",
       "        block: \"center\",\n",
       "      });\n",
       "    }\n",
       "  }\n",
       "\n",
       "  static _hide(element) {\n",
       "    document.getElementById(\n",
       "      element.selector.substring(1),\n",
       "    ).parentNode.style.display = \"none\";\n",
       "  }\n",
       "\n",
       "  static _display(prevElement, element) {\n",
       "    if (prevElement.parentNode) {\n",
       "      prevElement.parentNode.style.display = \"none\";\n",
       "    }\n",
       "    document.getElementById(\n",
       "      element.selector.substring(1),\n",
       "    ).parentNode.style.display = \"flex\";\n",
       "    document.getElementById(\n",
       "      element.selector.substring(1),\n",
       "    ).parentNode.style.margin = \"auto\";\n",
       "  }\n",
       "\n",
       "  static changeAnalyticsTo(analytics) {\n",
       "    if (IpyVizzu.analytics !== analytics) {\n",
       "      console.log(\"ipyvizzu gather usage stats:\", analytics);\n",
       "      IpyVizzu.analytics = analytics;\n",
       "    }\n",
       "    if (analytics) {\n",
       "      IpyVizzu._addHeadScript();\n",
       "    } else {\n",
       "      IpyVizzu._removeScript(\"ipyvizzu-analytics-head\");\n",
       "    }\n",
       "  }\n",
       "\n",
       "  static _addHeadScript() {\n",
       "    const scriptId = \"ipyvizzu-analytics-head\";\n",
       "    if (!IpyVizzu._isScriptAppended(scriptId)) {\n",
       "      const script = document.createElement(\"script\");\n",
       "      script.defer = true;\n",
       "      script.src = \"https://plausible.io/js/script.local.js\";\n",
       "      script.dataset.domain = \"usage.ipyvizzu.com\";\n",
       "      script.id = scriptId;\n",
       "      document.getElementsByTagName(\"head\")[0].appendChild(script);\n",
       "    }\n",
       "  }\n",
       "\n",
       "  static _isScriptAppended(id) {\n",
       "    return document.querySelector(`script[id=\"${id}\"]`) !== null;\n",
       "  }\n",
       "\n",
       "  static _removeScript(id) {\n",
       "    const script = document.getElementById(id);\n",
       "    if (script) script.remove();\n",
       "  }\n",
       "}\n",
       "\n",
       "if (IpyVizzu.version !== window.IpyVizzu?.version) {\n",
       "  window.IpyVizzu = IpyVizzu;\n",
       "  console.log(`ipyvizzu ${IpyVizzu.version}`);\n",
       "  window.ipyvizzu = new window.IpyVizzu();\n",
       "}\n"
      ]
     },
     "metadata": {},
     "output_type": "display_data"
    },
    {
     "data": {
      "application/javascript": [
       "if (window.IpyVizzu) window.IpyVizzu.changeAnalyticsTo(true);"
      ]
     },
     "metadata": {},
     "output_type": "display_data"
    },
    {
     "data": {
      "application/javascript": [
       "window.ipyvizzu.createChart(element, '3cebd5e', 'https://cdn.jsdelivr.net/npm/vizzu@0.8/dist/vizzu.min.js', '640px', '360px');"
      ]
     },
     "metadata": {},
     "output_type": "display_data"
    },
    {
     "data": {
      "application/javascript": [
       "window.ipyvizzu.animate(element, '3cebd5e', '3c35832', 'end', false, lib => { return {\"data\": {\"series\": [{\"name\": \"Region\", \"values\": [\"North\", \"North\", \"North\", \"North\", \"South\", \"South\", \"South\", \"South\", \"East\", \"East\", \"East\", \"East\", \"West\", \"West\", \"West\", \"West\"], \"type\": \"dimension\"}, {\"name\": \"Product\", \"values\": [\"Shoes\", \"Handbags\", \"Gloves\", \"Accessories\", \"Shoes\", \"Handbags\", \"Gloves\", \"Accessories\", \"Shoes\", \"Handbags\", \"Gloves\", \"Accessories\", \"Shoes\", \"Handbags\", \"Gloves\", \"Accessories\"], \"type\": \"dimension\"}, {\"name\": \"Sales\", \"values\": [4500.0, 7400.0, 2350.0, 8200.0, 3850.0, 6200.0, 3100.0, 10500.0, 2300.0, 3800.0, 7250.0, 5600.0, 4100.0, 6800.0, 3650.0, 7600.0], \"type\": \"measure\"}, {\"name\": \"Revenue [$]\", \"values\": [202500.0, 296000.0, 70500.0, 147600.0, 173250.0, 248000.0, 93000.0, 189000.0, 103500.0, 152000.0, 217500.0, 100800.0, 184500.0, 272000.0, 109500.0, 136800.0], \"type\": \"measure\"}]}} }, undefined);"
      ]
     },
     "metadata": {},
     "output_type": "display_data"
    },
    {
     "data": {
      "application/javascript": [
       "window.ipyvizzu.animate(element, '3cebd5e', 'f7b81c2', 'end', false, lib => { return {\"data\": {\"filter\": record => { return (record['Product'] == 'Shoes') }}, \"config\": {\"x\": \"Region\", \"y\": [\"Sales\", \"Product\"], \"label\": \"Sales\", \"color\": \"Product\", \"title\": \"Ventas de Zapatos\"}} }, undefined);"
      ]
     },
     "metadata": {},
     "output_type": "display_data"
    },
    {
     "data": {
      "application/javascript": [
       "window.ipyvizzu.animate(element, '3cebd5e', 'd8eea0f', 'end', false, lib => { return {\"data\": {\"filter\": record => { return (record['Product'] == 'Shoes' || record['Product'] == 'Handbags') }}, \"config\": {\"title\": \"Ventas de Zapatos y Bolsos\"}} }, {\"delay\": 1});"
      ]
     },
     "metadata": {},
     "output_type": "display_data"
    },
    {
     "data": {
      "application/javascript": [
       "window.ipyvizzu.animate(element, '3cebd5e', '5c87b11', 'end', false, lib => { return {\"data\": {\"filter\": record => { return (record['Product'] != 'Accessories') }}, \"config\": {\"title\": \"Ventas de Zapatos, Bolsos y Guantes\"}} }, {\"delay\": 1});"
      ]
     },
     "metadata": {},
     "output_type": "display_data"
    },
    {
     "data": {
      "application/javascript": [
       "window.ipyvizzu.animate(element, '3cebd5e', '5942a82', 'end', false, lib => { return {\"data\": {\"filter\": null}, \"config\": {\"title\": \"Ventas de Todos los Productos\"}} }, {\"delay\": 1});"
      ]
     },
     "metadata": {},
     "output_type": "display_data"
    },
    {
     "data": {
      "application/javascript": [
       "window.ipyvizzu.animate(element, '3cebd5e', '3b86e6e', 'end', false, lib => { return {\"config\": {\"y\": [\"Revenue [$]\", \"Product\"], \"label\": \"Revenue [$]\", \"title\": \"Ingresos de Todos los Productos\"}} }, {\"delay\": 1});"
      ]
     },
     "metadata": {},
     "output_type": "display_data"
    },
    {
     "data": {
      "application/javascript": [
       "window.ipyvizzu.animate(element, '3cebd5e', '9e28669', 'end', false, lib => { return {\"config\": {\"x\": [\"Region\", \"Revenue [$]\"], \"y\": \"Product\"}} }, {\"delay\": 2});"
      ]
     },
     "metadata": {},
     "output_type": "display_data"
    },
    {
     "data": {
      "application/javascript": [
       "window.ipyvizzu.animate(element, '3cebd5e', 'ba0ecfb', 'end', false, lib => { return {\"config\": {\"x\": \"Revenue [$]\", \"y\": \"Product\"}} }, undefined);"
      ]
     },
     "metadata": {},
     "output_type": "display_data"
    },
    {
     "data": {
      "application/javascript": [
       "window.ipyvizzu.animate(element, '3cebd5e', 'dad402e', 'end', false, lib => { return {\"config\": {\"coordSystem\": \"polar\", \"sort\": \"byValue\"}} }, {\"delay\": 1});"
      ]
     },
     "metadata": {},
     "output_type": "display_data"
    }
   ],
   "source": [
    "import pandas as pd  \n",
    "from ipyvizzu import Chart, Data, Config, Style, DisplayTarget \n",
    "\n",
    "# Cargamos los datos desde un archivo CSV en un DataFrame\n",
    "df = pd.read_csv(\n",
    "    \"https://ipyvizzu.vizzuhq.com/0.16/showcases/sales/sales.csv\"\n",
    ")\n",
    "\n",
    "data = Data()  # Creamos un objeto Data para manejar los datos\n",
    "data.add_df(df)  # Agregamos el DataFrame al objeto Data\n",
    "\n",
    "# Crear un objeto Chart con el ancho y el alto deseados \n",
    "chart = Chart(width=\"640px\", height=\"360px\",display=DisplayTarget.END)\n",
    "\n",
    "chart.animate(data)  # Animamos la gráfica utilizando los datos\n",
    "\n",
    "# Animación y configuración para mostrar las ventas de zapatos\n",
    "chart.animate(\n",
    "    Data.filter(\"record['Product'] == 'Shoes'\"),  # Filtramos por producto 'Shoes'\n",
    "    Config(\n",
    "        {\n",
    "            \"x\": \"Region\",\n",
    "            \"y\": [\"Sales\", \"Product\"],\n",
    "            \"label\": \"Sales\",\n",
    "            \"color\": \"Product\",\n",
    "            \"title\": \"Ventas de Zapatos\",\n",
    "        }\n",
    "    ),\n",
    ")\n",
    "\n",
    "# Animación y configuración para mostrar las ventas de zapatos y bolsos\n",
    "chart.animate(\n",
    "    Data.filter(\"record['Product'] == 'Shoes' || record['Product'] == 'Handbags'\"),\n",
    "    Config({\"title\": \"Ventas de Zapatos y Bolsos\"}),\n",
    "    delay=1,\n",
    ")\n",
    "\n",
    "# Animación y configuración para mostrar las ventas de zapatos, bolsos y guantes\n",
    "chart.animate(\n",
    "    Data.filter(\"record['Product'] != 'Accessories'\"),\n",
    "    Config({\"title\": \"Ventas de Zapatos, Bolsos y Guantes\"}),\n",
    "    delay=1,\n",
    ")\n",
    "\n",
    "# Animación y configuración para mostrar las ventas de todos los productos\n",
    "chart.animate(\n",
    "    Data.filter(None),\n",
    "    Config({\"title\": \"Ventas de Todos los Productos\"}),\n",
    "    delay=1,\n",
    ")\n",
    "\n",
    "# Animación y configuración para mostrar los ingresos de todos los productos\n",
    "chart.animate(\n",
    "    Config(\n",
    "        {\n",
    "            \"y\": [\"Revenue [$]\", \"Product\"],\n",
    "            \"label\": \"Revenue [$]\",\n",
    "            \"title\": \"Ingresos de Todos los Productos\",\n",
    "        }\n",
    "    ),\n",
    "    delay=1,\n",
    ")\n",
    "\n",
    "# Animación y configuración para cambiar los ejes y mostrar los productos en el eje x\n",
    "chart.animate(\n",
    "    Config({\"x\": [\"Region\", \"Revenue [$]\"], \"y\": \"Product\"}),\n",
    "    delay=2,\n",
    ")\n",
    "\n",
    "# Animación y configuración para cambiar los ejes y mostrar los productos en el eje y\n",
    "chart.animate(Config({\"x\": \"Revenue [$]\", \"y\": \"Product\"}))\n",
    "\n",
    "# Animación y configuración para cambiar al sistema de coordenadas polar\n",
    "chart.animate(Config({\"coordSystem\": \"polar\", \"sort\": \"byValue\"}), delay=1)"
   ]
  }
 ],
 "metadata": {
  "kernelspec": {
   "display_name": "Python 3 (ipykernel)",
   "language": "python",
   "name": "python3"
  },
  "language_info": {
   "codemirror_mode": {
    "name": "ipython",
    "version": 3
   },
   "file_extension": ".py",
   "mimetype": "text/x-python",
   "name": "python",
   "nbconvert_exporter": "python",
   "pygments_lexer": "ipython3",
   "version": "3.8.10"
  }
 },
 "nbformat": 4,
 "nbformat_minor": 5
}
