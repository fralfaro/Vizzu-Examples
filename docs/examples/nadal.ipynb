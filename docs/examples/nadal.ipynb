{
 "cells": [
  {
   "cell_type": "markdown",
   "id": "c2c2f623",
   "metadata": {},
   "source": [
    "# Rafael Nadal's matches"
   ]
  },
  {
   "cell_type": "code",
   "execution_count": 1,
   "id": "581d553b",
   "metadata": {},
   "outputs": [
    {
     "data": {
      "application/javascript": [
       "class IpyVizzu {\n",
       "  static version = \"0.16.1\";\n",
       "  static analytics = undefined;\n",
       "  static inhibitScroll = false;\n",
       "\n",
       "  constructor() {\n",
       "    document.addEventListener(\n",
       "      \"wheel\",\n",
       "      (evt) => {\n",
       "        IpyVizzu.inhibitScroll = true;\n",
       "      },\n",
       "      true,\n",
       "    );\n",
       "    document.addEventListener(\n",
       "      \"keydown\",\n",
       "      (evt) => {\n",
       "        IpyVizzu.inhibitScroll = true;\n",
       "      },\n",
       "      true,\n",
       "    );\n",
       "    document.addEventListener(\n",
       "      \"touchstart\",\n",
       "      (evt) => {\n",
       "        IpyVizzu.inhibitScroll = true;\n",
       "      },\n",
       "      true,\n",
       "    );\n",
       "\n",
       "    this.elements = {};\n",
       "    this.charts = {};\n",
       "    this.controls = {};\n",
       "\n",
       "    this.storage = {};\n",
       "    this.displays = {};\n",
       "\n",
       "    this.events = {};\n",
       "    this.loaded = {};\n",
       "    this.libs = {};\n",
       "  }\n",
       "\n",
       "  static clearInhibitScroll(element) {\n",
       "    IpyVizzu.inhibitScroll = false;\n",
       "  }\n",
       "\n",
       "  createChart(element, chartId, vizzulib, divWidth, divHeight) {\n",
       "    this.elements[chartId] = document.createElement(\"div\");\n",
       "    this.elements[\n",
       "      chartId\n",
       "    ].style.cssText = `width: ${divWidth}; height: ${divHeight};`;\n",
       "    this.loaded[chartId] = import(vizzulib);\n",
       "    this.charts[chartId] = this.loaded[chartId].then((Vizzu) => {\n",
       "      this.libs[chartId] = Vizzu.default;\n",
       "      const VizzuConstructor = Vizzu.default;\n",
       "      return new VizzuConstructor(this.elements[chartId]).initializing;\n",
       "    });\n",
       "    this._moveHere(chartId, element);\n",
       "  }\n",
       "\n",
       "  animate(\n",
       "    element,\n",
       "    chartId,\n",
       "    animId,\n",
       "    displayTarget,\n",
       "    scrollEnabled,\n",
       "    getChartTarget,\n",
       "    chartAnimOpts,\n",
       "  ) {\n",
       "    if (displayTarget === \"end\") this._moveHere(chartId, element);\n",
       "    this.controls[chartId] = this.charts[chartId];\n",
       "    this.charts[chartId] = this.charts[chartId].then((chart) => {\n",
       "      if (displayTarget === \"actual\") this._moveHere(chartId, element);\n",
       "      this._scroll(chartId, scrollEnabled);\n",
       "      let chartTarget = getChartTarget(this.libs[chartId]);\n",
       "      if (typeof chartTarget === \"string\") {\n",
       "        chartTarget = this.storage[chartTarget];\n",
       "      } else if (Array.isArray(chartTarget)) {\n",
       "        for (let i = 0; i < chartTarget.length; i++) {\n",
       "          const target = chartTarget[i].target;\n",
       "          if (typeof target === \"string\") {\n",
       "            chartTarget[i].target = this.storage[target];\n",
       "          }\n",
       "        }\n",
       "      }\n",
       "      chart = chart.animate(chartTarget, chartAnimOpts);\n",
       "      this.controls[animId] = chart;\n",
       "      return chart;\n",
       "    });\n",
       "  }\n",
       "\n",
       "  store(element, chartId, id) {\n",
       "    this.charts[chartId] = this.charts[chartId].then((chart) => {\n",
       "      this.storage[id] = chart.store();\n",
       "      return chart;\n",
       "    });\n",
       "  }\n",
       "\n",
       "  feature(element, chartId, name, enabled) {\n",
       "    this.charts[chartId] = this.charts[chartId].then((chart) => {\n",
       "      chart.feature(name, enabled);\n",
       "      return chart;\n",
       "    });\n",
       "  }\n",
       "\n",
       "  setEvent(element, chartId, id, event, handler) {\n",
       "    this.charts[chartId] = this.charts[chartId].then((chart) => {\n",
       "      this.events[id] = handler;\n",
       "      chart.on(event, this.events[id]);\n",
       "      return chart;\n",
       "    });\n",
       "  }\n",
       "\n",
       "  clearEvent(element, chartId, id, event) {\n",
       "    this.charts[chartId] = this.charts[chartId].then((chart) => {\n",
       "      chart.off(event, this.events[id]);\n",
       "      return chart;\n",
       "    });\n",
       "  }\n",
       "\n",
       "  log(element, chartId, chartProperty) {\n",
       "    this.charts[chartId] = this.charts[chartId].then((chart) => {\n",
       "      console.log(chart[chartProperty]);\n",
       "      return chart;\n",
       "    });\n",
       "  }\n",
       "\n",
       "  control(element, method, prevId, lastId, ...params) {\n",
       "    this.controls[prevId].then(() => {\n",
       "      this.controls[lastId].activated.then((control) => {\n",
       "        if (method === \"seek\") {\n",
       "          const value = params[0];\n",
       "          control[method](value);\n",
       "          return;\n",
       "        }\n",
       "        if (method === \"store\") {\n",
       "          const id = params[0];\n",
       "          this.storage[id] = control[method]();\n",
       "          return;\n",
       "        }\n",
       "        control[method]();\n",
       "      });\n",
       "    });\n",
       "  }\n",
       "\n",
       "  _moveHere(chartId, element) {\n",
       "    element.append(this.elements[chartId]);\n",
       "  }\n",
       "\n",
       "  _scroll(chartId, enabled) {\n",
       "    if (!IpyVizzu.inhibitScroll && enabled) {\n",
       "      this.elements[chartId].scrollIntoView({\n",
       "        behavior: \"auto\",\n",
       "        block: \"center\",\n",
       "      });\n",
       "    }\n",
       "  }\n",
       "\n",
       "  static _hide(element) {\n",
       "    document.getElementById(\n",
       "      element.selector.substring(1),\n",
       "    ).parentNode.style.display = \"none\";\n",
       "  }\n",
       "\n",
       "  static _display(prevElement, element) {\n",
       "    if (prevElement.parentNode) {\n",
       "      prevElement.parentNode.style.display = \"none\";\n",
       "    }\n",
       "    document.getElementById(\n",
       "      element.selector.substring(1),\n",
       "    ).parentNode.style.display = \"flex\";\n",
       "    document.getElementById(\n",
       "      element.selector.substring(1),\n",
       "    ).parentNode.style.margin = \"auto\";\n",
       "  }\n",
       "\n",
       "  static changeAnalyticsTo(analytics) {\n",
       "    if (IpyVizzu.analytics !== analytics) {\n",
       "      console.log(\"ipyvizzu gather usage stats:\", analytics);\n",
       "      IpyVizzu.analytics = analytics;\n",
       "    }\n",
       "    if (analytics) {\n",
       "      IpyVizzu._addHeadScript();\n",
       "    } else {\n",
       "      IpyVizzu._removeScript(\"ipyvizzu-analytics-head\");\n",
       "    }\n",
       "  }\n",
       "\n",
       "  static _addHeadScript() {\n",
       "    const scriptId = \"ipyvizzu-analytics-head\";\n",
       "    if (!IpyVizzu._isScriptAppended(scriptId)) {\n",
       "      const script = document.createElement(\"script\");\n",
       "      script.defer = true;\n",
       "      script.src = \"https://plausible.io/js/script.local.js\";\n",
       "      script.dataset.domain = \"usage.ipyvizzu.com\";\n",
       "      script.id = scriptId;\n",
       "      document.getElementsByTagName(\"head\")[0].appendChild(script);\n",
       "    }\n",
       "  }\n",
       "\n",
       "  static _isScriptAppended(id) {\n",
       "    return document.querySelector(`script[id=\"${id}\"]`) !== null;\n",
       "  }\n",
       "\n",
       "  static _removeScript(id) {\n",
       "    const script = document.getElementById(id);\n",
       "    if (script) script.remove();\n",
       "  }\n",
       "}\n",
       "\n",
       "if (IpyVizzu.version !== window.IpyVizzu?.version) {\n",
       "  window.IpyVizzu = IpyVizzu;\n",
       "  console.log(`ipyvizzu ${IpyVizzu.version}`);\n",
       "  window.ipyvizzu = new window.IpyVizzu();\n",
       "}\n"
      ]
     },
     "metadata": {},
     "output_type": "display_data"
    },
    {
     "data": {
      "application/javascript": [
       "if (window.IpyVizzu) window.IpyVizzu.changeAnalyticsTo(true);"
      ]
     },
     "metadata": {},
     "output_type": "display_data"
    },
    {
     "data": {
      "application/javascript": [
       "window.ipyvizzu.createChart(element, '361bbca', 'https://cdn.jsdelivr.net/npm/vizzu@0.8/dist/vizzu.min.js', '800px', '480px');"
      ]
     },
     "metadata": {},
     "output_type": "display_data"
    },
    {
     "data": {
      "application/javascript": [
       "window.ipyvizzu.animate(element, '361bbca', 'ca48383', 'end', false, lib => { return {\"data\": {\"series\": [{\"name\": \"Year\", \"values\": [\"2005\", \"2005\", \"2005\", \"2005\", \"2005\", \"2005\", \"2005\", \"2006\", \"2006\", \"2006\", \"2006\", \"2006\", \"2006\", \"2006\", \"2007\", \"2007\", \"2007\", \"2007\", \"2007\", \"2007\", \"2007\", \"2008\", \"2008\", \"2008\", \"2008\", \"2008\", \"2008\", \"2008\", \"2009\", \"2009\", \"2009\", \"2010\", \"2010\", \"2010\", \"2010\", \"2010\", \"2010\", \"2010\", \"2011\", \"2011\", \"2011\", \"2011\", \"2011\", \"2011\", \"2011\", \"2012\", \"2012\", \"2012\", \"2012\", \"2012\", \"2012\", \"2012\", \"2013\", \"2013\", \"2013\", \"2013\", \"2013\", \"2013\", \"2013\", \"2014\", \"2014\", \"2014\", \"2014\", \"2014\", \"2014\", \"2014\", \"2015\", \"2015\", \"2015\", \"2015\", \"2016\", \"2016\", \"2017\", \"2017\", \"2017\", \"2017\", \"2017\", \"2017\", \"2017\", \"2018\", \"2018\", \"2018\", \"2018\", \"2018\", \"2018\", \"2018\", \"2019\", \"2019\", \"2019\", \"2019\", \"2019\", \"2019\", \"2019\", \"2020\", \"2020\", \"2020\", \"2020\", \"2020\", \"2020\", \"2020\", \"2021\", \"2021\", \"2021\", \"2021\", \"2021\", \"2022\", \"2022\", \"2022\", \"2022\", \"2022\", \"2022\", \"2022\", \"2021\", \"2015\", \"2009\", \"2016\", \"Total\", \"Total\", \"Total\", \"Total\", \"Total\", \"Total\", \"Total\", \"Total\", \"Total\", \"Total\", \"Total\", \"Total\", \"Total\", \"Total\", \"Total\", \"Total\", \"Total\", \"Total\", \"Total\", \"Total\", \"Total\", \"Total\", \"Total\", \"Total\", \"Total\", \"Total\", \"Total\", \"Total\", \"Total\", \"Total\", \"Total\", \"Total\", \"Total\", \"Total\", \"Total\", \"Total\", \"Total\", \"Total\", \"Total\", \"Total\", \"Total\", \"Total\", \"Total\", \"Total\", \"Total\", \"Total\"], \"type\": \"dimension\"}, {\"name\": \"Result\", \"values\": [\"Won\", \"Won\", \"Won\", \"Won\", \"Won\", \"Won\", \"Won\", \"Won\", \"Won\", \"Won\", \"Won\", \"Won\", \"Won\", \"Won\", \"Won\", \"Won\", \"Won\", \"Won\", \"Won\", \"Won\", \"Won\", \"Won\", \"Won\", \"Won\", \"Won\", \"Won\", \"Won\", \"Won\", \"Won\", \"Won\", \"Won\", \"Won\", \"Won\", \"Won\", \"Won\", \"Won\", \"Won\", \"Won\", \"Won\", \"Won\", \"Won\", \"Won\", \"Won\", \"Won\", \"Won\", \"Won\", \"Won\", \"Won\", \"Won\", \"Won\", \"Won\", \"Won\", \"Won\", \"Won\", \"Won\", \"Won\", \"Won\", \"Won\", \"Won\", \"Won\", \"Won\", \"Won\", \"Won\", \"Won\", \"Won\", \"Won\", \"Won\", \"Won\", \"Won\", \"Won\", \"Won\", \"Won\", \"Won\", \"Won\", \"Won\", \"Won\", \"Won\", \"Won\", \"Won\", \"Won\", \"Won\", \"Won\", \"Won\", \"Won\", \"Won\", \"Won\", \"Won\", \"Won\", \"Won\", \"Won\", \"Won\", \"Won\", \"Won\", \"Won\", \"Won\", \"Won\", \"Won\", \"Won\", \"Won\", \"Won\", \"Won\", \"Won\", \"Won\", \"Won\", \"Won\", \"Won\", \"Won\", \"Won\", \"Won\", \"Won\", \"Won\", \"Won\", \"Lost\", \"Lost\", \"Lost\", \"Retired\", \"Won\", \"Won\", \"Won\", \"Won\", \"Won\", \"Won\", \"Won\", \"Won\", \"Won\", \"Won\", \"Won\", \"Won\", \"Won\", \"Won\", \"Won\", \"Won\", \"Won\", \"Won\", \"Won\", \"Won\", \"Won\", \"Won\", \"Won\", \"Won\", \"Won\", \"Won\", \"Won\", \"Won\", \"Won\", \"Won\", \"Won\", \"Won\", \"Won\", \"Won\", \"Won\", \"Won\", \"Won\", \"Won\", \"Won\", \"Won\", \"Won\", \"Won\", \"Won\", \"Won\", \"Won\", \"Won\"], \"type\": \"dimension\"}, {\"name\": \"Result_Num\", \"values\": [1.0, 1.0, 1.0, 1.0, 1.0, 1.0, 1.0, 1.0, 1.0, 1.0, 1.0, 1.0, 1.0, 1.0, 1.0, 1.0, 1.0, 1.0, 1.0, 1.0, 1.0, 1.0, 1.0, 1.0, 1.0, 1.0, 1.0, 1.0, 1.0, 1.0, 1.0, 1.0, 1.0, 1.0, 1.0, 1.0, 1.0, 1.0, 1.0, 1.0, 1.0, 1.0, 1.0, 1.0, 1.0, 1.0, 1.0, 1.0, 1.0, 1.0, 1.0, 1.0, 1.0, 1.0, 1.0, 1.0, 1.0, 1.0, 1.0, 1.0, 1.0, 1.0, 1.0, 1.0, 1.0, 1.0, 1.0, 1.0, 1.0, 1.0, 1.0, 1.0, 1.0, 1.0, 1.0, 1.0, 1.0, 1.0, 1.0, 1.0, 1.0, 1.0, 1.0, 1.0, 1.0, 1.0, 1.0, 1.0, 1.0, 1.0, 1.0, 1.0, 1.0, 1.0, 1.0, 1.0, 1.0, 1.0, 1.0, 1.0, 1.0, 1.0, 1.0, 1.0, 1.0, 1.0, 1.0, 1.0, 1.0, 1.0, 1.0, 1.0, 0.0, 0.0, 0.0, -1.0, 1.0, 1.0, 1.0, 1.0, 1.0, 1.0, 1.0, 1.0, 1.0, 1.0, 1.0, 1.0, 1.0, 1.0, 1.0, 1.0, 1.0, 1.0, 1.0, 1.0, 1.0, 1.0, 1.0, 1.0, 1.0, 1.0, 1.0, 1.0, 1.0, 1.0, 1.0, 1.0, 1.0, 1.0, 1.0, 1.0, 1.0, 1.0, 1.0, 1.0, 1.0, 1.0, 1.0, 1.0, 1.0, 1.0], \"type\": \"measure\"}, {\"name\": \"Round\", \"values\": [\"R128\", \"R64\", \"R32\", \"R16\", \"QF\", \"SF\", \"F\", \"F\", \"SF\", \"QF\", \"R16\", \"R32\", \"R64\", \"R128\", \"F\", \"SF\", \"QF\", \"R16\", \"R32\", \"R64\", \"R128\", \"F\", \"SF\", \"QF\", \"R16\", \"R32\", \"R64\", \"R128\", \"R32\", \"R64\", \"R128\", \"F\", \"SF\", \"QF\", \"R16\", \"R32\", \"R64\", \"R128\", \"F\", \"SF\", \"QF\", \"R16\", \"R32\", \"R64\", \"R128\", \"F\", \"SF\", \"QF\", \"R16\", \"R32\", \"R64\", \"R128\", \"F\", \"SF\", \"QF\", \"R16\", \"R32\", \"R64\", \"R128\", \"F\", \"SF\", \"QF\", \"R16\", \"R32\", \"R64\", \"R128\", \"R16\", \"R32\", \"R64\", \"R128\", \"R64\", \"R128\", \"F\", \"SF\", \"QF\", \"R16\", \"R32\", \"R64\", \"R128\", \"F\", \"SF\", \"QF\", \"R16\", \"R32\", \"R64\", \"R128\", \"F\", \"SF\", \"QF\", \"R16\", \"R32\", \"R64\", \"R128\", \"F\", \"SF\", \"QF\", \"R16\", \"R32\", \"R64\", \"R128\", \"QF\", \"R16\", \"R32\", \"R64\", \"R128\", \"R128\", \"R64\", \"R32\", \"R16\", \"QF\", \"SF\", \"F\", \"SF\", \"QF\", \"R16\", \"R32\", \"GS\", \"GS\", \"GS\", \"GS\", \"F\", \"F\", \"F\", \"F\", \"F\", \"F\", \"F\", \"GS\", \"F\", \"GS\", \"GS\", \"GS\", \"GS\", \"GS\", \"GS\", \"GS\", \"GS\", \"GS\", \"GS\", \"GS\", \"GS\", \"GS\", \"GS\", \"GS\", \"GS\", \"GS\", \"GS\", \"GS\", \"GS\", \"GS\", \"GS\", \"GS\", \"GS\", \"GS\", \"GS\", \"GS\", \"GS\", \"GS\", \"GS\", \"GS\", \"GS\", \"GS\"], \"type\": \"dimension\"}, {\"name\": \"Round2\", \"values\": [\"First round\", \"Second round\", \"Third round\", \"Fourth round\", \"Quarter-final\", \"Semi-final\", \"Final\", \"Final\", \"Semi-final\", \"Quarter-final\", \"Fourth round\", \"Third round\", \"Second round\", \"First round\", \"Final\", \"Semi-final\", \"Quarter-final\", \"Fourth round\", \"Third round\", \"Second round\", \"First round\", \"Final\", \"Semi-final\", \"Quarter-final\", \"Fourth round\", \"Third round\", \"Second round\", \"First round\", \"Third round\", \"Second round\", \"First round\", \"Final\", \"Semi-final\", \"Quarter-final\", \"Fourth round\", \"Third round\", \"Second round\", \"First round\", \"Final\", \"Semi-final\", \"Quarter-final\", \"Fourth round\", \"Third round\", \"Second round\", \"First round\", \"Final\", \"Semi-final\", \"Quarter-final\", \"Fourth round\", \"Third round\", \"Second round\", \"First round\", \"Final\", \"Semi-final\", \"Quarter-final\", \"Fourth round\", \"Third round\", \"Second round\", \"First round\", \"Final\", \"Semi-final\", \"Quarter-final\", \"Fourth round\", \"Third round\", \"Second round\", \"First round\", \"Fourth round\", \"Third round\", \"Second round\", \"First round\", \"Second round\", \"First round\", \"Final\", \"Semi-final\", \"Quarter-final\", \"Fourth round\", \"Third round\", \"Second round\", \"First round\", \"Final\", \"Semi-final\", \"Quarter-final\", \"Fourth round\", \"Third round\", \"Second round\", \"First round\", \"Final\", \"Semi-final\", \"Quarter-final\", \"Fourth round\", \"Third round\", \"Second round\", \"First round\", \"Final\", \"Semi-final\", \"Quarter-final\", \"Fourth round\", \"Third round\", \"Second round\", \"First round\", \"Quarter-final\", \"Fourth round\", \"Third round\", \"Second round\", \"First round\", \"First round\", \"Second round\", \"Third round\", \"Fourth round\", \"Quarter-final\", \"Semi-final\", \"Final\", \"Semi-final\", \"Quarter-final\", \"Fourth round\", \"Third round\", \"Grand Slam\", \"Grand Slam\", \"Grand Slam\", \"Grand Slam\", \"Final\", \"Final\", \"Final\", \"Final\", \"Final\", \"Final\", \"Final\", \"Grand Slam\", \"Final\", \"Grand Slam\", \"Grand Slam\", \"Grand Slam\", \"Grand Slam\", \"Grand Slam\", \"Grand Slam\", \"Grand Slam\", \"Grand Slam\", \"Grand Slam\", \"Grand Slam\", \"Grand Slam\", \"Grand Slam\", \"Grand Slam\", \"Grand Slam\", \"Grand Slam\", \"Grand Slam\", \"Grand Slam\", \"Grand Slam\", \"Grand Slam\", \"Grand Slam\", \"Grand Slam\", \"Grand Slam\", \"Grand Slam\", \"Grand Slam\", \"Grand Slam\", \"Grand Slam\", \"Grand Slam\", \"Grand Slam\", \"Grand Slam\", \"Grand Slam\", \"Grand Slam\", \"Grand Slam\", \"Grand Slam\"], \"type\": \"dimension\"}, {\"name\": \"Sets\", \"values\": [3.0, 3.0, 3.0, 4.0, 3.0, 4.0, 4.0, 4.0, 3.0, 2.0, 4.0, 4.0, 3.0, 3.0, 4.0, 3.0, 3.0, 3.0, 3.0, 3.0, 3.0, 3.0, 3.0, 3.0, 3.0, 3.0, 3.0, 3.0, 3.0, 3.0, 3.0, 3.0, 3.0, 3.0, 3.0, 3.0, 3.0, 3.0, 4.0, 3.0, 3.0, 3.0, 3.0, 3.0, 5.0, 4.0, 3.0, 3.0, 3.0, 3.0, 3.0, 3.0, 3.0, 5.0, 3.0, 3.0, 3.0, 4.0, 4.0, 4.0, 3.0, 4.0, 3.0, 3.0, 3.0, 3.0, 4.0, 3.0, 3.0, 3.0, 3.0, 3.0, 3.0, 3.0, 2.0, 3.0, 3.0, 3.0, 3.0, 3.0, 3.0, 4.0, 3.0, 3.0, 3.0, 3.0, 4.0, 3.0, 3.0, 3.0, 4.0, 3.0, 3.0, 3.0, 3.0, 3.0, 3.0, 3.0, 3.0, 3.0, 4.0, 3.0, 3.0, 3.0, 3.0, 3.0, 3.0, 3.0, 5.0, 4.0, 2.0, 3.0, 4.0, 3.0, 4.0, 0.0, 0.0, 0.0, 0.0, 0.0, 0.0, 0.0, 0.0, 0.0, 0.0, 0.0, 0.0, 0.0, 0.0, 0.0, 0.0, 0.0, 0.0, 0.0, 0.0, 0.0, 0.0, 0.0, 0.0, 0.0, 0.0, 0.0, 0.0, 0.0, 0.0, 0.0, 0.0, 0.0, 0.0, 0.0, 0.0, 0.0, 0.0, 0.0, 0.0, 0.0, 0.0, 0.0, 0.0, 0.0, 0.0, 0.0], \"type\": \"measure\"}, {\"name\": \"Opponent\", \"values\": [\"Lars Burgsmuller\", \"Xavier Malisse\", \"Richard Gasquet\", \"Sebastien Grosjean\", \"David Ferrer\", \"Roger Federer\", \"Mariano Puerta\", \"Roger Federer\", \"Ivan Ljubicic\", \"Novak Djokovic\", \"Lleyton Hewitt\", \"Paul Henri Mathieu\", \"Kevin Kim\", \"Robin Soderling\", \"Roger Federer\", \"Novak Djokovic\", \"Carlos Moya\", \"Lleyton Hewitt\", \"Albert Montanes\", \"Flavio Cipolla\", \"Juan Martin Del Potro\", \"Roger Federer\", \"Novak Djokovic\", \"Nicolas Almagro\", \"Fernando Verdasco\", \"Jarkko Nieminen\", \"Nicolas Devilder\", \"Thomaz Bellucci\", \"Lleyton Hewitt\", \"Teymuraz Gabashvili\", \"Marcos Daniel\", \"Robin Soderling\", \"Jurgen Melzer\", \"Nicolas Almagro\", \"Thomaz Bellucci\", \"Lleyton Hewitt\", \"Horacio Zeballos\", \"Gianni Mina\", \"Roger Federer\", \"Andy Murray\", \"Robin Soderling\", \"Ivan Ljubicic\", \"Antonio Veic\", \"Pablo Andujar\", \"John Isner\", \"Novak Djokovic\", \"David Ferrer\", \"Nicolas Almagro\", \"Juan Monaco\", \"Eduardo Schwank\", \"Denis Istomin\", \"Simone Bolelli\", \"David Ferrer\", \"Novak Djokovic\", \"Stan Wawrinka\", \"Kei Nishikori\", \"Fabio Fognini\", \"Martin Klizan\", \"Daniel Brands\", \"Novak Djokovic\", \"Andy Murray\", \"David Ferrer\", \"Dusan Lajovic\", \"Leonardo Mayer\", \"Dominic Thiem\", \"Robby Ginepri\", \"Jack Sock\", \"Andrey Kuznetsov\", \"Nicolas Almagro\", \"Quentin Halys\", \"Facundo Bagnis\", \"Samuel Groth\", \"Stan Wawrinka\", \"Dominic Thiem\", \"Pablo Carreno Busta\", \"Roberto Bautista Agut\", \"Nikoloz Basilashvili\", \"Robin Haase\", \"Benoit Paire\", \"Dominic Thiem\", \"Juan Martin Del Potro\", \"Diego Sebastian Schwartzman\", \"Maximilian Marterer\", \"Richard Gasquet\", \"Guido Pella\", \"Simone Bolelli\", \"Dominic Thiem\", \"Roger Federer\", \"Kei Nishikori\", \"Juan Ignacio Londero\", \"David Goffin\", \"Yannick Maden\", \"Yannick Hanfmann\", \"Novak Djokovic\", \"Diego Sebastian Schwartzman\", \"Jannik Sinner\", \"Sebastian Korda\", \"Stefano Travaglia\", \"Mackenzie Mcdonald\", \"Egor Gerasimov\", \"Diego Sebastian Schwartzman\", \"Jannik Sinner\", \"Cameron Norrie\", \"Richard Gasquet\", \"Alexei Popyrin\", \"Jordan Thompson\", \"Corentin Moutet\", \"Botic van de Zandschulp\", \"Felix Auger-Aliassime\", \"Novak Djokovic\", \"Alexander Zverev\", \"Casper Ruud\", \"Novak Djokovic\", \"Novak Djokovic\", \"Robin Soderling\", \"Marcel Granollers\", \"Nobody\", \"Nobody\", \"Nobody\", \"Nobody\", \"Nobody\", \"Nobody\", \"Nobody\", \"Nobody\", \"Nobody\", \"Nobody\", \"Nobody\", \"Nobody\", \"Nobody\", \"Nobody\", \"Nobody\", \"Nobody\", \"Nobody\", \"Nobody\", \"Nobody\", \"Nobody\", \"Nobody\", \"Nobody\", \"Nobody\", \"Nobody\", \"Nobody\", \"Nobody\", \"Nobody\", \"Nobody\", \"Nobody\", \"Nobody\", \"Nobody\", \"Nobody\", \"Nobody\", \"Nobody\", \"Nobody\", \"Nobody\", \"Nobody\", \"Nobody\", \"Nobody\", \"Nobody\", \"Nobody\", \"Nobody\", \"Nobody\", \"Nobody\", \"Nobody\", \"Nobody\"], \"type\": \"dimension\"}, {\"name\": \"Won\", \"values\": [1.0, 1.0, 1.0, 1.0, 1.0, 1.0, 1.0, 1.0, 1.0, 1.0, 1.0, 1.0, 1.0, 1.0, 1.0, 1.0, 1.0, 1.0, 1.0, 1.0, 1.0, 1.0, 1.0, 1.0, 1.0, 1.0, 1.0, 1.0, 1.0, 1.0, 1.0, 1.0, 1.0, 1.0, 1.0, 1.0, 1.0, 1.0, 1.0, 1.0, 1.0, 1.0, 1.0, 1.0, 1.0, 1.0, 1.0, 1.0, 1.0, 1.0, 1.0, 1.0, 1.0, 1.0, 1.0, 1.0, 1.0, 1.0, 1.0, 1.0, 1.0, 1.0, 1.0, 1.0, 1.0, 1.0, 1.0, 1.0, 1.0, 1.0, 1.0, 1.0, 1.0, 1.0, 1.0, 1.0, 1.0, 1.0, 1.0, 1.0, 1.0, 1.0, 1.0, 1.0, 1.0, 1.0, 1.0, 1.0, 1.0, 1.0, 1.0, 1.0, 1.0, 1.0, 1.0, 1.0, 1.0, 1.0, 1.0, 1.0, 1.0, 1.0, 1.0, 1.0, 1.0, 1.0, 1.0, 1.0, 1.0, 1.0, 1.0, 1.0, 0.0, 0.0, 0.0, 0.0, 1.0, 1.0, 1.0, 1.0, 1.0, 1.0, 1.0, 1.0, 1.0, 1.0, 1.0, 1.0, 1.0, 1.0, 1.0, 1.0, 1.0, 1.0, 1.0, 1.0, 1.0, 1.0, 1.0, 1.0, 1.0, 1.0, 1.0, 1.0, 1.0, 1.0, 1.0, 1.0, 1.0, 1.0, 1.0, 1.0, 1.0, 1.0, 1.0, 1.0, 1.0, 1.0, 1.0, 1.0, 1.0, 1.0], \"type\": \"measure\"}, {\"name\": \"Lost\", \"values\": [0.0, 0.0, 0.0, 0.0, 0.0, 0.0, 0.0, 0.0, 0.0, 0.0, 0.0, 0.0, 0.0, 0.0, 0.0, 0.0, 0.0, 0.0, 0.0, 0.0, 0.0, 0.0, 0.0, 0.0, 0.0, 0.0, 0.0, 0.0, 0.0, 0.0, 0.0, 0.0, 0.0, 0.0, 0.0, 0.0, 0.0, 0.0, 0.0, 0.0, 0.0, 0.0, 0.0, 0.0, 0.0, 0.0, 0.0, 0.0, 0.0, 0.0, 0.0, 0.0, 0.0, 0.0, 0.0, 0.0, 0.0, 0.0, 0.0, 0.0, 0.0, 0.0, 0.0, 0.0, 0.0, 0.0, 0.0, 0.0, 0.0, 0.0, 0.0, 0.0, 0.0, 0.0, 0.0, 0.0, 0.0, 0.0, 0.0, 0.0, 0.0, 0.0, 0.0, 0.0, 0.0, 0.0, 0.0, 0.0, 0.0, 0.0, 0.0, 0.0, 0.0, 0.0, 0.0, 0.0, 0.0, 0.0, 0.0, 0.0, 0.0, 0.0, 0.0, 0.0, 0.0, 0.0, 0.0, 0.0, 0.0, 0.0, 0.0, 0.0, 1.0, 1.0, 1.0, 1.0, 0.0, 0.0, 0.0, 0.0, 0.0, 0.0, 0.0, 0.0, 0.0, 0.0, 0.0, 0.0, 0.0, 0.0, 0.0, 0.0, 0.0, 0.0, 0.0, 0.0, 0.0, 0.0, 0.0, 0.0, 0.0, 0.0, 0.0, 0.0, 0.0, 0.0, 0.0, 0.0, 0.0, 0.0, 0.0, 0.0, 0.0, 0.0, 0.0, 0.0, 0.0, 0.0, 0.0, 0.0, 0.0, 0.0], \"type\": \"measure\"}, {\"name\": \"Bagel\", \"values\": [0.0, 0.0, 0.0, 1.0, 1.0, 0.0, 0.0, 0.0, 0.0, 0.0, 0.0, 0.0, 0.0, 0.0, 0.0, 0.0, 1.0, 0.0, 0.0, 0.0, 0.0, 1.0, 0.0, 0.0, 1.0, 0.0, 1.0, 0.0, 0.0, 0.0, 0.0, 0.0, 0.0, 0.0, 0.0, 0.0, 0.0, 0.0, 0.0, 0.0, 0.0, 0.0, 1.0, 0.0, 0.0, 0.0, 0.0, 0.0, 1.0, 0.0, 1.0, 0.0, 0.0, 0.0, 0.0, 0.0, 0.0, 0.0, 0.0, 0.0, 0.0, 1.0, 0.0, 0.0, 0.0, 1.0, 0.0, 0.0, 0.0, 0.0, 1.0, 0.0, 0.0, 1.0, 0.0, 0.0, 1.0, 0.0, 0.0, 0.0, 0.0, 0.0, 0.0, 0.0, 0.0, 0.0, 0.0, 0.0, 0.0, 0.0, 0.0, 0.0, 0.0, 1.0, 0.0, 0.0, 0.0, 1.0, 1.0, 0.0, 1.0, 1.0, 0.0, 1.0, 0.0, 0.0, 0.0, 0.0, 0.0, 0.0, 0.0, 1.0, 0.0, 0.0, 0.0, 0.0, 0.0, 0.0, 0.0, 0.0, 0.0, 0.0, 0.0, 0.0, 0.0, 0.0, 0.0, 0.0, 0.0, 0.0, 0.0, 0.0, 0.0, 0.0, 0.0, 0.0, 0.0, 0.0, 0.0, 0.0, 0.0, 0.0, 0.0, 0.0, 0.0, 0.0, 0.0, 0.0, 0.0, 0.0, 0.0, 0.0, 0.0, 0.0, 0.0, 0.0, 0.0, 0.0, 0.0, 0.0, 0.0, 0.0], \"type\": \"measure\"}, {\"name\": \"Final\", \"values\": [0.0, 0.0, 0.0, 0.0, 0.0, 0.0, 1.0, 1.0, 0.0, 0.0, 0.0, 0.0, 0.0, 0.0, 1.0, 0.0, 0.0, 0.0, 0.0, 0.0, 0.0, 1.0, 0.0, 0.0, 0.0, 0.0, 0.0, 0.0, 0.0, 0.0, 0.0, 1.0, 0.0, 0.0, 0.0, 0.0, 0.0, 0.0, 1.0, 0.0, 0.0, 0.0, 0.0, 0.0, 0.0, 1.0, 0.0, 0.0, 0.0, 0.0, 0.0, 0.0, 1.0, 0.0, 0.0, 0.0, 0.0, 0.0, 0.0, 1.0, 0.0, 0.0, 0.0, 0.0, 0.0, 0.0, 0.0, 0.0, 0.0, 0.0, 0.0, 0.0, 1.0, 0.0, 0.0, 0.0, 0.0, 0.0, 0.0, 1.0, 0.0, 0.0, 0.0, 0.0, 0.0, 0.0, 1.0, 0.0, 0.0, 0.0, 0.0, 0.0, 0.0, 1.0, 0.0, 0.0, 0.0, 0.0, 0.0, 0.0, 0.0, 0.0, 0.0, 0.0, 0.0, 0.0, 0.0, 0.0, 0.0, 0.0, 0.0, 1.0, 0.0, 0.0, 0.0, 0.0, 0.0, 0.0, 0.0, 0.0, 1.0, 1.0, 1.0, 1.0, 1.0, 1.0, 1.0, 0.0, 1.0, 0.0, 0.0, 0.0, 0.0, 0.0, 0.0, 0.0, 0.0, 0.0, 0.0, 0.0, 0.0, 0.0, 0.0, 0.0, 0.0, 0.0, 0.0, 0.0, 0.0, 0.0, 0.0, 0.0, 0.0, 0.0, 0.0, 0.0, 0.0, 0.0, 0.0, 0.0, 0.0, 0.0], \"type\": \"measure\"}, {\"name\": \"Count\", \"values\": [1.0, 1.0, 1.0, 1.0, 1.0, 1.0, 1.0, 1.0, 1.0, 1.0, 1.0, 1.0, 1.0, 1.0, 1.0, 1.0, 1.0, 1.0, 1.0, 1.0, 1.0, 1.0, 1.0, 1.0, 1.0, 1.0, 1.0, 1.0, 1.0, 1.0, 1.0, 1.0, 1.0, 1.0, 1.0, 1.0, 1.0, 1.0, 1.0, 1.0, 1.0, 1.0, 1.0, 1.0, 1.0, 1.0, 1.0, 1.0, 1.0, 1.0, 1.0, 1.0, 1.0, 1.0, 1.0, 1.0, 1.0, 1.0, 1.0, 1.0, 1.0, 1.0, 1.0, 1.0, 1.0, 1.0, 1.0, 1.0, 1.0, 1.0, 1.0, 1.0, 1.0, 1.0, 1.0, 1.0, 1.0, 1.0, 1.0, 1.0, 1.0, 1.0, 1.0, 1.0, 1.0, 1.0, 1.0, 1.0, 1.0, 1.0, 1.0, 1.0, 1.0, 1.0, 1.0, 1.0, 1.0, 1.0, 1.0, 1.0, 1.0, 1.0, 1.0, 1.0, 1.0, 1.0, 1.0, 1.0, 1.0, 1.0, 1.0, 1.0, 1.0, 1.0, 1.0, 1.0, 9.0, 14.0, 5.0, 8.0, 7.0, 10.0, 7.0, 12.0, 10.0, 10.0, 8.0, 6.0, 11.0, 6.0, 5.0, 5.0, 7.0, 6.0, 5.0, 4.0, 3.0, 2.0, 2.0, 2.0, 2.0, 2.0, 1.0, 3.0, 3.0, 2.0, 1.0, 1.0, 4.0, 4.0, 3.0, 3.0, 2.0, 2.0, 1.0, 1.0, 3.0, 3.0, 2.0, 2.0, 2.0, 1.0], \"type\": \"measure\"}, {\"name\": \"Novak\", \"values\": [0.0, 0.0, 0.0, 0.0, 0.0, 0.0, 0.0, 0.0, 0.0, 1.0, 0.0, 0.0, 0.0, 0.0, 0.0, 1.0, 0.0, 0.0, 0.0, 0.0, 0.0, 0.0, 1.0, 0.0, 0.0, 0.0, 0.0, 0.0, 0.0, 0.0, 0.0, 0.0, 0.0, 0.0, 0.0, 0.0, 0.0, 0.0, 0.0, 0.0, 0.0, 0.0, 0.0, 0.0, 0.0, 1.0, 0.0, 0.0, 0.0, 0.0, 0.0, 0.0, 0.0, 1.0, 0.0, 0.0, 0.0, 0.0, 0.0, 1.0, 0.0, 0.0, 0.0, 0.0, 0.0, 0.0, 0.0, 0.0, 0.0, 0.0, 0.0, 0.0, 0.0, 0.0, 0.0, 0.0, 0.0, 0.0, 0.0, 0.0, 0.0, 0.0, 0.0, 0.0, 0.0, 0.0, 0.0, 0.0, 0.0, 0.0, 0.0, 0.0, 0.0, 1.0, 0.0, 0.0, 0.0, 0.0, 0.0, 0.0, 0.0, 0.0, 0.0, 0.0, 0.0, 0.0, 0.0, 0.0, 0.0, 1.0, 0.0, 0.0, 1.0, 1.0, 0.0, 0.0, 0.0, 0.0, 0.0, 0.0, 0.0, 0.0, 0.0, 0.0, 0.0, 0.0, 0.0, 0.0, 0.0, 0.0, 0.0, 0.0, 0.0, 0.0, 0.0, 0.0, 0.0, 0.0, 0.0, 0.0, 0.0, 0.0, 0.0, 0.0, 0.0, 0.0, 0.0, 0.0, 0.0, 0.0, 0.0, 0.0, 0.0, 0.0, 0.0, 0.0, 0.0, 0.0, 0.0, 0.0, 0.0, 0.0], \"type\": \"measure\"}, {\"name\": \"Roger\", \"values\": [0.0, 0.0, 0.0, 0.0, 0.0, 1.0, 0.0, 1.0, 0.0, 0.0, 0.0, 0.0, 0.0, 0.0, 1.0, 0.0, 0.0, 0.0, 0.0, 0.0, 0.0, 1.0, 0.0, 0.0, 0.0, 0.0, 0.0, 0.0, 0.0, 0.0, 0.0, 0.0, 0.0, 0.0, 0.0, 0.0, 0.0, 0.0, 1.0, 0.0, 0.0, 0.0, 0.0, 0.0, 0.0, 0.0, 0.0, 0.0, 0.0, 0.0, 0.0, 0.0, 0.0, 0.0, 0.0, 0.0, 0.0, 0.0, 0.0, 0.0, 0.0, 0.0, 0.0, 0.0, 0.0, 0.0, 0.0, 0.0, 0.0, 0.0, 0.0, 0.0, 0.0, 0.0, 0.0, 0.0, 0.0, 0.0, 0.0, 0.0, 0.0, 0.0, 0.0, 0.0, 0.0, 0.0, 0.0, 1.0, 0.0, 0.0, 0.0, 0.0, 0.0, 0.0, 0.0, 0.0, 0.0, 0.0, 0.0, 0.0, 0.0, 0.0, 0.0, 0.0, 0.0, 0.0, 0.0, 0.0, 0.0, 0.0, 0.0, 0.0, 0.0, 0.0, 0.0, 0.0, 0.0, 0.0, 0.0, 0.0, 0.0, 0.0, 0.0, 0.0, 0.0, 0.0, 0.0, 0.0, 0.0, 0.0, 0.0, 0.0, 0.0, 0.0, 0.0, 0.0, 0.0, 0.0, 0.0, 0.0, 0.0, 0.0, 0.0, 0.0, 0.0, 0.0, 0.0, 0.0, 0.0, 0.0, 0.0, 0.0, 0.0, 0.0, 0.0, 0.0, 0.0, 0.0, 0.0, 0.0, 0.0, 0.0], \"type\": \"measure\"}, {\"name\": \"Tournament\", \"values\": [\"Roland Garros\", \"Roland Garros\", \"Roland Garros\", \"Roland Garros\", \"Roland Garros\", \"Roland Garros\", \"Roland Garros\", \"Roland Garros\", \"Roland Garros\", \"Roland Garros\", \"Roland Garros\", \"Roland Garros\", \"Roland Garros\", \"Roland Garros\", \"Roland Garros\", \"Roland Garros\", \"Roland Garros\", \"Roland Garros\", \"Roland Garros\", \"Roland Garros\", \"Roland Garros\", \"Roland Garros\", \"Roland Garros\", \"Roland Garros\", \"Roland Garros\", \"Roland Garros\", \"Roland Garros\", \"Roland Garros\", \"Roland Garros\", \"Roland Garros\", \"Roland Garros\", \"Roland Garros\", \"Roland Garros\", \"Roland Garros\", \"Roland Garros\", \"Roland Garros\", \"Roland Garros\", \"Roland Garros\", \"Roland Garros\", \"Roland Garros\", \"Roland Garros\", \"Roland Garros\", \"Roland Garros\", \"Roland Garros\", \"Roland Garros\", \"Roland Garros\", \"Roland Garros\", \"Roland Garros\", \"Roland Garros\", \"Roland Garros\", \"Roland Garros\", \"Roland Garros\", \"Roland Garros\", \"Roland Garros\", \"Roland Garros\", \"Roland Garros\", \"Roland Garros\", \"Roland Garros\", \"Roland Garros\", \"Roland Garros\", \"Roland Garros\", \"Roland Garros\", \"Roland Garros\", \"Roland Garros\", \"Roland Garros\", \"Roland Garros\", \"Roland Garros\", \"Roland Garros\", \"Roland Garros\", \"Roland Garros\", \"Roland Garros\", \"Roland Garros\", \"Roland Garros\", \"Roland Garros\", \"Roland Garros\", \"Roland Garros\", \"Roland Garros\", \"Roland Garros\", \"Roland Garros\", \"Roland Garros\", \"Roland Garros\", \"Roland Garros\", \"Roland Garros\", \"Roland Garros\", \"Roland Garros\", \"Roland Garros\", \"Roland Garros\", \"Roland Garros\", \"Roland Garros\", \"Roland Garros\", \"Roland Garros\", \"Roland Garros\", \"Roland Garros\", \"Roland Garros\", \"Roland Garros\", \"Roland Garros\", \"Roland Garros\", \"Roland Garros\", \"Roland Garros\", \"Roland Garros\", \"Roland Garros\", \"Roland Garros\", \"Roland Garros\", \"Roland Garros\", \"Roland Garros\", \"Roland Garros\", \"Roland Garros\", \"Roland Garros\", \"Roland Garros\", \"Roland Garros\", \"Roland Garros\", \"Roland Garros\", \"Roland Garros\", \"Roland Garros\", \"Roland Garros\", \"Roland Garros\", \"Australian Open\", \"Roland Garros\", \"US Open\", \"Wimbledon\", \"Cincinnati\", \"Basel\", \"Buenos Aires\", \"Barcelona\", \"Halle\", \"Rome\", \"Dubai\", \"Australian Open\", \"Monte Carlo\", \"Roland Garros\", \"US Open\", \"US Open\", \"Wimbledon\", \"Wimbledon\", \"Wimbledon\", \"Australian Open\", \"Australian Open\", \"Australian Open\", \"Australian Open\", \"Australian Open\", \"Australian Open\", \"Australian Open\", \"Australian Open\", \"Roland Garros\", \"Roland Garros\", \"Roland Garros\", \"Roland Garros\", \"Roland Garros\", \"US Open\", \"US Open\", \"US Open\", \"US Open\", \"US Open\", \"US Open\", \"US Open\", \"US Open\", \"Wimbledon\", \"Wimbledon\", \"Wimbledon\", \"Wimbledon\", \"Wimbledon\", \"Wimbledon\"], \"type\": \"dimension\"}, {\"name\": \"Player\", \"values\": [\"Nadal\", \"Nadal\", \"Nadal\", \"Nadal\", \"Nadal\", \"Nadal\", \"Nadal\", \"Nadal\", \"Nadal\", \"Nadal\", \"Nadal\", \"Nadal\", \"Nadal\", \"Nadal\", \"Nadal\", \"Nadal\", \"Nadal\", \"Nadal\", \"Nadal\", \"Nadal\", \"Nadal\", \"Nadal\", \"Nadal\", \"Nadal\", \"Nadal\", \"Nadal\", \"Nadal\", \"Nadal\", \"Nadal\", \"Nadal\", \"Nadal\", \"Nadal\", \"Nadal\", \"Nadal\", \"Nadal\", \"Nadal\", \"Nadal\", \"Nadal\", \"Nadal\", \"Nadal\", \"Nadal\", \"Nadal\", \"Nadal\", \"Nadal\", \"Nadal\", \"Nadal\", \"Nadal\", \"Nadal\", \"Nadal\", \"Nadal\", \"Nadal\", \"Nadal\", \"Nadal\", \"Nadal\", \"Nadal\", \"Nadal\", \"Nadal\", \"Nadal\", \"Nadal\", \"Nadal\", \"Nadal\", \"Nadal\", \"Nadal\", \"Nadal\", \"Nadal\", \"Nadal\", \"Nadal\", \"Nadal\", \"Nadal\", \"Nadal\", \"Nadal\", \"Nadal\", \"Nadal\", \"Nadal\", \"Nadal\", \"Nadal\", \"Nadal\", \"Nadal\", \"Nadal\", \"Nadal\", \"Nadal\", \"Nadal\", \"Nadal\", \"Nadal\", \"Nadal\", \"Nadal\", \"Nadal\", \"Nadal\", \"Nadal\", \"Nadal\", \"Nadal\", \"Nadal\", \"Nadal\", \"Nadal\", \"Nadal\", \"Nadal\", \"Nadal\", \"Nadal\", \"Nadal\", \"Nadal\", \"Nadal\", \"Nadal\", \"Nadal\", \"Nadal\", \"Nadal\", \"Nadal\", \"Nadal\", \"Nadal\", \"Nadal\", \"Nadal\", \"Nadal\", \"Nadal\", \"Nadal\", \"Nadal\", \"Nadal\", \"Nadal\", \"Djokovic\", \"Nadal\", \"Connors\", \"Federer\", \"Federer\", \"Federer\", \"Vilas\", \"Nadal\", \"Federer\", \"Nadal\", \"Federer\", \"Federer\", \"Nadal\", \"Borg\", \"Sampras\", \"Federer\", \"Sampras\", \"Djokovic\", \"Borg\", \"Agassi\", \"Wilander\", \"Sampras\", \"Nadal\", \"Lendl\", \"Edberg\", \"Becker\", \"Connors\", \"Wilander\", \"Lendl\", \"Djokovic\", \"Federer\", \"Agassi\", \"Nadal\", \"McEnroe\", \"Lendl\", \"Djokovic\", \"Edberg\", \"Agassi\", \"Wilander\", \"Becker\", \"McEnroe\", \"Becker\", \"Nadal\", \"Edberg\", \"Connors\", \"Agassi\"], \"type\": \"dimension\"}, {\"name\": \"Level\", \"values\": [\"Roland Garros\", \"Roland Garros\", \"Roland Garros\", \"Roland Garros\", \"Roland Garros\", \"Roland Garros\", \"Roland Garros\", \"Roland Garros\", \"Roland Garros\", \"Roland Garros\", \"Roland Garros\", \"Roland Garros\", \"Roland Garros\", \"Roland Garros\", \"Roland Garros\", \"Roland Garros\", \"Roland Garros\", \"Roland Garros\", \"Roland Garros\", \"Roland Garros\", \"Roland Garros\", \"Roland Garros\", \"Roland Garros\", \"Roland Garros\", \"Roland Garros\", \"Roland Garros\", \"Roland Garros\", \"Roland Garros\", \"Roland Garros\", \"Roland Garros\", \"Roland Garros\", \"Roland Garros\", \"Roland Garros\", \"Roland Garros\", \"Roland Garros\", \"Roland Garros\", \"Roland Garros\", \"Roland Garros\", \"Roland Garros\", \"Roland Garros\", \"Roland Garros\", \"Roland Garros\", \"Roland Garros\", \"Roland Garros\", \"Roland Garros\", \"Roland Garros\", \"Roland Garros\", \"Roland Garros\", \"Roland Garros\", \"Roland Garros\", \"Roland Garros\", \"Roland Garros\", \"Roland Garros\", \"Roland Garros\", \"Roland Garros\", \"Roland Garros\", \"Roland Garros\", \"Roland Garros\", \"Roland Garros\", \"Roland Garros\", \"Roland Garros\", \"Roland Garros\", \"Roland Garros\", \"Roland Garros\", \"Roland Garros\", \"Roland Garros\", \"Roland Garros\", \"Roland Garros\", \"Roland Garros\", \"Roland Garros\", \"Roland Garros\", \"Roland Garros\", \"Roland Garros\", \"Roland Garros\", \"Roland Garros\", \"Roland Garros\", \"Roland Garros\", \"Roland Garros\", \"Roland Garros\", \"Roland Garros\", \"Roland Garros\", \"Roland Garros\", \"Roland Garros\", \"Roland Garros\", \"Roland Garros\", \"Roland Garros\", \"Roland Garros\", \"Roland Garros\", \"Roland Garros\", \"Roland Garros\", \"Roland Garros\", \"Roland Garros\", \"Roland Garros\", \"Roland Garros\", \"Roland Garros\", \"Roland Garros\", \"Roland Garros\", \"Roland Garros\", \"Roland Garros\", \"Roland Garros\", \"Roland Garros\", \"Roland Garros\", \"Roland Garros\", \"Roland Garros\", \"Roland Garros\", \"Roland Garros\", \"Roland Garros\", \"Roland Garros\", \"Roland Garros\", \"Roland Garros\", \"Roland Garros\", \"Roland Garros\", \"Roland Garros\", \"Roland Garros\", \"Roland Garros\", \"Roland Garros\", \"Australian Open\", \"Roland Garros\", \"US Open\", \"Wimbledon\", \"Masters\", \"ATP 500\", \"ATP 250\", \"ATP 500\", \"ATP 500\", \"Masters\", \"ATP 500\", \"Australian Open\", \"Masters\", \"Roland Garros\", \"US Open\", \"US Open\", \"Wimbledon\", \"Wimbledon\", \"Wimbledon\", \"Australian Open\", \"Australian Open\", \"Australian Open\", \"Australian Open\", \"Australian Open\", \"Australian Open\", \"Australian Open\", \"Australian Open\", \"Roland Garros\", \"Roland Garros\", \"Roland Garros\", \"Roland Garros\", \"Roland Garros\", \"US Open\", \"US Open\", \"US Open\", \"US Open\", \"US Open\", \"US Open\", \"US Open\", \"US Open\", \"Wimbledon\", \"Wimbledon\", \"Wimbledon\", \"Wimbledon\", \"Wimbledon\", \"Wimbledon\"], \"type\": \"dimension\"}, {\"name\": \"3SetWin\", \"values\": [1.0, 1.0, 1.0, 0.0, 1.0, 0.0, 0.0, 0.0, 1.0, 1.0, 0.0, 0.0, 1.0, 1.0, 0.0, 1.0, 1.0, 1.0, 1.0, 1.0, 1.0, 1.0, 1.0, 1.0, 1.0, 1.0, 1.0, 1.0, 1.0, 1.0, 1.0, 1.0, 1.0, 1.0, 1.0, 1.0, 1.0, 1.0, 0.0, 1.0, 1.0, 1.0, 1.0, 1.0, 0.0, 0.0, 1.0, 1.0, 1.0, 1.0, 1.0, 1.0, 1.0, 0.0, 1.0, 1.0, 1.0, 0.0, 0.0, 0.0, 1.0, 0.0, 1.0, 1.0, 1.0, 1.0, 0.0, 1.0, 1.0, 1.0, 1.0, 1.0, 1.0, 1.0, 1.0, 1.0, 1.0, 1.0, 1.0, 1.0, 1.0, 0.0, 1.0, 1.0, 1.0, 1.0, 0.0, 1.0, 1.0, 1.0, 0.0, 1.0, 1.0, 1.0, 1.0, 1.0, 1.0, 1.0, 1.0, 1.0, 0.0, 1.0, 1.0, 1.0, 1.0, 1.0, 1.0, 1.0, 0.0, 0.0, 1.0, 1.0, 0.0, 0.0, 0.0, 0.0, 0.0, 0.0, 0.0, 0.0, 0.0, 0.0, 0.0, 0.0, 0.0, 0.0, 0.0, 0.0, 0.0, 0.0, 0.0, 0.0, 0.0, 0.0, 0.0, 0.0, 0.0, 0.0, 0.0, 0.0, 0.0, 0.0, 0.0, 0.0, 0.0, 0.0, 0.0, 0.0, 0.0, 0.0, 0.0, 0.0, 0.0, 0.0, 0.0, 0.0, 0.0, 0.0, 0.0, 0.0, 0.0, 0.0], \"type\": \"measure\"}, {\"name\": \"Straightwin\", \"values\": [0.0, 0.0, 0.0, 0.0, 0.0, 0.0, 0.0, 0.0, 0.0, 0.0, 0.0, 0.0, 0.0, 0.0, 0.0, 0.0, 0.0, 0.0, 0.0, 0.0, 0.0, 1.0, 1.0, 1.0, 1.0, 1.0, 1.0, 1.0, 0.0, 0.0, 0.0, 1.0, 1.0, 1.0, 1.0, 1.0, 1.0, 1.0, 0.0, 0.0, 0.0, 0.0, 0.0, 0.0, 0.0, 0.0, 0.0, 0.0, 0.0, 0.0, 0.0, 0.0, 0.0, 0.0, 0.0, 0.0, 0.0, 0.0, 0.0, 0.0, 0.0, 0.0, 0.0, 0.0, 0.0, 0.0, 0.0, 0.0, 0.0, 0.0, 0.0, 0.0, 1.0, 1.0, 1.0, 1.0, 1.0, 1.0, 1.0, 0.0, 0.0, 0.0, 0.0, 0.0, 0.0, 0.0, 0.0, 0.0, 0.0, 0.0, 0.0, 0.0, 0.0, 1.0, 1.0, 1.0, 1.0, 1.0, 1.0, 1.0, 0.0, 0.0, 0.0, 0.0, 0.0, 0.0, 0.0, 0.0, 0.0, 0.0, 0.0, 0.0, 0.0, 0.0, 0.0, 0.0, 0.0, 0.0, 0.0, 0.0, 0.0, 0.0, 0.0, 0.0, 0.0, 0.0, 0.0, 0.0, 0.0, 0.0, 0.0, 0.0, 0.0, 0.0, 0.0, 0.0, 0.0, 0.0, 0.0, 0.0, 0.0, 0.0, 0.0, 0.0, 0.0, 0.0, 0.0, 0.0, 0.0, 0.0, 0.0, 0.0, 0.0, 0.0, 0.0, 0.0, 0.0, 0.0, 0.0, 0.0, 0.0, 0.0], \"type\": \"measure\"}, {\"name\": \"Order_GS\", \"values\": [\"1\", \"1\", \"1\", \"1\", \"1\", \"1\", \"1\", \"1\", \"1\", \"1\", \"1\", \"1\", \"1\", \"1\", \"1\", \"1\", \"1\", \"1\", \"1\", \"1\", \"1\", \"1\", \"1\", \"1\", \"1\", \"1\", \"1\", \"1\", \"1\", \"1\", \"1\", \"1\", \"1\", \"1\", \"1\", \"1\", \"1\", \"1\", \"1\", \"1\", \"1\", \"1\", \"1\", \"1\", \"1\", \"1\", \"1\", \"1\", \"1\", \"1\", \"1\", \"1\", \"1\", \"1\", \"1\", \"1\", \"1\", \"1\", \"1\", \"1\", \"1\", \"1\", \"1\", \"1\", \"1\", \"1\", \"1\", \"1\", \"1\", \"1\", \"1\", \"1\", \"1\", \"1\", \"1\", \"1\", \"1\", \"1\", \"1\", \"1\", \"1\", \"1\", \"1\", \"1\", \"1\", \"1\", \"1\", \"1\", \"1\", \"1\", \"1\", \"1\", \"1\", \"1\", \"1\", \"1\", \"1\", \"1\", \"1\", \"1\", \"1\", \"1\", \"1\", \"1\", \"1\", \"1\", \"1\", \"1\", \"1\", \"1\", \"1\", \"1\", \"1\", \"1\", \"1\", \"1\", \"2\", \"1\", \"6\", \"3\", \"0\", \"0\", \"0\", \"0\", \"0\", \"0\", \"0\", \"5\", \"0\", \"5\", \"6\", \"6\", \"4\", \"5\", \"6\", \"0\", \"0\", \"0\", \"0\", \"0\", \"0\", \"0\", \"0\", \"0\", \"0\", \"0\", \"0\", \"0\", \"0\", \"0\", \"0\", \"0\", \"0\", \"0\", \"0\", \"0\", \"0\", \"0\", \"0\", \"0\", \"0\", \"0\"], \"type\": \"dimension\"}, {\"name\": \"Order_all\", \"values\": [\"1\", \"1\", \"1\", \"1\", \"1\", \"1\", \"1\", \"1\", \"1\", \"1\", \"1\", \"1\", \"1\", \"1\", \"1\", \"1\", \"1\", \"1\", \"1\", \"1\", \"1\", \"1\", \"1\", \"1\", \"1\", \"1\", \"1\", \"1\", \"1\", \"1\", \"1\", \"1\", \"1\", \"1\", \"1\", \"1\", \"1\", \"1\", \"1\", \"1\", \"1\", \"1\", \"1\", \"1\", \"1\", \"1\", \"1\", \"1\", \"1\", \"1\", \"1\", \"1\", \"1\", \"1\", \"1\", \"1\", \"1\", \"1\", \"1\", \"1\", \"1\", \"1\", \"1\", \"1\", \"1\", \"1\", \"1\", \"1\", \"1\", \"1\", \"1\", \"1\", \"1\", \"1\", \"1\", \"1\", \"1\", \"1\", \"1\", \"1\", \"1\", \"1\", \"1\", \"1\", \"1\", \"1\", \"1\", \"1\", \"1\", \"1\", \"1\", \"1\", \"1\", \"1\", \"1\", \"1\", \"1\", \"1\", \"1\", \"1\", \"1\", \"1\", \"1\", \"1\", \"1\", \"1\", \"1\", \"1\", \"1\", \"1\", \"1\", \"1\", \"1\", \"1\", \"1\", \"1\", \"5\", \"1\", \"0\", \"6\", \"7\", \"4\", \"7\", \"2\", \"4\", \"4\", \"6\", \"8\", \"3\", \"8\", \"0\", \"0\", \"7\", \"8\", \"0\", \"0\", \"0\", \"0\", \"0\", \"0\", \"0\", \"0\", \"0\", \"0\", \"0\", \"0\", \"0\", \"0\", \"0\", \"0\", \"0\", \"0\", \"0\", \"0\", \"0\", \"0\", \"0\", \"0\", \"0\", \"0\", \"0\", \"0\"], \"type\": \"dimension\"}, {\"name\": \"Total_GS\", \"values\": [\"\", \"\", \"\", \"\", \"\", \"\", \"\", \"\", \"\", \"\", \"\", \"\", \"\", \"\", \"\", \"\", \"\", \"\", \"\", \"\", \"\", \"\", \"\", \"\", \"\", \"\", \"\", \"\", \"\", \"\", \"\", \"\", \"\", \"\", \"\", \"\", \"\", \"\", \"\", \"\", \"\", \"\", \"\", \"\", \"\", \"\", \"\", \"\", \"\", \"\", \"\", \"\", \"\", \"\", \"\", \"\", \"\", \"\", \"\", \"\", \"\", \"\", \"\", \"\", \"\", \"\", \"\", \"\", \"\", \"\", \"\", \"\", \"\", \"\", \"\", \"\", \"\", \"\", \"\", \"\", \"\", \"\", \"\", \"\", \"\", \"\", \"\", \"\", \"\", \"\", \"\", \"\", \"\", \"\", \"\", \"\", \"\", \"\", \"\", \"\", \"\", \"\", \"\", \"\", \"\", \"\", \"\", \"\", \"\", \"\", \"\", \"\", \"\", \"\", \"\", \"\", \"\", \"\", \"\", \"Federer - 20\", \"\", \"\", \"\", \"\", \"\", \"\", \"\", \"\", \"\", \"\", \"\", \"\", \"Sampras - 14\", \"Djokovic - 20\", \"Borg - 11\", \"\", \"\", \"\", \"\", \"\", \"\", \"\", \"\", \"\", \"\", \"\", \"\", \"\", \"\", \"\", \"Lendl - 8\", \"\", \"\", \"\", \"Wilander - 7\", \"\", \"McEnroe - 7\", \"Becker - 6\", \"Nadal - 22\", \"Edberg - 6\", \"Connors - 8\", \"Agassi - 8\"], \"type\": \"dimension\"}, {\"name\": \"Top\", \"values\": [\"\", \"\", \"\", \"\", \"\", \"\", \"\", \"\", \"\", \"\", \"\", \"\", \"\", \"\", \"\", \"\", \"\", \"\", \"\", \"\", \"\", \"\", \"\", \"\", \"\", \"\", \"\", \"\", \"\", \"\", \"\", \"\", \"\", \"\", \"\", \"\", \"\", \"\", \"\", \"\", \"\", \"\", \"\", \"\", \"\", \"\", \"\", \"\", \"\", \"\", \"\", \"\", \"\", \"\", \"\", \"\", \"\", \"\", \"\", \"\", \"\", \"\", \"\", \"\", \"\", \"\", \"\", \"\", \"\", \"\", \"\", \"\", \"\", \"\", \"\", \"\", \"\", \"\", \"\", \"\", \"\", \"\", \"\", \"\", \"\", \"\", \"\", \"\", \"\", \"\", \"\", \"\", \"\", \"\", \"\", \"\", \"\", \"\", \"\", \"\", \"\", \"\", \"\", \"\", \"\", \"\", \"\", \"\", \"\", \"\", \"\", \"\", \"\", \"\", \"\", \"\", \"1\", \"1\", \"1\", \"1\", \"1\", \"1\", \"1\", \"1\", \"1\", \"1\", \"1\", \"1\", \"1\", \"1\", \"1\", \"1\", \"1\", \"1\", \"1\", \"\", \"\", \"\", \"\", \"\", \"\", \"\", \"\", \"\", \"\", \"\", \"\", \"\", \"\", \"\", \"\", \"\", \"\", \"\", \"\", \"\", \"\", \"\", \"\", \"\", \"\", \"\"], \"type\": \"dimension\"}]}} }, undefined);"
      ]
     },
     "metadata": {},
     "output_type": "display_data"
    },
    {
     "data": {
      "application/javascript": [
       "window.ipyvizzu.animate(element, '361bbca', '3f53ea3', 'end', false, lib => { return {\"data\": {\"filter\": record => { return (record.Year != 'Total') }}, \"config\": {\"x\": \"Year\", \"y\": \"Round2\", \"color\": {\"set\": \"Result_Num\", \"range\": {\"min\": -1, \"max\": 1}}, \"size\": null, \"orientation\": \"horizontal\", \"geometry\": \"rectangle\", \"title\": \"Partidos de Rafael Nadal en Roland Garros\", \"legend\": \"size\"}, \"style\": {\"title\": {\"paddingTop\": 50, \"paddingBottom\": 0}, \"plot\": {\"marker\": {\"borderWidth\": 3, \"borderOpacity\": 0, \"colorPalette\": \"#1EB55FFF #AD0000FF #AEAEAEFF\", \"colorGradient\": \"#AEAEAEFF 0.000000, #AD0000FF 0.500000, #1EB55FFF 1.000000\"}, \"paddingLeft\": 20, \"paddingBottom\": \"3.5em\", \"paddingTop\": \"2.5em\", \"xAxis\": {\"interlacing\": {\"color\": \"#ffffff00\"}}, \"yAxis\": {\"label\": {\"fontSize\": \"120%\"}}}, \"logo\": {\"width\": 100}}} }, undefined);"
      ]
     },
     "metadata": {},
     "output_type": "display_data"
    },
    {
     "data": {
      "application/javascript": [
       "window.ipyvizzu.animate(element, '361bbca', '53935a2', 'end', false, lib => { return {\"config\": {\"lightness\": \"Won\", \"title\": \"Gan\\u00f3 112 de 116 (96.5%)\"}, \"style\": {\"plot\": {\"marker\": {\"maxLightness\": 0, \"minLightness\": 0.8}}}} }, {\"delay\": 4});"
      ]
     },
     "metadata": {},
     "output_type": "display_data"
    },
    {
     "data": {
      "application/javascript": [
       "window.ipyvizzu.animate(element, '361bbca', '782bf7e', 'end', false, lib => { return {\"config\": {\"lightness\": \"Lost\", \"title\": \"Perdi\\u00f3 3 veces, se retir\\u00f3 una vez\"}} }, {\"delay\": 4});"
      ]
     },
     "metadata": {},
     "output_type": "display_data"
    },
    {
     "data": {
      "application/javascript": [
       "window.ipyvizzu.animate(element, '361bbca', 'dbc9434', 'end', false, lib => { return {\"config\": {\"lightness\": null, \"title\": \"\"}, \"style\": {\"plot\": {\"marker\": {\"maxLightness\": null, \"minLightness\": null}}}} }, {\"delay\": 4});"
      ]
     },
     "metadata": {},
     "output_type": "display_data"
    },
    {
     "data": {
      "application/javascript": [
       "window.ipyvizzu.animate(element, '361bbca', '108ab76', 'end', false, lib => { return {\"config\": {\"lightness\": \"3SetWin\", \"title\": \"90 victorias (80%) en sets corridos\"}, \"style\": {\"plot\": {\"marker\": {\"maxLightness\": 0, \"minLightness\": 0.8}}}} }, undefined);"
      ]
     },
     "metadata": {},
     "output_type": "display_data"
    },
    {
     "data": {
      "application/javascript": [
       "window.ipyvizzu.animate(element, '361bbca', '70cc2f8', 'end', false, lib => { return {\"config\": {\"lightness\": \"Straightwin\", \"title\": \"Gan\\u00f3 4 t\\u00edtulos sin perder sets\"}} }, {\"delay\": 3});"
      ]
     },
     "metadata": {},
     "output_type": "display_data"
    },
    {
     "data": {
      "application/javascript": [
       "window.ipyvizzu.animate(element, '361bbca', 'fa31674', 'end', false, lib => { return {\"config\": {\"lightness\": null, \"title\": \"\"}, \"style\": {\"plot\": {\"marker\": {\"maxLightness\": null, \"minLightness\": null}}}} }, {\"delay\": 4});"
      ]
     },
     "metadata": {},
     "output_type": "display_data"
    },
    {
     "data": {
      "application/javascript": [
       "window.ipyvizzu.animate(element, '361bbca', 'd7a5bf7', 'end', false, lib => { return {\"config\": {\"lightness\": \"Novak\", \"title\": \"Jug\\u00f3 m\\u00e1s veces contra Djokovic - 10 partidos\"}, \"style\": {\"plot\": {\"marker\": {\"maxLightness\": 0, \"minLightness\": 0.8}}}} }, undefined);"
      ]
     },
     "metadata": {},
     "output_type": "display_data"
    },
    {
     "data": {
      "application/javascript": [
       "window.ipyvizzu.animate(element, '361bbca', '5222692', 'end', false, lib => { return {\"config\": {\"lightness\": \"Roger\", \"title\": \"Segundo en esta lista es Federer - con 6 encuentros\"}} }, {\"delay\": 4});"
      ]
     },
     "metadata": {},
     "output_type": "display_data"
    },
    {
     "data": {
      "application/javascript": [
       "window.ipyvizzu.animate(element, '361bbca', 'adf49a3', 'end', false, lib => { return {\"config\": {\"lightness\": \"Final\", \"title\": \"Rafa gan\\u00f3 sus 14 finales\"}} }, {\"delay\": 4});"
      ]
     },
     "metadata": {},
     "output_type": "display_data"
    },
    {
     "data": {
      "application/javascript": [
       "window.ipyvizzu.animate(element, '361bbca', '72d8764', 'end', false, lib => { return {\"data\": {\"filter\": record => { return (record.Year != 'Total' && record.Round == 'F') }}, \"config\": {\"y\": {\"set\": \"Round2\", \"range\": {\"max\": 1, \"min\": -5}}, \"x\": \"Count\", \"lightness\": null, \"noop\": \"Year\", \"label\": null, \"title\": \"\"}, \"style\": {\"plot\": {\"marker\": {\"borderWidth\": 0, \"colorPalette\": \"#C6652A #CDA02E #47B0FF #329564 #5C88F2 #91A9B5 #DBC4B1\", \"maxLightness\": null, \"minLightness\": null, \"label\": {\"position\": \"center\", \"format\": \"dimensionsFirst\"}}, \"xAxis\": {\"title\": {\"color\": \"#ffffff00\"}, \"label\": {\"color\": \"#ffffff00\"}, \"interlacing\": {\"color\": \"#ffffff00\"}}, \"yAxis\": {\"title\": {\"color\": \"#ffffff00\"}, \"label\": {\"color\": \"#ffffff00\", \"fontSize\": null}}}}} }, {\"delay\": 3});"
      ]
     },
     "metadata": {},
     "output_type": "display_data"
    },
    {
     "data": {
      "application/javascript": [
       "window.ipyvizzu.animate(element, '361bbca', 'e2c0ee7', 'end', false, lib => { return {\"data\": {\"filter\": record => { return (record.Year == \"Total\" && record.Tournament == \"Roland Garros\" && record.Player == \"Nadal\") }}, \"config\": {\"noop\": [\"Level\", \"Round2\"], \"label\": [\"Player\", \"Tournament\", \"Count\"], \"y\": {\"set\": [\"Player\", \"Tournament\"]}}} }, {\"duration\": 0});"
      ]
     },
     "metadata": {},
     "output_type": "display_data"
    },
    {
     "data": {
      "application/javascript": [
       "window.ipyvizzu.animate(element, '361bbca', '147f3bf', 'end', false, lib => { return {\"config\": {\"noop\": \"Level\"}} }, {\"duration\": 0});"
      ]
     },
     "metadata": {},
     "output_type": "display_data"
    },
    {
     "data": {
      "application/javascript": [
       "window.ipyvizzu.animate(element, '361bbca', '99c3d56', 'end', false, lib => { return {\"data\": {\"filter\": record => { return (record.Year == 'Total' && record.Round == 'GS' && record.Top == '1') }}, \"config\": {\"y\": {\"set\": [\"Player\", \"Tournament\", \"Level\"], \"range\": {\"max\": null, \"min\": null}}, \"title\": \"Rafa gan\\u00f3 el mismo t\\u00edtulo de Grand Slam varias veces\", \"color\": \"Level\", \"legend\": \"color\", \"noop\": null, \"sort\": \"byValue\"}} }, undefined);"
      ]
     },
     "metadata": {},
     "output_type": "display_data"
    },
    {
     "data": {
      "application/javascript": [
       "window.ipyvizzu.animate(element, '361bbca', '874baef', 'end', false, lib => { return {\"data\": {\"filter\": record => { return (record.Year == \"Total\" && record.Top == \"1\") }}, \"config\": {\"y\": {\"set\": [\"Player\", \"Tournament\", \"Level\"], \"range\": {\"max\": 19, \"min\": 7}}, \"x\": [\"Count\"], \"title\": \"Ganando el mismo t\\u00edtulo ATP - Rafa es 1ro, 2do, 3ro y 4to!\"}} }, {\"delay\": 5});"
      ]
     },
     "metadata": {},
     "output_type": "display_data"
    },
    {
     "data": {
      "application/javascript": [
       "window.ipyvizzu.animate(element, '361bbca', '2b438be', 'end', false, lib => { return {\"data\": {\"filter\": record => { return (record.Year == \"Total\" && record.Round == \"GS\" && record.Top == \"1\") }}, \"config\": {\"y\": {\"set\": [\"Player\", \"Tournament\", \"Level\"], \"range\": {\"max\": null, \"min\": null}}, \"x\": [\"Count\"], \"title\": \"\", \"color\": \"Level\"}} }, {\"delay\": 5});"
      ]
     },
     "metadata": {},
     "output_type": "display_data"
    },
    {
     "data": {
      "application/javascript": [
       "window.ipyvizzu.animate(element, '361bbca', '23f8dd6', 'end', false, lib => { return {\"config\": {\"x\": [\"Count\", \"Total_GS\"], \"label\": \"Player\"}} }, undefined);"
      ]
     },
     "metadata": {},
     "output_type": "display_data"
    },
    {
     "data": {
      "application/javascript": [
       "window.ipyvizzu.animate(element, '361bbca', 'f8c2cf8', 'end', false, lib => { return {\"data\": {\"filter\": record => { return (record.Year == \"Total\" && record.Round == \"GS\") }}, \"config\": {\"y\": {\"set\": [\"Player\"], \"range\": {\"max\": null, \"min\": null}}, \"x\": [\"Count\", \"Tournament\", \"Level\", \"Total_GS\"], \"title\": \"Rafa tambi\\u00e9n lidera en el n\\u00famero total de Grand Slams ganados\"}} }, undefined);"
      ]
     },
     "metadata": {},
     "output_type": "display_data"
    },
    {
     "data": {
      "application/javascript": [
       "window.ipyvizzu.animate(element, '361bbca', '2c9d966', 'end', false, lib => { return {\"config\": {\"label\": [\"Total_GS\"]}, \"style\": {\"plot\": {\"marker\": {\"label\": {\"position\": \"right\", \"filter\": \"color(#666666FF)\"}}}}} }, undefined);"
      ]
     },
     "metadata": {},
     "output_type": "display_data"
    }
   ],
   "source": [
    "import pandas as pd  # Importamos la librería pandas para trabajar con datos tabulares\n",
    "from ipyvizzu import Chart, Data, Config, Style, DisplayTarget  # Importamos las clases necesarias de ipyvizzu\n",
    "\n",
    "# Cargamos los datos desde un archivo CSV en un DataFrame\n",
    "df = pd.read_csv(\n",
    "    \"https://ipyvizzu.vizzuhq.com/0.16/showcases/nadal/nadal.csv\",\n",
    "    dtype={  # Especificamos tipos de datos para ciertas columnas\n",
    "        \"Year\": str,\n",
    "        \"Round\": str,\n",
    "        \"Round2\": str,\n",
    "        \"Order_GS\": str,\n",
    "        \"Order_all\": str,\n",
    "        \"Total_GS\": str,\n",
    "        \"Top\": str,\n",
    "    },\n",
    ")\n",
    "\n",
    "data = Data()  # Creamos un objeto Data para manejar los datos\n",
    "data.add_df(df)  # Agregamos el DataFrame al objeto Data\n",
    "\n",
    "chart = Chart(display=DisplayTarget.END)  # Creamos un objeto Chart con DisplayTarget.END\n",
    "\n",
    "chart.animate(data)  # Animamos la gráfica utilizando los datos\n",
    "\n",
    "# Configuración y estilo inicial para la visualización\n",
    "chart.animate(\n",
    "    data.filter(\"record.Year != 'Total'\"),  # Filtramos registros que no son \"Total\"\n",
    "    Config(\n",
    "        {\n",
    "            \"x\": \"Year\",\n",
    "            \"y\": \"Round2\",\n",
    "            \"color\": {\n",
    "                \"set\": \"Result_Num\",\n",
    "                \"range\": {\"min\": -1, \"max\": 1},\n",
    "            },\n",
    "            \"size\": None,\n",
    "            \"orientation\": \"horizontal\",\n",
    "            \"geometry\": \"rectangle\",\n",
    "            \"title\": \"Partidos de Rafael Nadal en Roland Garros\",\n",
    "            \"legend\": \"size\",\n",
    "        }\n",
    "    ),\n",
    "    Style(\n",
    "        {\n",
    "            \"title\": {\n",
    "                \"paddingTop\": 50,\n",
    "                \"paddingBottom\": 0,\n",
    "            },\n",
    "            \"plot\": {\n",
    "                \"marker\": {\n",
    "                    \"borderWidth\": 3,\n",
    "                    \"borderOpacity\": 0,\n",
    "                    \"colorPalette\": \"#1EB55FFF #AD0000FF #AEAEAEFF\",\n",
    "                    \"colorGradient\": \"#AEAEAEFF 0.000000, #AD0000FF 0.500000, #1EB55FFF 1.000000\",\n",
    "                },\n",
    "                \"paddingLeft\": 20,\n",
    "                \"paddingBottom\": \"3.5em\",\n",
    "                \"paddingTop\": \"2.5em\",\n",
    "                \"xAxis\": {\"interlacing\": {\"color\": \"#ffffff00\"}},\n",
    "                \"yAxis\": {\"label\": {\"fontSize\": \"120%\"}},\n",
    "            },\n",
    "            \"logo\": {\"width\": 100},\n",
    "        }\n",
    "    ),\n",
    ")\n",
    "\n",
    "# Más animaciones y configuraciones\n",
    "chart.animate(\n",
    "    Config({\"lightness\": \"Won\", \"title\": \"Ganó 112 de 116 (96.5%)\"}),\n",
    "    Style({\"plot\": {\"marker\": {\"maxLightness\": 0, \"minLightness\": 0.8}}}),\n",
    "    delay=4,\n",
    ")\n",
    "\n",
    "chart.animate(\n",
    "    Config({\"lightness\": \"Lost\", \"title\": \"Perdió 3 veces, se retiró una vez\"}),\n",
    "    delay=4,\n",
    ")\n",
    "\n",
    "chart.animate(\n",
    "    Config({\"lightness\": None, \"title\": \"\"}),\n",
    "    Style({\"plot\": {\"marker\": {\"maxLightness\": None, \"minLightness\": None}}}),\n",
    "    delay=4,\n",
    ")\n",
    "\n",
    "chart.animate(\n",
    "    Config({\"lightness\": \"3SetWin\", \"title\": \"90 victorias (80%) en sets corridos\"}),\n",
    "    Style({\"plot\": {\"marker\": {\"maxLightness\": 0, \"minLightness\": 0.8}}}),\n",
    ")\n",
    "\n",
    "# Más animaciones y configuraciones\n",
    "chart.animate(\n",
    "    Config({\"lightness\": \"Straightwin\", \"title\": \"Ganó 4 títulos sin perder sets\"}),\n",
    "    delay=3,\n",
    ")\n",
    "\n",
    "chart.animate(\n",
    "    Config({\"lightness\": None, \"title\": \"\"}),\n",
    "    Style({\"plot\": {\"marker\": {\"maxLightness\": None, \"minLightness\": None}}}),\n",
    "    delay=4,\n",
    ")\n",
    "\n",
    "chart.animate(\n",
    "    Config(\n",
    "        {\"lightness\": \"Novak\", \"title\": \"Jugó más veces contra Djokovic - 10 partidos\"}\n",
    "    ),\n",
    "    Style({\"plot\": {\"marker\": {\"maxLightness\": 0, \"minLightness\": 0.8}}}),\n",
    ")\n",
    "\n",
    "# Más animaciones y configuraciones\n",
    "chart.animate(\n",
    "    Config(\n",
    "        {\"lightness\": \"Roger\", \"title\": \"Segundo en esta lista es Federer - con 6 encuentros\"}\n",
    "    ),\n",
    "    delay=4,\n",
    ")\n",
    "\n",
    "chart.animate(\n",
    "    Config({\"lightness\": \"Final\", \"title\": \"Rafa ganó sus 14 finales\"}),\n",
    "    delay=4,\n",
    ")\n",
    "\n",
    "# Más animaciones y configuraciones\n",
    "chart.animate(\n",
    "    data.filter(\"record.Year != 'Total' && record.Round == 'F'\"),  # Filtramos por año y ronda 'F'\n",
    "    Config(\n",
    "        {\n",
    "            \"y\": {\"set\": \"Round2\", \"range\": {\"max\": 1, \"min\": -5}},\n",
    "            \"x\": \"Count\",\n",
    "            \"lightness\": None,\n",
    "            \"noop\": \"Year\",\n",
    "            \"label\": None,\n",
    "            \"title\": \"\",\n",
    "        }\n",
    "    ),\n",
    "    Style(\n",
    "        {\n",
    "            \"plot\": {\n",
    "                \"marker\": {\n",
    "                    \"borderWidth\": 0,\n",
    "                    \"colorPalette\": \"#C6652A #CDA02E #47B0FF #329564 #5C88F2 #91A9B5 #DBC4B1\",\n",
    "                    \"maxLightness\": None,\n",
    "                    \"minLightness\": None,\n",
    "                    \"label\": {\n",
    "                        \"position\": \"center\",\n",
    "                        \"format\": \"dimensionsFirst\",\n",
    "                    },\n",
    "                },\n",
    "                \"xAxis\": {\n",
    "                    \"title\": {\"color\": \"#ffffff00\"},\n",
    "                    \"label\": {\"color\": \"#ffffff00\"},\n",
    "                    \"interlacing\": {\"color\": \"#ffffff00\"},\n",
    "                },\n",
    "                \"yAxis\": {\n",
    "                    \"title\": {\"color\": \"#ffffff00\"},\n",
    "                    \"label\": {\"color\": \"#ffffff00\", \"fontSize\": None},\n",
    "                },\n",
    "            }\n",
    "        }\n",
    "    ),\n",
    "    delay=3,\n",
    ")\n",
    "\n",
    "# Más animaciones y configuraciones\n",
    "chart.animate(\n",
    "    data.filter(\n",
    "        \"\"\"\n",
    "        record.Year == \"Total\" &&\n",
    "        record.Tournament == \"Roland Garros\" &&\n",
    "        record.Player == \"Nadal\"\n",
    "        \"\"\"\n",
    "    ),  # Filtramos registros específicos\n",
    "    Config(\n",
    "        {\n",
    "            \"noop\": [\"Level\", \"Round2\"],\n",
    "            \"label\": [\"Player\", \"Tournament\", \"Count\"],\n",
    "            \"y\": {\"set\": [\"Player\", \"Tournament\"]},\n",
    "        }\n",
    "    ),\n",
    "    duration=0,\n",
    ")\n",
    "\n",
    "# Más animaciones y configuraciones\n",
    "chart.animate(Config({\"noop\": \"Level\"}), duration=0)\n",
    "\n",
    "# Más animaciones y configuraciones\n",
    "chart.animate(\n",
    "    data.filter(\n",
    "        \"record.Year == 'Total' && record.Round == 'GS' && record.Top == '1'\"\n",
    "    ),  # Filtramos registros específicos\n",
    "    Config(\n",
    "        {\n",
    "            \"y\": {\n",
    "                \"set\": [\"Player\", \"Tournament\", \"Level\"],\n",
    "                \"range\":\n",
    "                {\"max\": None, \"min\": None},\n",
    "            },\n",
    "            \"title\": \"Rafa ganó el mismo título de Grand Slam varias veces\",\n",
    "            \"color\": \"Level\",\n",
    "            \"legend\": \"color\",\n",
    "            \"noop\": None,\n",
    "            \"sort\": \"byValue\",\n",
    "        }\n",
    "    ),\n",
    ")\n",
    "\n",
    "# Más animaciones y configuraciones\n",
    "chart.animate(\n",
    "    data.filter('record.Year == \"Total\" && record.Top == \"1\"'),  # Filtramos registros específicos\n",
    "    Config(\n",
    "        {\n",
    "            \"y\": {\n",
    "                \"set\": [\"Player\", \"Tournament\", \"Level\"],\n",
    "                \"range\": {\"max\": 19, \"min\": 7},\n",
    "            },\n",
    "            \"x\": [\"Count\"],\n",
    "            \"title\": \"Ganando el mismo título ATP - Rafa es 1ro, 2do, 3ro y 4to!\",\n",
    "        }\n",
    "    ),\n",
    "    delay=5,\n",
    ")\n",
    "\n",
    "# Más animaciones y configuraciones\n",
    "chart.animate(\n",
    "    data.filter('record.Year == \"Total\" && record.Round == \"GS\" && record.Top == \"1\"'),  # Filtramos registros específicos\n",
    "    Config(\n",
    "        {\n",
    "            \"y\": {\n",
    "                \"set\": [\"Player\", \"Tournament\", \"Level\"],\n",
    "                \"range\": {\"max\": None, \"min\": None},\n",
    "            },\n",
    "            \"x\": [\"Count\"],\n",
    "            \"title\": \"\",\n",
    "            \"color\": \"Level\",\n",
    "        }\n",
    "    ),\n",
    "    delay=5,\n",
    ")\n",
    "\n",
    "# Más animaciones y configuraciones\n",
    "chart.animate(Config({\"x\": [\"Count\", \"Total_GS\"], \"label\": \"Player\"}))\n",
    "\n",
    "# Más animaciones y configuraciones\n",
    "chart.animate(\n",
    "    data.filter('record.Year == \"Total\" && record.Round == \"GS\"'),  # Filtramos registros específicos\n",
    "    Config(\n",
    "        {\n",
    "            \"y\": {\n",
    "                \"set\": [\"Player\"],\n",
    "                \"range\": {\"max\": None, \"min\": None},\n",
    "            },\n",
    "            \"x\": [\"Count\", \"Tournament\", \"Level\", \"Total_GS\"],\n",
    "            \"title\": \"Rafa también lidera en el número total de Grand Slams ganados\",\n",
    "        }\n",
    "    ),\n",
    ")\n",
    "\n",
    "# Más animaciones y configuraciones\n",
    "chart.animate(\n",
    "    Config({\"label\": [\"Total_GS\"]}),\n",
    "    Style(\n",
    "        {\n",
    "            \"plot\": {\n",
    "                \"marker\": {\n",
    "                    \"label\": {\n",
    "                        \"position\": \"right\",\n",
    "                        \"filter\": \"color(#666666FF)\",\n",
    "                    }\n",
    "                }\n",
    "            }\n",
    "        }\n",
    "    ),\n",
    ")\n"
   ]
  }
 ],
 "metadata": {
  "kernelspec": {
   "display_name": "Python 3 (ipykernel)",
   "language": "python",
   "name": "python3"
  },
  "language_info": {
   "codemirror_mode": {
    "name": "ipython",
    "version": 3
   },
   "file_extension": ".py",
   "mimetype": "text/x-python",
   "name": "python",
   "nbconvert_exporter": "python",
   "pygments_lexer": "ipython3",
   "version": "3.8.10"
  }
 },
 "nbformat": 4,
 "nbformat_minor": 5
}
