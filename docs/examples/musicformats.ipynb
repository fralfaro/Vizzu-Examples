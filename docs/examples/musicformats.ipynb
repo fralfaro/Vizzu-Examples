{
 "cells": [
  {
   "cell_type": "markdown",
   "id": "326462fd",
   "metadata": {},
   "source": [
    "# Music formats (Year by Year)"
   ]
  },
  {
   "cell_type": "code",
   "execution_count": 2,
   "id": "2f191847",
   "metadata": {},
   "outputs": [
    {
     "data": {
      "application/javascript": [
       "if (window.IpyVizzu) { window.IpyVizzu.clearInhibitScroll(element); }"
      ]
     },
     "metadata": {},
     "output_type": "display_data"
    },
    {
     "data": {
      "application/javascript": [
       "class IpyVizzu {\n",
       "  static version = \"0.16.1\";\n",
       "  static analytics = undefined;\n",
       "  static inhibitScroll = false;\n",
       "\n",
       "  constructor() {\n",
       "    document.addEventListener(\n",
       "      \"wheel\",\n",
       "      (evt) => {\n",
       "        IpyVizzu.inhibitScroll = true;\n",
       "      },\n",
       "      true,\n",
       "    );\n",
       "    document.addEventListener(\n",
       "      \"keydown\",\n",
       "      (evt) => {\n",
       "        IpyVizzu.inhibitScroll = true;\n",
       "      },\n",
       "      true,\n",
       "    );\n",
       "    document.addEventListener(\n",
       "      \"touchstart\",\n",
       "      (evt) => {\n",
       "        IpyVizzu.inhibitScroll = true;\n",
       "      },\n",
       "      true,\n",
       "    );\n",
       "\n",
       "    this.elements = {};\n",
       "    this.charts = {};\n",
       "    this.controls = {};\n",
       "\n",
       "    this.storage = {};\n",
       "    this.displays = {};\n",
       "\n",
       "    this.events = {};\n",
       "    this.loaded = {};\n",
       "    this.libs = {};\n",
       "  }\n",
       "\n",
       "  static clearInhibitScroll(element) {\n",
       "    IpyVizzu.inhibitScroll = false;\n",
       "  }\n",
       "\n",
       "  createChart(element, chartId, vizzulib, divWidth, divHeight) {\n",
       "    this.elements[chartId] = document.createElement(\"div\");\n",
       "    this.elements[\n",
       "      chartId\n",
       "    ].style.cssText = `width: ${divWidth}; height: ${divHeight};`;\n",
       "    this.loaded[chartId] = import(vizzulib);\n",
       "    this.charts[chartId] = this.loaded[chartId].then((Vizzu) => {\n",
       "      this.libs[chartId] = Vizzu.default;\n",
       "      const VizzuConstructor = Vizzu.default;\n",
       "      return new VizzuConstructor(this.elements[chartId]).initializing;\n",
       "    });\n",
       "    this._moveHere(chartId, element);\n",
       "  }\n",
       "\n",
       "  animate(\n",
       "    element,\n",
       "    chartId,\n",
       "    animId,\n",
       "    displayTarget,\n",
       "    scrollEnabled,\n",
       "    getChartTarget,\n",
       "    chartAnimOpts,\n",
       "  ) {\n",
       "    if (displayTarget === \"end\") this._moveHere(chartId, element);\n",
       "    this.controls[chartId] = this.charts[chartId];\n",
       "    this.charts[chartId] = this.charts[chartId].then((chart) => {\n",
       "      if (displayTarget === \"actual\") this._moveHere(chartId, element);\n",
       "      this._scroll(chartId, scrollEnabled);\n",
       "      let chartTarget = getChartTarget(this.libs[chartId]);\n",
       "      if (typeof chartTarget === \"string\") {\n",
       "        chartTarget = this.storage[chartTarget];\n",
       "      } else if (Array.isArray(chartTarget)) {\n",
       "        for (let i = 0; i < chartTarget.length; i++) {\n",
       "          const target = chartTarget[i].target;\n",
       "          if (typeof target === \"string\") {\n",
       "            chartTarget[i].target = this.storage[target];\n",
       "          }\n",
       "        }\n",
       "      }\n",
       "      chart = chart.animate(chartTarget, chartAnimOpts);\n",
       "      this.controls[animId] = chart;\n",
       "      return chart;\n",
       "    });\n",
       "  }\n",
       "\n",
       "  store(element, chartId, id) {\n",
       "    this.charts[chartId] = this.charts[chartId].then((chart) => {\n",
       "      this.storage[id] = chart.store();\n",
       "      return chart;\n",
       "    });\n",
       "  }\n",
       "\n",
       "  feature(element, chartId, name, enabled) {\n",
       "    this.charts[chartId] = this.charts[chartId].then((chart) => {\n",
       "      chart.feature(name, enabled);\n",
       "      return chart;\n",
       "    });\n",
       "  }\n",
       "\n",
       "  setEvent(element, chartId, id, event, handler) {\n",
       "    this.charts[chartId] = this.charts[chartId].then((chart) => {\n",
       "      this.events[id] = handler;\n",
       "      chart.on(event, this.events[id]);\n",
       "      return chart;\n",
       "    });\n",
       "  }\n",
       "\n",
       "  clearEvent(element, chartId, id, event) {\n",
       "    this.charts[chartId] = this.charts[chartId].then((chart) => {\n",
       "      chart.off(event, this.events[id]);\n",
       "      return chart;\n",
       "    });\n",
       "  }\n",
       "\n",
       "  log(element, chartId, chartProperty) {\n",
       "    this.charts[chartId] = this.charts[chartId].then((chart) => {\n",
       "      console.log(chart[chartProperty]);\n",
       "      return chart;\n",
       "    });\n",
       "  }\n",
       "\n",
       "  control(element, method, prevId, lastId, ...params) {\n",
       "    this.controls[prevId].then(() => {\n",
       "      this.controls[lastId].activated.then((control) => {\n",
       "        if (method === \"seek\") {\n",
       "          const value = params[0];\n",
       "          control[method](value);\n",
       "          return;\n",
       "        }\n",
       "        if (method === \"store\") {\n",
       "          const id = params[0];\n",
       "          this.storage[id] = control[method]();\n",
       "          return;\n",
       "        }\n",
       "        control[method]();\n",
       "      });\n",
       "    });\n",
       "  }\n",
       "\n",
       "  _moveHere(chartId, element) {\n",
       "    element.append(this.elements[chartId]);\n",
       "  }\n",
       "\n",
       "  _scroll(chartId, enabled) {\n",
       "    if (!IpyVizzu.inhibitScroll && enabled) {\n",
       "      this.elements[chartId].scrollIntoView({\n",
       "        behavior: \"auto\",\n",
       "        block: \"center\",\n",
       "      });\n",
       "    }\n",
       "  }\n",
       "\n",
       "  static _hide(element) {\n",
       "    document.getElementById(\n",
       "      element.selector.substring(1),\n",
       "    ).parentNode.style.display = \"none\";\n",
       "  }\n",
       "\n",
       "  static _display(prevElement, element) {\n",
       "    if (prevElement.parentNode) {\n",
       "      prevElement.parentNode.style.display = \"none\";\n",
       "    }\n",
       "    document.getElementById(\n",
       "      element.selector.substring(1),\n",
       "    ).parentNode.style.display = \"flex\";\n",
       "    document.getElementById(\n",
       "      element.selector.substring(1),\n",
       "    ).parentNode.style.margin = \"auto\";\n",
       "  }\n",
       "\n",
       "  static changeAnalyticsTo(analytics) {\n",
       "    if (IpyVizzu.analytics !== analytics) {\n",
       "      console.log(\"ipyvizzu gather usage stats:\", analytics);\n",
       "      IpyVizzu.analytics = analytics;\n",
       "    }\n",
       "    if (analytics) {\n",
       "      IpyVizzu._addHeadScript();\n",
       "    } else {\n",
       "      IpyVizzu._removeScript(\"ipyvizzu-analytics-head\");\n",
       "    }\n",
       "  }\n",
       "\n",
       "  static _addHeadScript() {\n",
       "    const scriptId = \"ipyvizzu-analytics-head\";\n",
       "    if (!IpyVizzu._isScriptAppended(scriptId)) {\n",
       "      const script = document.createElement(\"script\");\n",
       "      script.defer = true;\n",
       "      script.src = \"https://plausible.io/js/script.local.js\";\n",
       "      script.dataset.domain = \"usage.ipyvizzu.com\";\n",
       "      script.id = scriptId;\n",
       "      document.getElementsByTagName(\"head\")[0].appendChild(script);\n",
       "    }\n",
       "  }\n",
       "\n",
       "  static _isScriptAppended(id) {\n",
       "    return document.querySelector(`script[id=\"${id}\"]`) !== null;\n",
       "  }\n",
       "\n",
       "  static _removeScript(id) {\n",
       "    const script = document.getElementById(id);\n",
       "    if (script) script.remove();\n",
       "  }\n",
       "}\n",
       "\n",
       "if (IpyVizzu.version !== window.IpyVizzu?.version) {\n",
       "  window.IpyVizzu = IpyVizzu;\n",
       "  console.log(`ipyvizzu ${IpyVizzu.version}`);\n",
       "  window.ipyvizzu = new window.IpyVizzu();\n",
       "}\n"
      ]
     },
     "metadata": {},
     "output_type": "display_data"
    },
    {
     "data": {
      "application/javascript": [
       "if (window.IpyVizzu) window.IpyVizzu.changeAnalyticsTo(true);"
      ]
     },
     "metadata": {},
     "output_type": "display_data"
    },
    {
     "data": {
      "application/javascript": [
       "window.ipyvizzu.createChart(element, '4a4ef33', 'https://cdn.jsdelivr.net/npm/vizzu@0.8/dist/vizzu.min.js', '800px', '480px');"
      ]
     },
     "metadata": {},
     "output_type": "display_data"
    },
    {
     "data": {
      "application/javascript": [
       "window.ipyvizzu.animate(element, '4a4ef33', 'be8add9', 'end', false, lib => { return {\"data\": {\"series\": [{\"name\": \"Year\", \"values\": [\"1972\", \"1972\", \"1972\", \"1972\", \"1972\", \"1972\", \"1972\", \"1972\", \"1973\", \"1973\", \"1973\", \"1974\", \"1974\", \"1974\", \"1975\", \"1975\", \"1975\", \"1976\", \"1976\", \"1976\", \"1977\", \"1977\", \"1977\", \"1978\", \"1978\", \"1978\", \"1979\", \"1979\", \"1979\", \"1980\", \"1980\", \"1980\", \"1981\", \"1981\", \"1981\", \"1982\", \"1982\", \"1982\", \"1983\", \"1983\", \"1983\", \"1984\", \"1984\", \"1984\", \"1985\", \"1985\", \"1985\", \"1986\", \"1986\", \"1986\", \"1987\", \"1987\", \"1987\", \"1988\", \"1988\", \"1988\", \"1989\", \"1989\", \"1989\", \"1989\", \"1990\", \"1990\", \"1990\", \"1990\", \"1991\", \"1991\", \"1991\", \"1991\", \"1992\", \"1992\", \"1992\", \"1992\", \"1993\", \"1993\", \"1993\", \"1993\", \"1994\", \"1994\", \"1994\", \"1994\", \"1995\", \"1995\", \"1995\", \"1995\", \"1996\", \"1996\", \"1996\", \"1996\", \"1997\", \"1997\", \"1997\", \"1997\", \"1998\", \"1998\", \"1998\", \"1998\", \"1999\", \"1999\", \"1999\", \"1999\", \"2000\", \"2000\", \"2000\", \"2000\", \"2001\", \"2001\", \"2001\", \"2001\", \"2002\", \"2002\", \"2002\", \"2002\", \"2003\", \"2003\", \"2003\", \"2003\", \"2004\", \"2004\", \"2004\", \"2004\", \"2004\", \"2004\", \"2005\", \"2005\", \"2005\", \"2005\", \"2005\", \"2005\", \"2005\", \"2006\", \"2006\", \"2006\", \"2006\", \"2006\", \"2006\", \"2006\", \"2007\", \"2007\", \"2007\", \"2007\", \"2007\", \"2007\", \"2007\", \"2008\", \"2008\", \"2008\", \"2008\", \"2008\", \"2008\", \"2008\", \"2009\", \"2009\", \"2009\", \"2009\", \"2009\", \"2009\", \"2010\", \"2010\", \"2010\", \"2010\", \"2010\", \"2010\", \"2011\", \"2011\", \"2011\", \"2011\", \"2011\", \"2011\", \"2012\", \"2012\", \"2012\", \"2012\", \"2012\", \"2012\", \"2013\", \"2013\", \"2013\", \"2013\", \"2013\", \"2013\", \"2014\", \"2014\", \"2014\", \"2014\", \"2014\", \"2014\", \"2015\", \"2015\", \"2015\", \"2015\", \"2015\", \"2015\", \"2016\", \"2016\", \"2016\", \"2016\", \"2016\", \"2016\", \"2017\", \"2017\", \"2017\", \"2017\", \"2017\", \"2017\", \"2018\", \"2018\", \"2018\", \"2018\", \"2018\", \"2018\", \"2019\", \"2019\", \"2019\", \"2019\", \"2019\", \"2019\", \"2020\", \"2020\", \"2020\", \"2020\", \"2020\", \"2020\"], \"type\": \"dimension\"}, {\"name\": \"Format\", \"values\": [\"Other\", \"DVD\", \"Tapes\", \"Download\", \"Streaming\", \"Cassette\", \"Vinyl\", \"CD\", \"Cassette\", \"Tapes\", \"Vinyl\", \"Cassette\", \"Tapes\", \"Vinyl\", \"Cassette\", \"Tapes\", \"Vinyl\", \"Cassette\", \"Tapes\", \"Vinyl\", \"Cassette\", \"Tapes\", \"Vinyl\", \"Cassette\", \"Tapes\", \"Vinyl\", \"Cassette\", \"Tapes\", \"Vinyl\", \"Tapes\", \"Cassette\", \"Vinyl\", \"Tapes\", \"Cassette\", \"Vinyl\", \"Tapes\", \"Cassette\", \"Vinyl\", \"CD\", \"Cassette\", \"Vinyl\", \"CD\", \"Vinyl\", \"Cassette\", \"CD\", \"Vinyl\", \"Cassette\", \"CD\", \"Vinyl\", \"Cassette\", \"Vinyl\", \"CD\", \"Cassette\", \"Vinyl\", \"CD\", \"Cassette\", \"DVD\", \"Vinyl\", \"CD\", \"Cassette\", \"DVD\", \"Vinyl\", \"CD\", \"Cassette\", \"Vinyl\", \"DVD\", \"Cassette\", \"CD\", \"Vinyl\", \"DVD\", \"Cassette\", \"CD\", \"Vinyl\", \"DVD\", \"Cassette\", \"CD\", \"Vinyl\", \"DVD\", \"Cassette\", \"CD\", \"Vinyl\", \"DVD\", \"Cassette\", \"CD\", \"Vinyl\", \"DVD\", \"Cassette\", \"CD\", \"Vinyl\", \"DVD\", \"Cassette\", \"CD\", \"Vinyl\", \"DVD\", \"Cassette\", \"CD\", \"Vinyl\", \"DVD\", \"Cassette\", \"CD\", \"Vinyl\", \"DVD\", \"Cassette\", \"CD\", \"Vinyl\", \"DVD\", \"Cassette\", \"CD\", \"Vinyl\", \"Cassette\", \"DVD\", \"CD\", \"Vinyl\", \"Cassette\", \"DVD\", \"CD\", \"Streaming\", \"Cassette\", \"Vinyl\", \"Download\", \"DVD\", \"CD\", \"Cassette\", \"Vinyl\", \"Streaming\", \"Other\", \"Download\", \"DVD\", \"CD\", \"Cassette\", \"Vinyl\", \"Streaming\", \"DVD\", \"Other\", \"Download\", \"CD\", \"Cassette\", \"Vinyl\", \"Streaming\", \"DVD\", \"Other\", \"Download\", \"CD\", \"Cassette\", \"Vinyl\", \"DVD\", \"Streaming\", \"Other\", \"Download\", \"CD\", \"Vinyl\", \"DVD\", \"Streaming\", \"Other\", \"Download\", \"CD\", \"Vinyl\", \"DVD\", \"Streaming\", \"Other\", \"Download\", \"CD\", \"Vinyl\", \"DVD\", \"Other\", \"Streaming\", \"Download\", \"CD\", \"DVD\", \"Vinyl\", \"Other\", \"Streaming\", \"CD\", \"Download\", \"DVD\", \"Vinyl\", \"Other\", \"Streaming\", \"CD\", \"Download\", \"DVD\", \"Vinyl\", \"Other\", \"CD\", \"Streaming\", \"Download\", \"DVD\", \"Other\", \"Vinyl\", \"CD\", \"Download\", \"Streaming\", \"DVD\", \"Other\", \"Vinyl\", \"CD\", \"Download\", \"Streaming\", \"DVD\", \"Other\", \"Vinyl\", \"CD\", \"Download\", \"Streaming\", \"DVD\", \"Other\", \"Vinyl\", \"CD\", \"Download\", \"Streaming\", \"DVD\", \"Other\", \"Vinyl\", \"CD\", \"Download\", \"Streaming\", \"DVD\", \"Other\", \"CD\", \"Vinyl\", \"Download\", \"Streaming\"], \"type\": \"dimension\"}, {\"name\": \"Revenue [m$]\", \"values\": [0.0, 0.0, 0.0, 0.0, 0.0, 0.0, 0.0, 0.0, 443.0, 2941.0, 8371.0, 458.0, 2953.0, 8137.0, 475.0, 2854.0, 8161.0, 663.0, 3108.0, 8679.0, 1066.0, 3464.0, 10422.0, 1786.0, 3763.0, 10851.0, 2070.0, 2440.0, 8594.0, 1655.0, 2214.0, 7695.0, 891.0, 3026.0, 7397.0, 97.0, 3713.0, 5922.0, 45.0, 4706.0, 5089.0, 257.0, 4602.0, 5938.0, 937.0, 3756.0, 5800.0, 2196.0, 2860.0, 5902.0, 2270.0, 3631.0, 6776.0, 1559.0, 4594.0, 7531.0, 241.0, 703.0, 5401.0, 7390.0, 341.0, 358.0, 6847.0, 7387.0, 177.0, 224.0, 6176.0, 8309.0, 147.0, 290.0, 6300.0, 9909.0, 111.0, 382.0, 5757.0, 11745.0, 114.0, 404.0, 5678.0, 14880.0, 122.0, 374.0, 4313.0, 16113.0, 139.0, 390.0, 3455.0, 16691.0, 111.0, 522.0, 2671.0, 16428.0, 95.0, 807.0, 2404.0, 18465.0, 93.0, 585.0, 1724.0, 20256.0, 81.0, 424.0, 948.0, 20075.0, 86.0, 490.0, 531.0, 18982.0, 65.0, 302.0, 427.0, 17355.0, 61.0, 152.0, 574.0, 15888.0, 10.0, 33.0, 54.0, 251.0, 841.0, 15726.0, 17.0, 36.0, 225.0, 560.0, 666.0, 813.0, 13969.0, 5.0, 33.0, 307.0, 582.0, 996.0, 1125.0, 12049.0, 4.0, 34.0, 337.0, 609.0, 1321.0, 1669.0, 9324.0, 1.0, 72.0, 275.0, 386.0, 1178.0, 2054.0, 6585.0, 80.0, 255.0, 436.0, 1098.0, 2361.0, 5217.0, 108.0, 212.0, 548.0, 763.0, 2665.0, 4028.0, 143.0, 174.0, 547.0, 752.0, 3021.0, 3573.0, 132.0, 187.0, 384.0, 1164.0, 2807.0, 3236.0, 118.0, 237.0, 327.0, 1616.0, 2382.0, 3136.0, 100.0, 273.0, 283.0, 1947.0, 1998.0, 2719.0, 83.0, 285.0, 370.0, 1580.0, 2464.0, 2546.0, 64.0, 296.0, 389.0, 1221.0, 1930.0, 4179.0, 40.0, 285.0, 417.0, 1103.0, 1412.0, 5721.0, 30.0, 322.0, 438.0, 718.0, 1038.0, 7491.0, 28.0, 307.0, 492.0, 639.0, 810.0, 8992.0, 29.0, 287.0, 484.0, 626.0, 653.0, 10075.0], \"type\": \"measure\"}]}, \"style\": {\"plot\": {\"paddingLeft\": 100, \"paddingTop\": 25, \"yAxis\": {\"color\": \"#ffffff00\", \"label\": {\"paddingRight\": 10}}, \"xAxis\": {\"title\": {\"color\": \"#ffffff00\"}, \"label\": {\"color\": \"#ffffff00\", \"numberFormat\": \"grouped\"}}, \"marker\": {\"colorPalette\": \"#b74c20FF #c47f58FF #1c9761FF #ea4549FF #875792FF #3562b6FF #ee7c34FF #efae3aFF\"}}}} }, undefined);"
      ]
     },
     "metadata": {},
     "output_type": "display_data"
    },
    {
     "data": {
      "application/javascript": [
       "window.ipyvizzu.animate(element, '4a4ef33', '5a20df8', 'end', false, lib => { return {\"data\": {\"filter\": record => { return (parseInt(record.Year) == 1973) }}, \"config\": {\"channels\": {\"y\": {\"set\": [\"Format\"]}, \"x\": {\"set\": [\"Revenue [m$]\"]}, \"label\": {\"set\": [\"Revenue [m$]\"]}, \"color\": {\"set\": [\"Format\"]}}, \"sort\": \"byValue\", \"title\": \"Ingresos de la M\\u00fasica por Formato - A\\u00f1o a A\\u00f1o 1973\"}} }, {\"duration\": 0.2, \"x\": {\"easing\": \"linear\", \"delay\": 0}, \"y\": {\"delay\": 0}, \"show\": {\"delay\": 0}, \"hide\": {\"delay\": 0}, \"title\": {\"duration\": 0, \"delay\": 0}});"
      ]
     },
     "metadata": {},
     "output_type": "display_data"
    },
    {
     "data": {
      "application/javascript": [
       "window.ipyvizzu.animate(element, '4a4ef33', '127bfb7', 'end', false, lib => { return {\"data\": {\"filter\": record => { return (parseInt(record.Year) == 1974) }}, \"config\": {\"channels\": {\"y\": {\"set\": [\"Format\"]}, \"x\": {\"set\": [\"Revenue [m$]\"]}, \"label\": {\"set\": [\"Revenue [m$]\"]}, \"color\": {\"set\": [\"Format\"]}}, \"sort\": \"byValue\", \"title\": \"Ingresos de la M\\u00fasica por Formato - A\\u00f1o a A\\u00f1o 1974\"}} }, {\"duration\": 0.2, \"x\": {\"easing\": \"linear\", \"delay\": 0}, \"y\": {\"delay\": 0}, \"show\": {\"delay\": 0}, \"hide\": {\"delay\": 0}, \"title\": {\"duration\": 0, \"delay\": 0}});"
      ]
     },
     "metadata": {},
     "output_type": "display_data"
    },
    {
     "data": {
      "application/javascript": [
       "window.ipyvizzu.animate(element, '4a4ef33', '20bd12f', 'end', false, lib => { return {\"data\": {\"filter\": record => { return (parseInt(record.Year) == 1975) }}, \"config\": {\"channels\": {\"y\": {\"set\": [\"Format\"]}, \"x\": {\"set\": [\"Revenue [m$]\"]}, \"label\": {\"set\": [\"Revenue [m$]\"]}, \"color\": {\"set\": [\"Format\"]}}, \"sort\": \"byValue\", \"title\": \"Ingresos de la M\\u00fasica por Formato - A\\u00f1o a A\\u00f1o 1975\"}} }, {\"duration\": 0.2, \"x\": {\"easing\": \"linear\", \"delay\": 0}, \"y\": {\"delay\": 0}, \"show\": {\"delay\": 0}, \"hide\": {\"delay\": 0}, \"title\": {\"duration\": 0, \"delay\": 0}});"
      ]
     },
     "metadata": {},
     "output_type": "display_data"
    },
    {
     "data": {
      "application/javascript": [
       "window.ipyvizzu.animate(element, '4a4ef33', '386cc30', 'end', false, lib => { return {\"data\": {\"filter\": record => { return (parseInt(record.Year) == 1976) }}, \"config\": {\"channels\": {\"y\": {\"set\": [\"Format\"]}, \"x\": {\"set\": [\"Revenue [m$]\"]}, \"label\": {\"set\": [\"Revenue [m$]\"]}, \"color\": {\"set\": [\"Format\"]}}, \"sort\": \"byValue\", \"title\": \"Ingresos de la M\\u00fasica por Formato - A\\u00f1o a A\\u00f1o 1976\"}} }, {\"duration\": 0.2, \"x\": {\"easing\": \"linear\", \"delay\": 0}, \"y\": {\"delay\": 0}, \"show\": {\"delay\": 0}, \"hide\": {\"delay\": 0}, \"title\": {\"duration\": 0, \"delay\": 0}});"
      ]
     },
     "metadata": {},
     "output_type": "display_data"
    },
    {
     "data": {
      "application/javascript": [
       "window.ipyvizzu.animate(element, '4a4ef33', '31861fd', 'end', false, lib => { return {\"data\": {\"filter\": record => { return (parseInt(record.Year) == 1977) }}, \"config\": {\"channels\": {\"y\": {\"set\": [\"Format\"]}, \"x\": {\"set\": [\"Revenue [m$]\"]}, \"label\": {\"set\": [\"Revenue [m$]\"]}, \"color\": {\"set\": [\"Format\"]}}, \"sort\": \"byValue\", \"title\": \"Ingresos de la M\\u00fasica por Formato - A\\u00f1o a A\\u00f1o 1977\"}} }, {\"duration\": 0.2, \"x\": {\"easing\": \"linear\", \"delay\": 0}, \"y\": {\"delay\": 0}, \"show\": {\"delay\": 0}, \"hide\": {\"delay\": 0}, \"title\": {\"duration\": 0, \"delay\": 0}});"
      ]
     },
     "metadata": {},
     "output_type": "display_data"
    },
    {
     "data": {
      "application/javascript": [
       "window.ipyvizzu.animate(element, '4a4ef33', '307a97d', 'end', false, lib => { return {\"data\": {\"filter\": record => { return (parseInt(record.Year) == 1978) }}, \"config\": {\"channels\": {\"y\": {\"set\": [\"Format\"]}, \"x\": {\"set\": [\"Revenue [m$]\"]}, \"label\": {\"set\": [\"Revenue [m$]\"]}, \"color\": {\"set\": [\"Format\"]}}, \"sort\": \"byValue\", \"title\": \"Ingresos de la M\\u00fasica por Formato - A\\u00f1o a A\\u00f1o 1978\"}} }, {\"duration\": 0.2, \"x\": {\"easing\": \"linear\", \"delay\": 0}, \"y\": {\"delay\": 0}, \"show\": {\"delay\": 0}, \"hide\": {\"delay\": 0}, \"title\": {\"duration\": 0, \"delay\": 0}});"
      ]
     },
     "metadata": {},
     "output_type": "display_data"
    },
    {
     "data": {
      "application/javascript": [
       "window.ipyvizzu.animate(element, '4a4ef33', '1a97f3e', 'end', false, lib => { return {\"data\": {\"filter\": record => { return (parseInt(record.Year) == 1979) }}, \"config\": {\"channels\": {\"y\": {\"set\": [\"Format\"]}, \"x\": {\"set\": [\"Revenue [m$]\"]}, \"label\": {\"set\": [\"Revenue [m$]\"]}, \"color\": {\"set\": [\"Format\"]}}, \"sort\": \"byValue\", \"title\": \"Ingresos de la M\\u00fasica por Formato - A\\u00f1o a A\\u00f1o 1979\"}} }, {\"duration\": 0.2, \"x\": {\"easing\": \"linear\", \"delay\": 0}, \"y\": {\"delay\": 0}, \"show\": {\"delay\": 0}, \"hide\": {\"delay\": 0}, \"title\": {\"duration\": 0, \"delay\": 0}});"
      ]
     },
     "metadata": {},
     "output_type": "display_data"
    },
    {
     "data": {
      "application/javascript": [
       "window.ipyvizzu.animate(element, '4a4ef33', '88fdf13', 'end', false, lib => { return {\"data\": {\"filter\": record => { return (parseInt(record.Year) == 1980) }}, \"config\": {\"channels\": {\"y\": {\"set\": [\"Format\"]}, \"x\": {\"set\": [\"Revenue [m$]\"]}, \"label\": {\"set\": [\"Revenue [m$]\"]}, \"color\": {\"set\": [\"Format\"]}}, \"sort\": \"byValue\", \"title\": \"Ingresos de la M\\u00fasica por Formato - A\\u00f1o a A\\u00f1o 1980\"}} }, {\"duration\": 0.2, \"x\": {\"easing\": \"linear\", \"delay\": 0}, \"y\": {\"delay\": 0}, \"show\": {\"delay\": 0}, \"hide\": {\"delay\": 0}, \"title\": {\"duration\": 0, \"delay\": 0}});"
      ]
     },
     "metadata": {},
     "output_type": "display_data"
    },
    {
     "data": {
      "application/javascript": [
       "window.ipyvizzu.animate(element, '4a4ef33', 'e30ba3d', 'end', false, lib => { return {\"data\": {\"filter\": record => { return (parseInt(record.Year) == 1981) }}, \"config\": {\"channels\": {\"y\": {\"set\": [\"Format\"]}, \"x\": {\"set\": [\"Revenue [m$]\"]}, \"label\": {\"set\": [\"Revenue [m$]\"]}, \"color\": {\"set\": [\"Format\"]}}, \"sort\": \"byValue\", \"title\": \"Ingresos de la M\\u00fasica por Formato - A\\u00f1o a A\\u00f1o 1981\"}} }, {\"duration\": 0.2, \"x\": {\"easing\": \"linear\", \"delay\": 0}, \"y\": {\"delay\": 0}, \"show\": {\"delay\": 0}, \"hide\": {\"delay\": 0}, \"title\": {\"duration\": 0, \"delay\": 0}});"
      ]
     },
     "metadata": {},
     "output_type": "display_data"
    },
    {
     "data": {
      "application/javascript": [
       "window.ipyvizzu.animate(element, '4a4ef33', 'd5a50f0', 'end', false, lib => { return {\"data\": {\"filter\": record => { return (parseInt(record.Year) == 1982) }}, \"config\": {\"channels\": {\"y\": {\"set\": [\"Format\"]}, \"x\": {\"set\": [\"Revenue [m$]\"]}, \"label\": {\"set\": [\"Revenue [m$]\"]}, \"color\": {\"set\": [\"Format\"]}}, \"sort\": \"byValue\", \"title\": \"Ingresos de la M\\u00fasica por Formato - A\\u00f1o a A\\u00f1o 1982\"}} }, {\"duration\": 0.2, \"x\": {\"easing\": \"linear\", \"delay\": 0}, \"y\": {\"delay\": 0}, \"show\": {\"delay\": 0}, \"hide\": {\"delay\": 0}, \"title\": {\"duration\": 0, \"delay\": 0}});"
      ]
     },
     "metadata": {},
     "output_type": "display_data"
    },
    {
     "data": {
      "application/javascript": [
       "window.ipyvizzu.animate(element, '4a4ef33', '05ff7f9', 'end', false, lib => { return {\"data\": {\"filter\": record => { return (parseInt(record.Year) == 1983) }}, \"config\": {\"channels\": {\"y\": {\"set\": [\"Format\"]}, \"x\": {\"set\": [\"Revenue [m$]\"]}, \"label\": {\"set\": [\"Revenue [m$]\"]}, \"color\": {\"set\": [\"Format\"]}}, \"sort\": \"byValue\", \"title\": \"Ingresos de la M\\u00fasica por Formato - A\\u00f1o a A\\u00f1o 1983\"}} }, {\"duration\": 0.2, \"x\": {\"easing\": \"linear\", \"delay\": 0}, \"y\": {\"delay\": 0}, \"show\": {\"delay\": 0}, \"hide\": {\"delay\": 0}, \"title\": {\"duration\": 0, \"delay\": 0}});"
      ]
     },
     "metadata": {},
     "output_type": "display_data"
    },
    {
     "data": {
      "application/javascript": [
       "window.ipyvizzu.animate(element, '4a4ef33', '3a3ff4c', 'end', false, lib => { return {\"data\": {\"filter\": record => { return (parseInt(record.Year) == 1984) }}, \"config\": {\"channels\": {\"y\": {\"set\": [\"Format\"]}, \"x\": {\"set\": [\"Revenue [m$]\"]}, \"label\": {\"set\": [\"Revenue [m$]\"]}, \"color\": {\"set\": [\"Format\"]}}, \"sort\": \"byValue\", \"title\": \"Ingresos de la M\\u00fasica por Formato - A\\u00f1o a A\\u00f1o 1984\"}} }, {\"duration\": 0.2, \"x\": {\"easing\": \"linear\", \"delay\": 0}, \"y\": {\"delay\": 0}, \"show\": {\"delay\": 0}, \"hide\": {\"delay\": 0}, \"title\": {\"duration\": 0, \"delay\": 0}});"
      ]
     },
     "metadata": {},
     "output_type": "display_data"
    },
    {
     "data": {
      "application/javascript": [
       "window.ipyvizzu.animate(element, '4a4ef33', '170fd06', 'end', false, lib => { return {\"data\": {\"filter\": record => { return (parseInt(record.Year) == 1985) }}, \"config\": {\"channels\": {\"y\": {\"set\": [\"Format\"]}, \"x\": {\"set\": [\"Revenue [m$]\"]}, \"label\": {\"set\": [\"Revenue [m$]\"]}, \"color\": {\"set\": [\"Format\"]}}, \"sort\": \"byValue\", \"title\": \"Ingresos de la M\\u00fasica por Formato - A\\u00f1o a A\\u00f1o 1985\"}} }, {\"duration\": 0.2, \"x\": {\"easing\": \"linear\", \"delay\": 0}, \"y\": {\"delay\": 0}, \"show\": {\"delay\": 0}, \"hide\": {\"delay\": 0}, \"title\": {\"duration\": 0, \"delay\": 0}});"
      ]
     },
     "metadata": {},
     "output_type": "display_data"
    },
    {
     "data": {
      "application/javascript": [
       "window.ipyvizzu.animate(element, '4a4ef33', '99885d1', 'end', false, lib => { return {\"data\": {\"filter\": record => { return (parseInt(record.Year) == 1986) }}, \"config\": {\"channels\": {\"y\": {\"set\": [\"Format\"]}, \"x\": {\"set\": [\"Revenue [m$]\"]}, \"label\": {\"set\": [\"Revenue [m$]\"]}, \"color\": {\"set\": [\"Format\"]}}, \"sort\": \"byValue\", \"title\": \"Ingresos de la M\\u00fasica por Formato - A\\u00f1o a A\\u00f1o 1986\"}} }, {\"duration\": 0.2, \"x\": {\"easing\": \"linear\", \"delay\": 0}, \"y\": {\"delay\": 0}, \"show\": {\"delay\": 0}, \"hide\": {\"delay\": 0}, \"title\": {\"duration\": 0, \"delay\": 0}});"
      ]
     },
     "metadata": {},
     "output_type": "display_data"
    },
    {
     "data": {
      "application/javascript": [
       "window.ipyvizzu.animate(element, '4a4ef33', '2fed83f', 'end', false, lib => { return {\"data\": {\"filter\": record => { return (parseInt(record.Year) == 1987) }}, \"config\": {\"channels\": {\"y\": {\"set\": [\"Format\"]}, \"x\": {\"set\": [\"Revenue [m$]\"]}, \"label\": {\"set\": [\"Revenue [m$]\"]}, \"color\": {\"set\": [\"Format\"]}}, \"sort\": \"byValue\", \"title\": \"Ingresos de la M\\u00fasica por Formato - A\\u00f1o a A\\u00f1o 1987\"}} }, {\"duration\": 0.2, \"x\": {\"easing\": \"linear\", \"delay\": 0}, \"y\": {\"delay\": 0}, \"show\": {\"delay\": 0}, \"hide\": {\"delay\": 0}, \"title\": {\"duration\": 0, \"delay\": 0}});"
      ]
     },
     "metadata": {},
     "output_type": "display_data"
    },
    {
     "data": {
      "application/javascript": [
       "window.ipyvizzu.animate(element, '4a4ef33', 'c617010', 'end', false, lib => { return {\"data\": {\"filter\": record => { return (parseInt(record.Year) == 1988) }}, \"config\": {\"channels\": {\"y\": {\"set\": [\"Format\"]}, \"x\": {\"set\": [\"Revenue [m$]\"]}, \"label\": {\"set\": [\"Revenue [m$]\"]}, \"color\": {\"set\": [\"Format\"]}}, \"sort\": \"byValue\", \"title\": \"Ingresos de la M\\u00fasica por Formato - A\\u00f1o a A\\u00f1o 1988\"}} }, {\"duration\": 0.2, \"x\": {\"easing\": \"linear\", \"delay\": 0}, \"y\": {\"delay\": 0}, \"show\": {\"delay\": 0}, \"hide\": {\"delay\": 0}, \"title\": {\"duration\": 0, \"delay\": 0}});"
      ]
     },
     "metadata": {},
     "output_type": "display_data"
    },
    {
     "data": {
      "application/javascript": [
       "window.ipyvizzu.animate(element, '4a4ef33', '93ad37a', 'end', false, lib => { return {\"data\": {\"filter\": record => { return (parseInt(record.Year) == 1989) }}, \"config\": {\"channels\": {\"y\": {\"set\": [\"Format\"]}, \"x\": {\"set\": [\"Revenue [m$]\"]}, \"label\": {\"set\": [\"Revenue [m$]\"]}, \"color\": {\"set\": [\"Format\"]}}, \"sort\": \"byValue\", \"title\": \"Ingresos de la M\\u00fasica por Formato - A\\u00f1o a A\\u00f1o 1989\"}} }, {\"duration\": 0.2, \"x\": {\"easing\": \"linear\", \"delay\": 0}, \"y\": {\"delay\": 0}, \"show\": {\"delay\": 0}, \"hide\": {\"delay\": 0}, \"title\": {\"duration\": 0, \"delay\": 0}});"
      ]
     },
     "metadata": {},
     "output_type": "display_data"
    },
    {
     "data": {
      "application/javascript": [
       "window.ipyvizzu.animate(element, '4a4ef33', '8b12f57', 'end', false, lib => { return {\"data\": {\"filter\": record => { return (parseInt(record.Year) == 1990) }}, \"config\": {\"channels\": {\"y\": {\"set\": [\"Format\"]}, \"x\": {\"set\": [\"Revenue [m$]\"]}, \"label\": {\"set\": [\"Revenue [m$]\"]}, \"color\": {\"set\": [\"Format\"]}}, \"sort\": \"byValue\", \"title\": \"Ingresos de la M\\u00fasica por Formato - A\\u00f1o a A\\u00f1o 1990\"}} }, {\"duration\": 0.2, \"x\": {\"easing\": \"linear\", \"delay\": 0}, \"y\": {\"delay\": 0}, \"show\": {\"delay\": 0}, \"hide\": {\"delay\": 0}, \"title\": {\"duration\": 0, \"delay\": 0}});"
      ]
     },
     "metadata": {},
     "output_type": "display_data"
    },
    {
     "data": {
      "application/javascript": [
       "window.ipyvizzu.animate(element, '4a4ef33', 'f361002', 'end', false, lib => { return {\"data\": {\"filter\": record => { return (parseInt(record.Year) == 1991) }}, \"config\": {\"channels\": {\"y\": {\"set\": [\"Format\"]}, \"x\": {\"set\": [\"Revenue [m$]\"]}, \"label\": {\"set\": [\"Revenue [m$]\"]}, \"color\": {\"set\": [\"Format\"]}}, \"sort\": \"byValue\", \"title\": \"Ingresos de la M\\u00fasica por Formato - A\\u00f1o a A\\u00f1o 1991\"}} }, {\"duration\": 0.2, \"x\": {\"easing\": \"linear\", \"delay\": 0}, \"y\": {\"delay\": 0}, \"show\": {\"delay\": 0}, \"hide\": {\"delay\": 0}, \"title\": {\"duration\": 0, \"delay\": 0}});"
      ]
     },
     "metadata": {},
     "output_type": "display_data"
    },
    {
     "data": {
      "application/javascript": [
       "window.ipyvizzu.animate(element, '4a4ef33', 'a1e9561', 'end', false, lib => { return {\"data\": {\"filter\": record => { return (parseInt(record.Year) == 1992) }}, \"config\": {\"channels\": {\"y\": {\"set\": [\"Format\"]}, \"x\": {\"set\": [\"Revenue [m$]\"]}, \"label\": {\"set\": [\"Revenue [m$]\"]}, \"color\": {\"set\": [\"Format\"]}}, \"sort\": \"byValue\", \"title\": \"Ingresos de la M\\u00fasica por Formato - A\\u00f1o a A\\u00f1o 1992\"}} }, {\"duration\": 0.2, \"x\": {\"easing\": \"linear\", \"delay\": 0}, \"y\": {\"delay\": 0}, \"show\": {\"delay\": 0}, \"hide\": {\"delay\": 0}, \"title\": {\"duration\": 0, \"delay\": 0}});"
      ]
     },
     "metadata": {},
     "output_type": "display_data"
    },
    {
     "data": {
      "application/javascript": [
       "window.ipyvizzu.animate(element, '4a4ef33', '1a86133', 'end', false, lib => { return {\"data\": {\"filter\": record => { return (parseInt(record.Year) == 1993) }}, \"config\": {\"channels\": {\"y\": {\"set\": [\"Format\"]}, \"x\": {\"set\": [\"Revenue [m$]\"]}, \"label\": {\"set\": [\"Revenue [m$]\"]}, \"color\": {\"set\": [\"Format\"]}}, \"sort\": \"byValue\", \"title\": \"Ingresos de la M\\u00fasica por Formato - A\\u00f1o a A\\u00f1o 1993\"}} }, {\"duration\": 0.2, \"x\": {\"easing\": \"linear\", \"delay\": 0}, \"y\": {\"delay\": 0}, \"show\": {\"delay\": 0}, \"hide\": {\"delay\": 0}, \"title\": {\"duration\": 0, \"delay\": 0}});"
      ]
     },
     "metadata": {},
     "output_type": "display_data"
    },
    {
     "data": {
      "application/javascript": [
       "window.ipyvizzu.animate(element, '4a4ef33', 'aea1211', 'end', false, lib => { return {\"data\": {\"filter\": record => { return (parseInt(record.Year) == 1994) }}, \"config\": {\"channels\": {\"y\": {\"set\": [\"Format\"]}, \"x\": {\"set\": [\"Revenue [m$]\"]}, \"label\": {\"set\": [\"Revenue [m$]\"]}, \"color\": {\"set\": [\"Format\"]}}, \"sort\": \"byValue\", \"title\": \"Ingresos de la M\\u00fasica por Formato - A\\u00f1o a A\\u00f1o 1994\"}} }, {\"duration\": 0.2, \"x\": {\"easing\": \"linear\", \"delay\": 0}, \"y\": {\"delay\": 0}, \"show\": {\"delay\": 0}, \"hide\": {\"delay\": 0}, \"title\": {\"duration\": 0, \"delay\": 0}});"
      ]
     },
     "metadata": {},
     "output_type": "display_data"
    },
    {
     "data": {
      "application/javascript": [
       "window.ipyvizzu.animate(element, '4a4ef33', '9f3f039', 'end', false, lib => { return {\"data\": {\"filter\": record => { return (parseInt(record.Year) == 1995) }}, \"config\": {\"channels\": {\"y\": {\"set\": [\"Format\"]}, \"x\": {\"set\": [\"Revenue [m$]\"]}, \"label\": {\"set\": [\"Revenue [m$]\"]}, \"color\": {\"set\": [\"Format\"]}}, \"sort\": \"byValue\", \"title\": \"Ingresos de la M\\u00fasica por Formato - A\\u00f1o a A\\u00f1o 1995\"}} }, {\"duration\": 0.2, \"x\": {\"easing\": \"linear\", \"delay\": 0}, \"y\": {\"delay\": 0}, \"show\": {\"delay\": 0}, \"hide\": {\"delay\": 0}, \"title\": {\"duration\": 0, \"delay\": 0}});"
      ]
     },
     "metadata": {},
     "output_type": "display_data"
    },
    {
     "data": {
      "application/javascript": [
       "window.ipyvizzu.animate(element, '4a4ef33', '29584f0', 'end', false, lib => { return {\"data\": {\"filter\": record => { return (parseInt(record.Year) == 1996) }}, \"config\": {\"channels\": {\"y\": {\"set\": [\"Format\"]}, \"x\": {\"set\": [\"Revenue [m$]\"]}, \"label\": {\"set\": [\"Revenue [m$]\"]}, \"color\": {\"set\": [\"Format\"]}}, \"sort\": \"byValue\", \"title\": \"Ingresos de la M\\u00fasica por Formato - A\\u00f1o a A\\u00f1o 1996\"}} }, {\"duration\": 0.2, \"x\": {\"easing\": \"linear\", \"delay\": 0}, \"y\": {\"delay\": 0}, \"show\": {\"delay\": 0}, \"hide\": {\"delay\": 0}, \"title\": {\"duration\": 0, \"delay\": 0}});"
      ]
     },
     "metadata": {},
     "output_type": "display_data"
    },
    {
     "data": {
      "application/javascript": [
       "window.ipyvizzu.animate(element, '4a4ef33', 'f38f671', 'end', false, lib => { return {\"data\": {\"filter\": record => { return (parseInt(record.Year) == 1997) }}, \"config\": {\"channels\": {\"y\": {\"set\": [\"Format\"]}, \"x\": {\"set\": [\"Revenue [m$]\"]}, \"label\": {\"set\": [\"Revenue [m$]\"]}, \"color\": {\"set\": [\"Format\"]}}, \"sort\": \"byValue\", \"title\": \"Ingresos de la M\\u00fasica por Formato - A\\u00f1o a A\\u00f1o 1997\"}} }, {\"duration\": 0.2, \"x\": {\"easing\": \"linear\", \"delay\": 0}, \"y\": {\"delay\": 0}, \"show\": {\"delay\": 0}, \"hide\": {\"delay\": 0}, \"title\": {\"duration\": 0, \"delay\": 0}});"
      ]
     },
     "metadata": {},
     "output_type": "display_data"
    },
    {
     "data": {
      "application/javascript": [
       "window.ipyvizzu.animate(element, '4a4ef33', '8c6c41b', 'end', false, lib => { return {\"data\": {\"filter\": record => { return (parseInt(record.Year) == 1998) }}, \"config\": {\"channels\": {\"y\": {\"set\": [\"Format\"]}, \"x\": {\"set\": [\"Revenue [m$]\"]}, \"label\": {\"set\": [\"Revenue [m$]\"]}, \"color\": {\"set\": [\"Format\"]}}, \"sort\": \"byValue\", \"title\": \"Ingresos de la M\\u00fasica por Formato - A\\u00f1o a A\\u00f1o 1998\"}} }, {\"duration\": 0.2, \"x\": {\"easing\": \"linear\", \"delay\": 0}, \"y\": {\"delay\": 0}, \"show\": {\"delay\": 0}, \"hide\": {\"delay\": 0}, \"title\": {\"duration\": 0, \"delay\": 0}});"
      ]
     },
     "metadata": {},
     "output_type": "display_data"
    },
    {
     "data": {
      "application/javascript": [
       "window.ipyvizzu.animate(element, '4a4ef33', '44f5cc2', 'end', false, lib => { return {\"data\": {\"filter\": record => { return (parseInt(record.Year) == 1999) }}, \"config\": {\"channels\": {\"y\": {\"set\": [\"Format\"]}, \"x\": {\"set\": [\"Revenue [m$]\"]}, \"label\": {\"set\": [\"Revenue [m$]\"]}, \"color\": {\"set\": [\"Format\"]}}, \"sort\": \"byValue\", \"title\": \"Ingresos de la M\\u00fasica por Formato - A\\u00f1o a A\\u00f1o 1999\"}} }, {\"duration\": 0.2, \"x\": {\"easing\": \"linear\", \"delay\": 0}, \"y\": {\"delay\": 0}, \"show\": {\"delay\": 0}, \"hide\": {\"delay\": 0}, \"title\": {\"duration\": 0, \"delay\": 0}});"
      ]
     },
     "metadata": {},
     "output_type": "display_data"
    },
    {
     "data": {
      "application/javascript": [
       "window.ipyvizzu.animate(element, '4a4ef33', 'ff2771d', 'end', false, lib => { return {\"data\": {\"filter\": record => { return (parseInt(record.Year) == 2000) }}, \"config\": {\"channels\": {\"y\": {\"set\": [\"Format\"]}, \"x\": {\"set\": [\"Revenue [m$]\"]}, \"label\": {\"set\": [\"Revenue [m$]\"]}, \"color\": {\"set\": [\"Format\"]}}, \"sort\": \"byValue\", \"title\": \"Ingresos de la M\\u00fasica por Formato - A\\u00f1o a A\\u00f1o 2000\"}} }, {\"duration\": 0.2, \"x\": {\"easing\": \"linear\", \"delay\": 0}, \"y\": {\"delay\": 0}, \"show\": {\"delay\": 0}, \"hide\": {\"delay\": 0}, \"title\": {\"duration\": 0, \"delay\": 0}});"
      ]
     },
     "metadata": {},
     "output_type": "display_data"
    },
    {
     "data": {
      "application/javascript": [
       "window.ipyvizzu.animate(element, '4a4ef33', 'b20fa93', 'end', false, lib => { return {\"data\": {\"filter\": record => { return (parseInt(record.Year) == 2001) }}, \"config\": {\"channels\": {\"y\": {\"set\": [\"Format\"]}, \"x\": {\"set\": [\"Revenue [m$]\"]}, \"label\": {\"set\": [\"Revenue [m$]\"]}, \"color\": {\"set\": [\"Format\"]}}, \"sort\": \"byValue\", \"title\": \"Ingresos de la M\\u00fasica por Formato - A\\u00f1o a A\\u00f1o 2001\"}} }, {\"duration\": 0.2, \"x\": {\"easing\": \"linear\", \"delay\": 0}, \"y\": {\"delay\": 0}, \"show\": {\"delay\": 0}, \"hide\": {\"delay\": 0}, \"title\": {\"duration\": 0, \"delay\": 0}});"
      ]
     },
     "metadata": {},
     "output_type": "display_data"
    },
    {
     "data": {
      "application/javascript": [
       "window.ipyvizzu.animate(element, '4a4ef33', '6b14956', 'end', false, lib => { return {\"data\": {\"filter\": record => { return (parseInt(record.Year) == 2002) }}, \"config\": {\"channels\": {\"y\": {\"set\": [\"Format\"]}, \"x\": {\"set\": [\"Revenue [m$]\"]}, \"label\": {\"set\": [\"Revenue [m$]\"]}, \"color\": {\"set\": [\"Format\"]}}, \"sort\": \"byValue\", \"title\": \"Ingresos de la M\\u00fasica por Formato - A\\u00f1o a A\\u00f1o 2002\"}} }, {\"duration\": 0.2, \"x\": {\"easing\": \"linear\", \"delay\": 0}, \"y\": {\"delay\": 0}, \"show\": {\"delay\": 0}, \"hide\": {\"delay\": 0}, \"title\": {\"duration\": 0, \"delay\": 0}});"
      ]
     },
     "metadata": {},
     "output_type": "display_data"
    },
    {
     "data": {
      "application/javascript": [
       "window.ipyvizzu.animate(element, '4a4ef33', '202e119', 'end', false, lib => { return {\"data\": {\"filter\": record => { return (parseInt(record.Year) == 2003) }}, \"config\": {\"channels\": {\"y\": {\"set\": [\"Format\"]}, \"x\": {\"set\": [\"Revenue [m$]\"]}, \"label\": {\"set\": [\"Revenue [m$]\"]}, \"color\": {\"set\": [\"Format\"]}}, \"sort\": \"byValue\", \"title\": \"Ingresos de la M\\u00fasica por Formato - A\\u00f1o a A\\u00f1o 2003\"}} }, {\"duration\": 0.2, \"x\": {\"easing\": \"linear\", \"delay\": 0}, \"y\": {\"delay\": 0}, \"show\": {\"delay\": 0}, \"hide\": {\"delay\": 0}, \"title\": {\"duration\": 0, \"delay\": 0}});"
      ]
     },
     "metadata": {},
     "output_type": "display_data"
    },
    {
     "data": {
      "application/javascript": [
       "window.ipyvizzu.animate(element, '4a4ef33', 'a870050', 'end', false, lib => { return {\"data\": {\"filter\": record => { return (parseInt(record.Year) == 2004) }}, \"config\": {\"channels\": {\"y\": {\"set\": [\"Format\"]}, \"x\": {\"set\": [\"Revenue [m$]\"]}, \"label\": {\"set\": [\"Revenue [m$]\"]}, \"color\": {\"set\": [\"Format\"]}}, \"sort\": \"byValue\", \"title\": \"Ingresos de la M\\u00fasica por Formato - A\\u00f1o a A\\u00f1o 2004\"}} }, {\"duration\": 0.2, \"x\": {\"easing\": \"linear\", \"delay\": 0}, \"y\": {\"delay\": 0}, \"show\": {\"delay\": 0}, \"hide\": {\"delay\": 0}, \"title\": {\"duration\": 0, \"delay\": 0}});"
      ]
     },
     "metadata": {},
     "output_type": "display_data"
    },
    {
     "data": {
      "application/javascript": [
       "window.ipyvizzu.animate(element, '4a4ef33', 'e42108b', 'end', false, lib => { return {\"data\": {\"filter\": record => { return (parseInt(record.Year) == 2005) }}, \"config\": {\"channels\": {\"y\": {\"set\": [\"Format\"]}, \"x\": {\"set\": [\"Revenue [m$]\"]}, \"label\": {\"set\": [\"Revenue [m$]\"]}, \"color\": {\"set\": [\"Format\"]}}, \"sort\": \"byValue\", \"title\": \"Ingresos de la M\\u00fasica por Formato - A\\u00f1o a A\\u00f1o 2005\"}} }, {\"duration\": 0.2, \"x\": {\"easing\": \"linear\", \"delay\": 0}, \"y\": {\"delay\": 0}, \"show\": {\"delay\": 0}, \"hide\": {\"delay\": 0}, \"title\": {\"duration\": 0, \"delay\": 0}});"
      ]
     },
     "metadata": {},
     "output_type": "display_data"
    },
    {
     "data": {
      "application/javascript": [
       "window.ipyvizzu.animate(element, '4a4ef33', '4a46f75', 'end', false, lib => { return {\"data\": {\"filter\": record => { return (parseInt(record.Year) == 2006) }}, \"config\": {\"channels\": {\"y\": {\"set\": [\"Format\"]}, \"x\": {\"set\": [\"Revenue [m$]\"]}, \"label\": {\"set\": [\"Revenue [m$]\"]}, \"color\": {\"set\": [\"Format\"]}}, \"sort\": \"byValue\", \"title\": \"Ingresos de la M\\u00fasica por Formato - A\\u00f1o a A\\u00f1o 2006\"}} }, {\"duration\": 0.2, \"x\": {\"easing\": \"linear\", \"delay\": 0}, \"y\": {\"delay\": 0}, \"show\": {\"delay\": 0}, \"hide\": {\"delay\": 0}, \"title\": {\"duration\": 0, \"delay\": 0}});"
      ]
     },
     "metadata": {},
     "output_type": "display_data"
    },
    {
     "data": {
      "application/javascript": [
       "window.ipyvizzu.animate(element, '4a4ef33', '290a60d', 'end', false, lib => { return {\"data\": {\"filter\": record => { return (parseInt(record.Year) == 2007) }}, \"config\": {\"channels\": {\"y\": {\"set\": [\"Format\"]}, \"x\": {\"set\": [\"Revenue [m$]\"]}, \"label\": {\"set\": [\"Revenue [m$]\"]}, \"color\": {\"set\": [\"Format\"]}}, \"sort\": \"byValue\", \"title\": \"Ingresos de la M\\u00fasica por Formato - A\\u00f1o a A\\u00f1o 2007\"}} }, {\"duration\": 0.2, \"x\": {\"easing\": \"linear\", \"delay\": 0}, \"y\": {\"delay\": 0}, \"show\": {\"delay\": 0}, \"hide\": {\"delay\": 0}, \"title\": {\"duration\": 0, \"delay\": 0}});"
      ]
     },
     "metadata": {},
     "output_type": "display_data"
    },
    {
     "data": {
      "application/javascript": [
       "window.ipyvizzu.animate(element, '4a4ef33', 'b04fc0f', 'end', false, lib => { return {\"data\": {\"filter\": record => { return (parseInt(record.Year) == 2008) }}, \"config\": {\"channels\": {\"y\": {\"set\": [\"Format\"]}, \"x\": {\"set\": [\"Revenue [m$]\"]}, \"label\": {\"set\": [\"Revenue [m$]\"]}, \"color\": {\"set\": [\"Format\"]}}, \"sort\": \"byValue\", \"title\": \"Ingresos de la M\\u00fasica por Formato - A\\u00f1o a A\\u00f1o 2008\"}} }, {\"duration\": 0.2, \"x\": {\"easing\": \"linear\", \"delay\": 0}, \"y\": {\"delay\": 0}, \"show\": {\"delay\": 0}, \"hide\": {\"delay\": 0}, \"title\": {\"duration\": 0, \"delay\": 0}});"
      ]
     },
     "metadata": {},
     "output_type": "display_data"
    },
    {
     "data": {
      "application/javascript": [
       "window.ipyvizzu.animate(element, '4a4ef33', '86295a8', 'end', false, lib => { return {\"data\": {\"filter\": record => { return (parseInt(record.Year) == 2009) }}, \"config\": {\"channels\": {\"y\": {\"set\": [\"Format\"]}, \"x\": {\"set\": [\"Revenue [m$]\"]}, \"label\": {\"set\": [\"Revenue [m$]\"]}, \"color\": {\"set\": [\"Format\"]}}, \"sort\": \"byValue\", \"title\": \"Ingresos de la M\\u00fasica por Formato - A\\u00f1o a A\\u00f1o 2009\"}} }, {\"duration\": 0.2, \"x\": {\"easing\": \"linear\", \"delay\": 0}, \"y\": {\"delay\": 0}, \"show\": {\"delay\": 0}, \"hide\": {\"delay\": 0}, \"title\": {\"duration\": 0, \"delay\": 0}});"
      ]
     },
     "metadata": {},
     "output_type": "display_data"
    },
    {
     "data": {
      "application/javascript": [
       "window.ipyvizzu.animate(element, '4a4ef33', 'c10a3d1', 'end', false, lib => { return {\"data\": {\"filter\": record => { return (parseInt(record.Year) == 2010) }}, \"config\": {\"channels\": {\"y\": {\"set\": [\"Format\"]}, \"x\": {\"set\": [\"Revenue [m$]\"]}, \"label\": {\"set\": [\"Revenue [m$]\"]}, \"color\": {\"set\": [\"Format\"]}}, \"sort\": \"byValue\", \"title\": \"Ingresos de la M\\u00fasica por Formato - A\\u00f1o a A\\u00f1o 2010\"}} }, {\"duration\": 0.2, \"x\": {\"easing\": \"linear\", \"delay\": 0}, \"y\": {\"delay\": 0}, \"show\": {\"delay\": 0}, \"hide\": {\"delay\": 0}, \"title\": {\"duration\": 0, \"delay\": 0}});"
      ]
     },
     "metadata": {},
     "output_type": "display_data"
    },
    {
     "data": {
      "application/javascript": [
       "window.ipyvizzu.animate(element, '4a4ef33', 'd25161f', 'end', false, lib => { return {\"data\": {\"filter\": record => { return (parseInt(record.Year) == 2011) }}, \"config\": {\"channels\": {\"y\": {\"set\": [\"Format\"]}, \"x\": {\"set\": [\"Revenue [m$]\"]}, \"label\": {\"set\": [\"Revenue [m$]\"]}, \"color\": {\"set\": [\"Format\"]}}, \"sort\": \"byValue\", \"title\": \"Ingresos de la M\\u00fasica por Formato - A\\u00f1o a A\\u00f1o 2011\"}} }, {\"duration\": 0.2, \"x\": {\"easing\": \"linear\", \"delay\": 0}, \"y\": {\"delay\": 0}, \"show\": {\"delay\": 0}, \"hide\": {\"delay\": 0}, \"title\": {\"duration\": 0, \"delay\": 0}});"
      ]
     },
     "metadata": {},
     "output_type": "display_data"
    },
    {
     "data": {
      "application/javascript": [
       "window.ipyvizzu.animate(element, '4a4ef33', '9f4d6da', 'end', false, lib => { return {\"data\": {\"filter\": record => { return (parseInt(record.Year) == 2012) }}, \"config\": {\"channels\": {\"y\": {\"set\": [\"Format\"]}, \"x\": {\"set\": [\"Revenue [m$]\"]}, \"label\": {\"set\": [\"Revenue [m$]\"]}, \"color\": {\"set\": [\"Format\"]}}, \"sort\": \"byValue\", \"title\": \"Ingresos de la M\\u00fasica por Formato - A\\u00f1o a A\\u00f1o 2012\"}} }, {\"duration\": 0.2, \"x\": {\"easing\": \"linear\", \"delay\": 0}, \"y\": {\"delay\": 0}, \"show\": {\"delay\": 0}, \"hide\": {\"delay\": 0}, \"title\": {\"duration\": 0, \"delay\": 0}});"
      ]
     },
     "metadata": {},
     "output_type": "display_data"
    },
    {
     "data": {
      "application/javascript": [
       "window.ipyvizzu.animate(element, '4a4ef33', '3a8fd65', 'end', false, lib => { return {\"data\": {\"filter\": record => { return (parseInt(record.Year) == 2013) }}, \"config\": {\"channels\": {\"y\": {\"set\": [\"Format\"]}, \"x\": {\"set\": [\"Revenue [m$]\"]}, \"label\": {\"set\": [\"Revenue [m$]\"]}, \"color\": {\"set\": [\"Format\"]}}, \"sort\": \"byValue\", \"title\": \"Ingresos de la M\\u00fasica por Formato - A\\u00f1o a A\\u00f1o 2013\"}} }, {\"duration\": 0.2, \"x\": {\"easing\": \"linear\", \"delay\": 0}, \"y\": {\"delay\": 0}, \"show\": {\"delay\": 0}, \"hide\": {\"delay\": 0}, \"title\": {\"duration\": 0, \"delay\": 0}});"
      ]
     },
     "metadata": {},
     "output_type": "display_data"
    },
    {
     "data": {
      "application/javascript": [
       "window.ipyvizzu.animate(element, '4a4ef33', '688ac3d', 'end', false, lib => { return {\"data\": {\"filter\": record => { return (parseInt(record.Year) == 2014) }}, \"config\": {\"channels\": {\"y\": {\"set\": [\"Format\"]}, \"x\": {\"set\": [\"Revenue [m$]\"]}, \"label\": {\"set\": [\"Revenue [m$]\"]}, \"color\": {\"set\": [\"Format\"]}}, \"sort\": \"byValue\", \"title\": \"Ingresos de la M\\u00fasica por Formato - A\\u00f1o a A\\u00f1o 2014\"}} }, {\"duration\": 0.2, \"x\": {\"easing\": \"linear\", \"delay\": 0}, \"y\": {\"delay\": 0}, \"show\": {\"delay\": 0}, \"hide\": {\"delay\": 0}, \"title\": {\"duration\": 0, \"delay\": 0}});"
      ]
     },
     "metadata": {},
     "output_type": "display_data"
    },
    {
     "data": {
      "application/javascript": [
       "window.ipyvizzu.animate(element, '4a4ef33', 'ff08b95', 'end', false, lib => { return {\"data\": {\"filter\": record => { return (parseInt(record.Year) == 2015) }}, \"config\": {\"channels\": {\"y\": {\"set\": [\"Format\"]}, \"x\": {\"set\": [\"Revenue [m$]\"]}, \"label\": {\"set\": [\"Revenue [m$]\"]}, \"color\": {\"set\": [\"Format\"]}}, \"sort\": \"byValue\", \"title\": \"Ingresos de la M\\u00fasica por Formato - A\\u00f1o a A\\u00f1o 2015\"}} }, {\"duration\": 0.2, \"x\": {\"easing\": \"linear\", \"delay\": 0}, \"y\": {\"delay\": 0}, \"show\": {\"delay\": 0}, \"hide\": {\"delay\": 0}, \"title\": {\"duration\": 0, \"delay\": 0}});"
      ]
     },
     "metadata": {},
     "output_type": "display_data"
    },
    {
     "data": {
      "application/javascript": [
       "window.ipyvizzu.animate(element, '4a4ef33', '548f899', 'end', false, lib => { return {\"data\": {\"filter\": record => { return (parseInt(record.Year) == 2016) }}, \"config\": {\"channels\": {\"y\": {\"set\": [\"Format\"]}, \"x\": {\"set\": [\"Revenue [m$]\"]}, \"label\": {\"set\": [\"Revenue [m$]\"]}, \"color\": {\"set\": [\"Format\"]}}, \"sort\": \"byValue\", \"title\": \"Ingresos de la M\\u00fasica por Formato - A\\u00f1o a A\\u00f1o 2016\"}} }, {\"duration\": 0.2, \"x\": {\"easing\": \"linear\", \"delay\": 0}, \"y\": {\"delay\": 0}, \"show\": {\"delay\": 0}, \"hide\": {\"delay\": 0}, \"title\": {\"duration\": 0, \"delay\": 0}});"
      ]
     },
     "metadata": {},
     "output_type": "display_data"
    },
    {
     "data": {
      "application/javascript": [
       "window.ipyvizzu.animate(element, '4a4ef33', '74adb01', 'end', false, lib => { return {\"data\": {\"filter\": record => { return (parseInt(record.Year) == 2017) }}, \"config\": {\"channels\": {\"y\": {\"set\": [\"Format\"]}, \"x\": {\"set\": [\"Revenue [m$]\"]}, \"label\": {\"set\": [\"Revenue [m$]\"]}, \"color\": {\"set\": [\"Format\"]}}, \"sort\": \"byValue\", \"title\": \"Ingresos de la M\\u00fasica por Formato - A\\u00f1o a A\\u00f1o 2017\"}} }, {\"duration\": 0.2, \"x\": {\"easing\": \"linear\", \"delay\": 0}, \"y\": {\"delay\": 0}, \"show\": {\"delay\": 0}, \"hide\": {\"delay\": 0}, \"title\": {\"duration\": 0, \"delay\": 0}});"
      ]
     },
     "metadata": {},
     "output_type": "display_data"
    },
    {
     "data": {
      "application/javascript": [
       "window.ipyvizzu.animate(element, '4a4ef33', '584812e', 'end', false, lib => { return {\"data\": {\"filter\": record => { return (parseInt(record.Year) == 2018) }}, \"config\": {\"channels\": {\"y\": {\"set\": [\"Format\"]}, \"x\": {\"set\": [\"Revenue [m$]\"]}, \"label\": {\"set\": [\"Revenue [m$]\"]}, \"color\": {\"set\": [\"Format\"]}}, \"sort\": \"byValue\", \"title\": \"Ingresos de la M\\u00fasica por Formato - A\\u00f1o a A\\u00f1o 2018\"}} }, {\"duration\": 0.2, \"x\": {\"easing\": \"linear\", \"delay\": 0}, \"y\": {\"delay\": 0}, \"show\": {\"delay\": 0}, \"hide\": {\"delay\": 0}, \"title\": {\"duration\": 0, \"delay\": 0}});"
      ]
     },
     "metadata": {},
     "output_type": "display_data"
    },
    {
     "data": {
      "application/javascript": [
       "window.ipyvizzu.animate(element, '4a4ef33', '8d16382', 'end', false, lib => { return {\"data\": {\"filter\": record => { return (parseInt(record.Year) == 2019) }}, \"config\": {\"channels\": {\"y\": {\"set\": [\"Format\"]}, \"x\": {\"set\": [\"Revenue [m$]\"]}, \"label\": {\"set\": [\"Revenue [m$]\"]}, \"color\": {\"set\": [\"Format\"]}}, \"sort\": \"byValue\", \"title\": \"Ingresos de la M\\u00fasica por Formato - A\\u00f1o a A\\u00f1o 2019\"}} }, {\"duration\": 0.2, \"x\": {\"easing\": \"linear\", \"delay\": 0}, \"y\": {\"delay\": 0}, \"show\": {\"delay\": 0}, \"hide\": {\"delay\": 0}, \"title\": {\"duration\": 0, \"delay\": 0}});"
      ]
     },
     "metadata": {},
     "output_type": "display_data"
    },
    {
     "data": {
      "application/javascript": [
       "window.ipyvizzu.animate(element, '4a4ef33', 'd0f9ccb', 'end', false, lib => { return {\"data\": {\"filter\": record => { return (parseInt(record.Year) == 2020) }}, \"config\": {\"channels\": {\"y\": {\"set\": [\"Format\"]}, \"x\": {\"set\": [\"Revenue [m$]\"]}, \"label\": {\"set\": [\"Revenue [m$]\"]}, \"color\": {\"set\": [\"Format\"]}}, \"sort\": \"byValue\", \"title\": \"Ingresos de la M\\u00fasica por Formato - A\\u00f1o a A\\u00f1o 2020\"}} }, {\"duration\": 0.2, \"x\": {\"easing\": \"linear\", \"delay\": 0}, \"y\": {\"delay\": 0}, \"show\": {\"delay\": 0}, \"hide\": {\"delay\": 0}, \"title\": {\"duration\": 0, \"delay\": 0}});"
      ]
     },
     "metadata": {},
     "output_type": "display_data"
    },
    {
     "data": {
      "application/javascript": [
       "window.ipyvizzu.animate(element, '4a4ef33', 'a4fcdb1', 'end', false, lib => { return {\"config\": {\"channels\": {\"x\": {\"attach\": [\"Year\"]}, \"label\": {\"set\": null}}}} }, {\"duration\": 0.3});"
      ]
     },
     "metadata": {},
     "output_type": "display_data"
    },
    {
     "data": {
      "application/javascript": [
       "window.ipyvizzu.animate(element, '4a4ef33', 'ef58327', 'end', false, lib => { return {\"data\": {\"filter\": record => { return (record.Year == '2020' || record.Year == '1972') }}, \"config\": {\"title\": \"Veamos el total de los \\u00faltimos 47 a\\u00f1os\"}} }, {\"duration\": 2});"
      ]
     },
     "metadata": {},
     "output_type": "display_data"
    },
    {
     "data": {
      "application/javascript": [
       "window.ipyvizzu.animate(element, '4a4ef33', '22d337b', 'end', false, lib => { return {\"config\": {\"sort\": \"none\"}} }, {\"delay\": 0, \"duration\": 2});"
      ]
     },
     "metadata": {},
     "output_type": "display_data"
    },
    {
     "data": {
      "application/javascript": [
       "window.ipyvizzu.animate(element, '4a4ef33', 'fe65c6b', 'end', false, lib => { return {\"data\": {\"filter\": record => { return (parseInt(record.Year) >= 2019 || record.Year == '1972') }}, \"config\": {\"split\": true}, \"style\": {\"plot.xAxis.interlacing.color\": \"#ffffff\"}} }, {\"duration\": 0.005});"
      ]
     },
     "metadata": {},
     "output_type": "display_data"
    },
    {
     "data": {
      "application/javascript": [
       "window.ipyvizzu.animate(element, '4a4ef33', '0120751', 'end', false, lib => { return {\"data\": {\"filter\": record => { return (parseInt(record.Year) >= 2018 || record.Year == '1972') }}, \"config\": {\"split\": true}, \"style\": {\"plot.xAxis.interlacing.color\": \"#ffffff\"}} }, {\"duration\": 0.005});"
      ]
     },
     "metadata": {},
     "output_type": "display_data"
    },
    {
     "data": {
      "application/javascript": [
       "window.ipyvizzu.animate(element, '4a4ef33', 'b2ce155', 'end', false, lib => { return {\"data\": {\"filter\": record => { return (parseInt(record.Year) >= 2017 || record.Year == '1972') }}, \"config\": {\"split\": true}, \"style\": {\"plot.xAxis.interlacing.color\": \"#ffffff\"}} }, {\"duration\": 0.005});"
      ]
     },
     "metadata": {},
     "output_type": "display_data"
    },
    {
     "data": {
      "application/javascript": [
       "window.ipyvizzu.animate(element, '4a4ef33', '4bdac60', 'end', false, lib => { return {\"data\": {\"filter\": record => { return (parseInt(record.Year) >= 2016 || record.Year == '1972') }}, \"config\": {\"split\": true}, \"style\": {\"plot.xAxis.interlacing.color\": \"#ffffff\"}} }, {\"duration\": 0.005});"
      ]
     },
     "metadata": {},
     "output_type": "display_data"
    },
    {
     "data": {
      "application/javascript": [
       "window.ipyvizzu.animate(element, '4a4ef33', 'fe543f2', 'end', false, lib => { return {\"data\": {\"filter\": record => { return (parseInt(record.Year) >= 2015 || record.Year == '1972') }}, \"config\": {\"split\": true}, \"style\": {\"plot.xAxis.interlacing.color\": \"#ffffff\"}} }, {\"duration\": 0.005});"
      ]
     },
     "metadata": {},
     "output_type": "display_data"
    },
    {
     "data": {
      "application/javascript": [
       "window.ipyvizzu.animate(element, '4a4ef33', '321dac9', 'end', false, lib => { return {\"data\": {\"filter\": record => { return (parseInt(record.Year) >= 2014 || record.Year == '1972') }}, \"config\": {\"split\": true}, \"style\": {\"plot.xAxis.interlacing.color\": \"#ffffff\"}} }, {\"duration\": 0.005});"
      ]
     },
     "metadata": {},
     "output_type": "display_data"
    },
    {
     "data": {
      "application/javascript": [
       "window.ipyvizzu.animate(element, '4a4ef33', 'e4c62de', 'end', false, lib => { return {\"data\": {\"filter\": record => { return (parseInt(record.Year) >= 2013 || record.Year == '1972') }}, \"config\": {\"split\": true}, \"style\": {\"plot.xAxis.interlacing.color\": \"#ffffff\"}} }, {\"duration\": 0.005});"
      ]
     },
     "metadata": {},
     "output_type": "display_data"
    },
    {
     "data": {
      "application/javascript": [
       "window.ipyvizzu.animate(element, '4a4ef33', '6c4f739', 'end', false, lib => { return {\"data\": {\"filter\": record => { return (parseInt(record.Year) >= 2012 || record.Year == '1972') }}, \"config\": {\"split\": true}, \"style\": {\"plot.xAxis.interlacing.color\": \"#ffffff\"}} }, {\"duration\": 0.005});"
      ]
     },
     "metadata": {},
     "output_type": "display_data"
    },
    {
     "data": {
      "application/javascript": [
       "window.ipyvizzu.animate(element, '4a4ef33', 'b41c28e', 'end', false, lib => { return {\"data\": {\"filter\": record => { return (parseInt(record.Year) >= 2011 || record.Year == '1972') }}, \"config\": {\"split\": true}, \"style\": {\"plot.xAxis.interlacing.color\": \"#ffffff\"}} }, {\"duration\": 0.005});"
      ]
     },
     "metadata": {},
     "output_type": "display_data"
    },
    {
     "data": {
      "application/javascript": [
       "window.ipyvizzu.animate(element, '4a4ef33', 'ed18718', 'end', false, lib => { return {\"data\": {\"filter\": record => { return (parseInt(record.Year) >= 2010 || record.Year == '1972') }}, \"config\": {\"split\": true}, \"style\": {\"plot.xAxis.interlacing.color\": \"#ffffff\"}} }, {\"duration\": 0.005});"
      ]
     },
     "metadata": {},
     "output_type": "display_data"
    },
    {
     "data": {
      "application/javascript": [
       "window.ipyvizzu.animate(element, '4a4ef33', 'b08664c', 'end', false, lib => { return {\"data\": {\"filter\": record => { return (parseInt(record.Year) >= 2009 || record.Year == '1972') }}, \"config\": {\"split\": true}, \"style\": {\"plot.xAxis.interlacing.color\": \"#ffffff\"}} }, {\"duration\": 0.005});"
      ]
     },
     "metadata": {},
     "output_type": "display_data"
    },
    {
     "data": {
      "application/javascript": [
       "window.ipyvizzu.animate(element, '4a4ef33', '7154915', 'end', false, lib => { return {\"data\": {\"filter\": record => { return (parseInt(record.Year) >= 2008 || record.Year == '1972') }}, \"config\": {\"split\": true}, \"style\": {\"plot.xAxis.interlacing.color\": \"#ffffff\"}} }, {\"duration\": 0.005});"
      ]
     },
     "metadata": {},
     "output_type": "display_data"
    },
    {
     "data": {
      "application/javascript": [
       "window.ipyvizzu.animate(element, '4a4ef33', 'deedf0c', 'end', false, lib => { return {\"data\": {\"filter\": record => { return (parseInt(record.Year) >= 2007 || record.Year == '1972') }}, \"config\": {\"split\": true}, \"style\": {\"plot.xAxis.interlacing.color\": \"#ffffff\"}} }, {\"duration\": 0.005});"
      ]
     },
     "metadata": {},
     "output_type": "display_data"
    },
    {
     "data": {
      "application/javascript": [
       "window.ipyvizzu.animate(element, '4a4ef33', '7e5877e', 'end', false, lib => { return {\"data\": {\"filter\": record => { return (parseInt(record.Year) >= 2006 || record.Year == '1972') }}, \"config\": {\"split\": true}, \"style\": {\"plot.xAxis.interlacing.color\": \"#ffffff\"}} }, {\"duration\": 0.005});"
      ]
     },
     "metadata": {},
     "output_type": "display_data"
    },
    {
     "data": {
      "application/javascript": [
       "window.ipyvizzu.animate(element, '4a4ef33', 'f65a88f', 'end', false, lib => { return {\"data\": {\"filter\": record => { return (parseInt(record.Year) >= 2005 || record.Year == '1972') }}, \"config\": {\"split\": true}, \"style\": {\"plot.xAxis.interlacing.color\": \"#ffffff\"}} }, {\"duration\": 0.005});"
      ]
     },
     "metadata": {},
     "output_type": "display_data"
    },
    {
     "data": {
      "application/javascript": [
       "window.ipyvizzu.animate(element, '4a4ef33', '9e4cb7e', 'end', false, lib => { return {\"data\": {\"filter\": record => { return (parseInt(record.Year) >= 2004 || record.Year == '1972') }}, \"config\": {\"split\": true}, \"style\": {\"plot.xAxis.interlacing.color\": \"#ffffff\"}} }, {\"duration\": 0.005});"
      ]
     },
     "metadata": {},
     "output_type": "display_data"
    },
    {
     "data": {
      "application/javascript": [
       "window.ipyvizzu.animate(element, '4a4ef33', '76f0c3b', 'end', false, lib => { return {\"data\": {\"filter\": record => { return (parseInt(record.Year) >= 2003 || record.Year == '1972') }}, \"config\": {\"split\": true}, \"style\": {\"plot.xAxis.interlacing.color\": \"#ffffff\"}} }, {\"duration\": 0.005});"
      ]
     },
     "metadata": {},
     "output_type": "display_data"
    },
    {
     "data": {
      "application/javascript": [
       "window.ipyvizzu.animate(element, '4a4ef33', 'e66c595', 'end', false, lib => { return {\"data\": {\"filter\": record => { return (parseInt(record.Year) >= 2002 || record.Year == '1972') }}, \"config\": {\"split\": true}, \"style\": {\"plot.xAxis.interlacing.color\": \"#ffffff\"}} }, {\"duration\": 0.005});"
      ]
     },
     "metadata": {},
     "output_type": "display_data"
    },
    {
     "data": {
      "application/javascript": [
       "window.ipyvizzu.animate(element, '4a4ef33', '153d6a1', 'end', false, lib => { return {\"data\": {\"filter\": record => { return (parseInt(record.Year) >= 2001 || record.Year == '1972') }}, \"config\": {\"split\": true}, \"style\": {\"plot.xAxis.interlacing.color\": \"#ffffff\"}} }, {\"duration\": 0.005});"
      ]
     },
     "metadata": {},
     "output_type": "display_data"
    },
    {
     "data": {
      "application/javascript": [
       "window.ipyvizzu.animate(element, '4a4ef33', 'd509724', 'end', false, lib => { return {\"data\": {\"filter\": record => { return (parseInt(record.Year) >= 2000 || record.Year == '1972') }}, \"config\": {\"split\": true}, \"style\": {\"plot.xAxis.interlacing.color\": \"#ffffff\"}} }, {\"duration\": 0.005});"
      ]
     },
     "metadata": {},
     "output_type": "display_data"
    },
    {
     "data": {
      "application/javascript": [
       "window.ipyvizzu.animate(element, '4a4ef33', '3f0ebe4', 'end', false, lib => { return {\"data\": {\"filter\": record => { return (parseInt(record.Year) >= 1999 || record.Year == '1972') }}, \"config\": {\"split\": true}, \"style\": {\"plot.xAxis.interlacing.color\": \"#ffffff\"}} }, {\"duration\": 0.005});"
      ]
     },
     "metadata": {},
     "output_type": "display_data"
    },
    {
     "data": {
      "application/javascript": [
       "window.ipyvizzu.animate(element, '4a4ef33', 'b32b31f', 'end', false, lib => { return {\"data\": {\"filter\": record => { return (parseInt(record.Year) >= 1998 || record.Year == '1972') }}, \"config\": {\"split\": true}, \"style\": {\"plot.xAxis.interlacing.color\": \"#ffffff\"}} }, {\"duration\": 0.005});"
      ]
     },
     "metadata": {},
     "output_type": "display_data"
    },
    {
     "data": {
      "application/javascript": [
       "window.ipyvizzu.animate(element, '4a4ef33', 'fdd4056', 'end', false, lib => { return {\"data\": {\"filter\": record => { return (parseInt(record.Year) >= 1997 || record.Year == '1972') }}, \"config\": {\"split\": true}, \"style\": {\"plot.xAxis.interlacing.color\": \"#ffffff\"}} }, {\"duration\": 0.005});"
      ]
     },
     "metadata": {},
     "output_type": "display_data"
    },
    {
     "data": {
      "application/javascript": [
       "window.ipyvizzu.animate(element, '4a4ef33', '80f67a8', 'end', false, lib => { return {\"data\": {\"filter\": record => { return (parseInt(record.Year) >= 1996 || record.Year == '1972') }}, \"config\": {\"split\": true}, \"style\": {\"plot.xAxis.interlacing.color\": \"#ffffff\"}} }, {\"duration\": 0.005});"
      ]
     },
     "metadata": {},
     "output_type": "display_data"
    },
    {
     "data": {
      "application/javascript": [
       "window.ipyvizzu.animate(element, '4a4ef33', '247d7f7', 'end', false, lib => { return {\"data\": {\"filter\": record => { return (parseInt(record.Year) >= 1995 || record.Year == '1972') }}, \"config\": {\"split\": true}, \"style\": {\"plot.xAxis.interlacing.color\": \"#ffffff\"}} }, {\"duration\": 0.005});"
      ]
     },
     "metadata": {},
     "output_type": "display_data"
    },
    {
     "data": {
      "application/javascript": [
       "window.ipyvizzu.animate(element, '4a4ef33', 'ae47cb5', 'end', false, lib => { return {\"data\": {\"filter\": record => { return (parseInt(record.Year) >= 1994 || record.Year == '1972') }}, \"config\": {\"split\": true}, \"style\": {\"plot.xAxis.interlacing.color\": \"#ffffff\"}} }, {\"duration\": 0.005});"
      ]
     },
     "metadata": {},
     "output_type": "display_data"
    },
    {
     "data": {
      "application/javascript": [
       "window.ipyvizzu.animate(element, '4a4ef33', 'fc52124', 'end', false, lib => { return {\"data\": {\"filter\": record => { return (parseInt(record.Year) >= 1993 || record.Year == '1972') }}, \"config\": {\"split\": true}, \"style\": {\"plot.xAxis.interlacing.color\": \"#ffffff\"}} }, {\"duration\": 0.005});"
      ]
     },
     "metadata": {},
     "output_type": "display_data"
    },
    {
     "data": {
      "application/javascript": [
       "window.ipyvizzu.animate(element, '4a4ef33', 'de67337', 'end', false, lib => { return {\"data\": {\"filter\": record => { return (parseInt(record.Year) >= 1992 || record.Year == '1972') }}, \"config\": {\"split\": true}, \"style\": {\"plot.xAxis.interlacing.color\": \"#ffffff\"}} }, {\"duration\": 0.005});"
      ]
     },
     "metadata": {},
     "output_type": "display_data"
    },
    {
     "data": {
      "application/javascript": [
       "window.ipyvizzu.animate(element, '4a4ef33', '51119d5', 'end', false, lib => { return {\"data\": {\"filter\": record => { return (parseInt(record.Year) >= 1991 || record.Year == '1972') }}, \"config\": {\"split\": true}, \"style\": {\"plot.xAxis.interlacing.color\": \"#ffffff\"}} }, {\"duration\": 0.005});"
      ]
     },
     "metadata": {},
     "output_type": "display_data"
    },
    {
     "data": {
      "application/javascript": [
       "window.ipyvizzu.animate(element, '4a4ef33', '55702f0', 'end', false, lib => { return {\"data\": {\"filter\": record => { return (parseInt(record.Year) >= 1990 || record.Year == '1972') }}, \"config\": {\"split\": true}, \"style\": {\"plot.xAxis.interlacing.color\": \"#ffffff\"}} }, {\"duration\": 0.005});"
      ]
     },
     "metadata": {},
     "output_type": "display_data"
    },
    {
     "data": {
      "application/javascript": [
       "window.ipyvizzu.animate(element, '4a4ef33', '5a5157b', 'end', false, lib => { return {\"data\": {\"filter\": record => { return (parseInt(record.Year) >= 1989 || record.Year == '1972') }}, \"config\": {\"split\": true}, \"style\": {\"plot.xAxis.interlacing.color\": \"#ffffff\"}} }, {\"duration\": 0.005});"
      ]
     },
     "metadata": {},
     "output_type": "display_data"
    },
    {
     "data": {
      "application/javascript": [
       "window.ipyvizzu.animate(element, '4a4ef33', '4840055', 'end', false, lib => { return {\"data\": {\"filter\": record => { return (parseInt(record.Year) >= 1988 || record.Year == '1972') }}, \"config\": {\"split\": true}, \"style\": {\"plot.xAxis.interlacing.color\": \"#ffffff\"}} }, {\"duration\": 0.005});"
      ]
     },
     "metadata": {},
     "output_type": "display_data"
    },
    {
     "data": {
      "application/javascript": [
       "window.ipyvizzu.animate(element, '4a4ef33', '114683c', 'end', false, lib => { return {\"data\": {\"filter\": record => { return (parseInt(record.Year) >= 1987 || record.Year == '1972') }}, \"config\": {\"split\": true}, \"style\": {\"plot.xAxis.interlacing.color\": \"#ffffff\"}} }, {\"duration\": 0.005});"
      ]
     },
     "metadata": {},
     "output_type": "display_data"
    },
    {
     "data": {
      "application/javascript": [
       "window.ipyvizzu.animate(element, '4a4ef33', '6de51ac', 'end', false, lib => { return {\"data\": {\"filter\": record => { return (parseInt(record.Year) >= 1986 || record.Year == '1972') }}, \"config\": {\"split\": true}, \"style\": {\"plot.xAxis.interlacing.color\": \"#ffffff\"}} }, {\"duration\": 0.005});"
      ]
     },
     "metadata": {},
     "output_type": "display_data"
    },
    {
     "data": {
      "application/javascript": [
       "window.ipyvizzu.animate(element, '4a4ef33', '4cc5d65', 'end', false, lib => { return {\"data\": {\"filter\": record => { return (parseInt(record.Year) >= 1985 || record.Year == '1972') }}, \"config\": {\"split\": true}, \"style\": {\"plot.xAxis.interlacing.color\": \"#ffffff\"}} }, {\"duration\": 0.005});"
      ]
     },
     "metadata": {},
     "output_type": "display_data"
    },
    {
     "data": {
      "application/javascript": [
       "window.ipyvizzu.animate(element, '4a4ef33', '0a96269', 'end', false, lib => { return {\"data\": {\"filter\": record => { return (parseInt(record.Year) >= 1984 || record.Year == '1972') }}, \"config\": {\"split\": true}, \"style\": {\"plot.xAxis.interlacing.color\": \"#ffffff\"}} }, {\"duration\": 0.005});"
      ]
     },
     "metadata": {},
     "output_type": "display_data"
    },
    {
     "data": {
      "application/javascript": [
       "window.ipyvizzu.animate(element, '4a4ef33', '8a1776f', 'end', false, lib => { return {\"data\": {\"filter\": record => { return (parseInt(record.Year) >= 1983 || record.Year == '1972') }}, \"config\": {\"split\": true}, \"style\": {\"plot.xAxis.interlacing.color\": \"#ffffff\"}} }, {\"duration\": 0.005});"
      ]
     },
     "metadata": {},
     "output_type": "display_data"
    },
    {
     "data": {
      "application/javascript": [
       "window.ipyvizzu.animate(element, '4a4ef33', 'e5fe0d6', 'end', false, lib => { return {\"data\": {\"filter\": record => { return (parseInt(record.Year) >= 1982 || record.Year == '1972') }}, \"config\": {\"split\": true}, \"style\": {\"plot.xAxis.interlacing.color\": \"#ffffff\"}} }, {\"duration\": 0.005});"
      ]
     },
     "metadata": {},
     "output_type": "display_data"
    },
    {
     "data": {
      "application/javascript": [
       "window.ipyvizzu.animate(element, '4a4ef33', '28cd162', 'end', false, lib => { return {\"data\": {\"filter\": record => { return (parseInt(record.Year) >= 1981 || record.Year == '1972') }}, \"config\": {\"split\": true}, \"style\": {\"plot.xAxis.interlacing.color\": \"#ffffff\"}} }, {\"duration\": 0.005});"
      ]
     },
     "metadata": {},
     "output_type": "display_data"
    },
    {
     "data": {
      "application/javascript": [
       "window.ipyvizzu.animate(element, '4a4ef33', '12eb73c', 'end', false, lib => { return {\"data\": {\"filter\": record => { return (parseInt(record.Year) >= 1980 || record.Year == '1972') }}, \"config\": {\"split\": true}, \"style\": {\"plot.xAxis.interlacing.color\": \"#ffffff\"}} }, {\"duration\": 0.005});"
      ]
     },
     "metadata": {},
     "output_type": "display_data"
    },
    {
     "data": {
      "application/javascript": [
       "window.ipyvizzu.animate(element, '4a4ef33', '7893cdc', 'end', false, lib => { return {\"data\": {\"filter\": record => { return (parseInt(record.Year) >= 1979 || record.Year == '1972') }}, \"config\": {\"split\": true}, \"style\": {\"plot.xAxis.interlacing.color\": \"#ffffff\"}} }, {\"duration\": 0.005});"
      ]
     },
     "metadata": {},
     "output_type": "display_data"
    },
    {
     "data": {
      "application/javascript": [
       "window.ipyvizzu.animate(element, '4a4ef33', '27f6fbe', 'end', false, lib => { return {\"data\": {\"filter\": record => { return (parseInt(record.Year) >= 1978 || record.Year == '1972') }}, \"config\": {\"split\": true}, \"style\": {\"plot.xAxis.interlacing.color\": \"#ffffff\"}} }, {\"duration\": 0.005});"
      ]
     },
     "metadata": {},
     "output_type": "display_data"
    },
    {
     "data": {
      "application/javascript": [
       "window.ipyvizzu.animate(element, '4a4ef33', 'd9bf5d4', 'end', false, lib => { return {\"data\": {\"filter\": record => { return (parseInt(record.Year) >= 1977 || record.Year == '1972') }}, \"config\": {\"split\": true}, \"style\": {\"plot.xAxis.interlacing.color\": \"#ffffff\"}} }, {\"duration\": 0.005});"
      ]
     },
     "metadata": {},
     "output_type": "display_data"
    },
    {
     "data": {
      "application/javascript": [
       "window.ipyvizzu.animate(element, '4a4ef33', '0cc36e0', 'end', false, lib => { return {\"data\": {\"filter\": record => { return (parseInt(record.Year) >= 1976 || record.Year == '1972') }}, \"config\": {\"split\": true}, \"style\": {\"plot.xAxis.interlacing.color\": \"#ffffff\"}} }, {\"duration\": 0.005});"
      ]
     },
     "metadata": {},
     "output_type": "display_data"
    },
    {
     "data": {
      "application/javascript": [
       "window.ipyvizzu.animate(element, '4a4ef33', 'bfc87c4', 'end', false, lib => { return {\"data\": {\"filter\": record => { return (parseInt(record.Year) >= 1975 || record.Year == '1972') }}, \"config\": {\"split\": true}, \"style\": {\"plot.xAxis.interlacing.color\": \"#ffffff\"}} }, {\"duration\": 0.005});"
      ]
     },
     "metadata": {},
     "output_type": "display_data"
    },
    {
     "data": {
      "application/javascript": [
       "window.ipyvizzu.animate(element, '4a4ef33', '938fd80', 'end', false, lib => { return {\"data\": {\"filter\": record => { return (parseInt(record.Year) >= 1974 || record.Year == '1972') }}, \"config\": {\"split\": true}, \"style\": {\"plot.xAxis.interlacing.color\": \"#ffffff\"}} }, {\"duration\": 0.005});"
      ]
     },
     "metadata": {},
     "output_type": "display_data"
    },
    {
     "data": {
      "application/javascript": [
       "window.ipyvizzu.animate(element, '4a4ef33', 'a46987c', 'end', false, lib => { return {\"data\": {\"filter\": record => { return (parseInt(record.Year) >= 1973 || record.Year == '1972') }}, \"config\": {\"split\": true}, \"style\": {\"plot.xAxis.interlacing.color\": \"#ffffff\"}} }, {\"duration\": 0.005});"
      ]
     },
     "metadata": {},
     "output_type": "display_data"
    },
    {
     "data": {
      "application/javascript": [
       "window.ipyvizzu.animate(element, '4a4ef33', 'b913016', 'end', false, lib => { return {\"data\": {\"filter\": record => { return (record.Year != '1972') }}, \"config\": {\"split\": false}} }, {\"duration\": 1.5});"
      ]
     },
     "metadata": {},
     "output_type": "display_data"
    },
    {
     "data": {
      "application/javascript": [
       "window.ipyvizzu.animate(element, '4a4ef33', '810ebdb', 'end', false, lib => { return {\"config\": {\"channels\": {\"x\": {\"detach\": [\"Year\"]}}}} }, {\"duration\": 0});"
      ]
     },
     "metadata": {},
     "output_type": "display_data"
    },
    {
     "data": {
      "application/javascript": [
       "window.ipyvizzu.animate(element, '4a4ef33', '3e7e295', 'end', false, lib => { return {\"config\": {\"channels\": {\"label\": {\"set\": [\"Revenue [m$]\"]}}}} }, {\"duration\": 0.1});"
      ]
     },
     "metadata": {},
     "output_type": "display_data"
    },
    {
     "data": {
      "application/javascript": [
       "window.ipyvizzu.animate(element, '4a4ef33', 'fbe4b41', 'end', false, lib => { return {\"config\": {\"channels\": {\"x\": {\"attach\": [\"Year\"]}, \"label\": {\"detach\": [\"Revenue [m$]\"]}}}} }, {\"duration\": 1});"
      ]
     },
     "metadata": {},
     "output_type": "display_data"
    },
    {
     "data": {
      "application/javascript": [
       "window.ipyvizzu.animate(element, '4a4ef33', '4681834', 'end', false, lib => { return {\"config\": {\"channels\": {\"x\": {\"set\": [\"Year\"]}, \"y\": {\"set\": [\"Revenue [m$]\", \"Format\"], \"range\": {\"min\": null, \"max\": null}}, \"color\": {\"set\": [\"Format\"]}}, \"title\": \"Ingresos de la M\\u00fasica por Formato en los EE. UU. 1973 - 2020\", \"split\": true}, \"style\": {\"plot\": {\"paddingLeft\": 7.5, \"paddingTop\": 25, \"xAxis\": {\"label\": {\"fontSize\": 9, \"angle\": 2.0, \"color\": \"#8e8e8e\"}}, \"yAxis\": {\"interlacing\": {\"color\": \"#ffffff00\"}, \"title\": {\"color\": \"#ffffff00\"}, \"label\": {\"color\": \"#ffffff00\"}}}}} }, {\"duration\": 2});"
      ]
     },
     "metadata": {},
     "output_type": "display_data"
    },
    {
     "data": {
      "application/javascript": [
       "window.ipyvizzu.animate(element, '4a4ef33', 'deafc57', 'end', false, lib => { return {\"config\": {\"geometry\": \"area\"}} }, {\"duration\": 1});"
      ]
     },
     "metadata": {},
     "output_type": "display_data"
    },
    {
     "data": {
      "application/javascript": [
       "window.ipyvizzu.animate(element, '4a4ef33', 'fb945f7', 'end', false, lib => { return {\"config\": {\"channels\": {\"x\": {\"set\": [\"Year\"]}, \"y\": {\"range\": {\"max\": \"110%\"}}}, \"align\": \"center\", \"split\": false}, \"style\": {\"plot.marker.borderWidth\": 1}} }, {\"duration\": 1});"
      ]
     },
     "metadata": {},
     "output_type": "display_data"
    }
   ],
   "source": [
    "import pandas as pd  # Importamos la librería pandas para trabajar con datos tabulares\n",
    "from ipyvizzu import Chart, Data, Config, Style, DisplayTarget  # Importamos las clases necesarias de ipyvizzu\n",
    "\n",
    "# Cargamos los datos desde un archivo CSV en un DataFrame\n",
    "df = pd.read_csv(\n",
    "    \"https://ipyvizzu.vizzuhq.com/0.16/showcases/musicformats/musicformats.csv\",\n",
    "    dtype={\"Year\": str},  # Especificamos el tipo de dato para la columna \"Year\"\n",
    ")\n",
    "\n",
    "data = Data()  # Creamos un objeto Data para manejar los datos\n",
    "data.add_df(df)  # Agregamos el DataFrame al objeto Data\n",
    "\n",
    "# Configuración inicial para los canales de la gráfica\n",
    "config = {\n",
    "    \"channels\": {\n",
    "        \"y\": {\"set\": [\"Format\"]},\n",
    "        \"x\": {\"set\": [\"Revenue [m$]\"]},\n",
    "        \"label\": {\"set\": [\"Revenue [m$]\"]},\n",
    "        \"color\": {\"set\": [\"Format\"]},\n",
    "    },\n",
    "    \"sort\": \"byValue\",  # Ordenar los elementos por valor\n",
    "}\n",
    "\n",
    "style = Style(\n",
    "    {\n",
    "        \"plot\": {\n",
    "            \"paddingLeft\": 100,\n",
    "            \"paddingTop\": 25,\n",
    "            \"yAxis\": {\n",
    "                \"color\": \"#ffffff00\",\n",
    "                \"label\": {\"paddingRight\": 10},\n",
    "            },\n",
    "            \"xAxis\": {\n",
    "                \"title\": {\"color\": \"#ffffff00\"},\n",
    "                \"label\": {\n",
    "                    \"color\": \"#ffffff00\",\n",
    "                    \"numberFormat\": \"grouped\",  # Formato numérico agrupado\n",
    "                },\n",
    "            },\n",
    "            \"marker\": {\n",
    "                \"colorPalette\": \"#b74c20FF #c47f58FF #1c9761FF\"\n",
    "                + \" #ea4549FF #875792FF #3562b6FF\"\n",
    "                + \" #ee7c34FF #efae3aFF\",  # Paleta de colores para los marcadores\n",
    "            },\n",
    "        },\n",
    "    }\n",
    ")\n",
    "\n",
    "# Crear un objeto Chart con DisplayTarget.END (mostrar al final)\n",
    "chart = Chart(display=DisplayTarget.END)\n",
    "\n",
    "# Animamos la gráfica utilizando los datos y el estilo\n",
    "chart.animate(data, style)\n",
    "\n",
    "# Crear una animación por cada año desde 1973 hasta 2020\n",
    "for year in range(1973, 2021):\n",
    "    config[\"title\"] = f\"Ingresos de la Música por Formato - Año a Año {year}\"\n",
    "    chart.animate(\n",
    "        Data.filter(f\"parseInt(record.Year) == {year}\"),  # Filtrar por año\n",
    "        Config(config),\n",
    "        duration=0.2,\n",
    "        x={\"easing\": \"linear\", \"delay\": 0},\n",
    "        y={\"delay\": 0},\n",
    "        show={\"delay\": 0},\n",
    "        hide={\"delay\": 0},\n",
    "        title={\"duration\": 0, \"delay\": 0},\n",
    "    )\n",
    "\n",
    "# Otras animaciones y configuraciones\n",
    "chart.animate(\n",
    "    Config(\n",
    "        {\n",
    "            \"channels\": {\n",
    "                \"x\": {\"attach\": [\"Year\"]},  # Adjuntar \"Year\" al eje X\n",
    "                \"label\": {\"set\": None},  # Eliminar las etiquetas del eje Y\n",
    "            }\n",
    "        }\n",
    "    ),\n",
    "    duration=0.3,\n",
    ")\n",
    "\n",
    "chart.animate(\n",
    "    Data.filter(\"record.Year == '2020' || record.Year == '1972'\"),  # Filtrar por años específicos\n",
    "    Config({\"title\": \"Veamos el total de los últimos 47 años\"}),\n",
    "    duration=2,\n",
    ")\n",
    "\n",
    "# Más animaciones y configuraciones\n",
    "chart.animate(Config({\"sort\": \"none\"}), delay=0, duration=2)\n",
    "\n",
    "for year in reversed(range(1973, 2020)):\n",
    "    chart.animate(\n",
    "        Data.filter(\n",
    "            f\"parseInt(record.Year) >= {year} || record.Year == '1972'\"\n",
    "        ),  # Filtrar por años específicos\n",
    "        Config({\"split\": True}),\n",
    "        Style({\"plot.xAxis.interlacing.color\": \"#ffffff\"}),\n",
    "        duration=0.005,\n",
    "    )\n",
    "\n",
    "chart.animate(\n",
    "    Data.filter(\"record.Year != '1972'\"),\n",
    "    Config({\"split\": False}),\n",
    "    duration=1.5,\n",
    ")\n",
    "\n",
    "chart.animate(Config({\"channels\": {\"x\": {\"detach\": [\"Year\"]}}}), duration=0)\n",
    "\n",
    "chart.animate(\n",
    "    Config({\"channels\": {\"label\": {\"set\": [\"Revenue [m$]\"]}}}),\n",
    "    duration=0.1,\n",
    ")\n",
    "\n",
    "chart.animate(\n",
    "    Config(\n",
    "        {\n",
    "            \"channels\": {\n",
    "                \"x\": {\"attach\": [\"Year\"]},\n",
    "                \"label\": {\"detach\": [\"Revenue [m$]\"]},\n",
    "            }\n",
    "        }\n",
    "    ),\n",
    "    duration=1,\n",
    ")\n",
    "\n",
    "chart.animate(\n",
    "    Config(\n",
    "        {\n",
    "            \"channels\": {\n",
    "                \"x\": {\"set\": [\"Year\"]},\n",
    "                \"y\": {\n",
    "                    \"set\": [\"Revenue [m$]\", \"Format\"],\n",
    "                    \"range\": {\"min\": None, \"max\": None},\n",
    "                },\n",
    "                \"color\": {\"set\": [\"Format\"]},\n",
    "            },\n",
    "            \"title\": \"Ingresos de la Música por Formato en los EE. UU. 1973 - 2020\",\n",
    "            \"split\": True,\n",
    "        }\n",
    "    ),\n",
    "    Style(\n",
    "        {\n",
    "            \"plot\": {\n",
    "                \"paddingLeft\": 7.5,\n",
    "                \"paddingTop\": 25,\n",
    "                \"xAxis\": {\n",
    "                    \"label\": {\n",
    "                        \"fontSize\": 9,\n",
    "                        \"angle\": 2.0,\n",
    "                        \"color\": \"#8e8e8e\",\n",
    "                    }\n",
    "                },\n",
    "                \"yAxis\": {\n",
    "                    \"interlacing\": {\"color\": \"#ffffff00\"},\n",
    "                    \"title\": {\"color\": \"#ffffff00\"},\n",
    "                    \"label\": {\"color\": \"#ffffff00\"},\n",
    "                },\n",
    "            }\n",
    "        }\n",
    "    ),\n",
    "    duration=2,\n",
    ")\n",
    "\n",
    "chart.animate(Config({\"geometry\": \"area\"}), duration=1)\n",
    "\n",
    "chart.animate(\n",
    "    Config(\n",
    "        {\n",
    "            \"channels\": {\n",
    "                \"x\": {\"set\": [\"Year\"]},\n",
    "                \"y\": {\"range\": {\"max\": \"110%\"}},\n",
    "            },\n",
    "            \"align\": \"center\",\n",
    "            \"split\": False,\n",
    "        }\n",
    "    ),\n",
    "    Style({\"plot.marker.borderWidth\": 1}),\n",
    "    duration=1,\n",
    ")"
   ]
  }
 ],
 "metadata": {
  "kernelspec": {
   "display_name": "Python 3 (ipykernel)",
   "language": "python",
   "name": "python3"
  },
  "language_info": {
   "codemirror_mode": {
    "name": "ipython",
    "version": 3
   },
   "file_extension": ".py",
   "mimetype": "text/x-python",
   "name": "python",
   "nbconvert_exporter": "python",
   "pygments_lexer": "ipython3",
   "version": "3.8.10"
  }
 },
 "nbformat": 4,
 "nbformat_minor": 5
}
